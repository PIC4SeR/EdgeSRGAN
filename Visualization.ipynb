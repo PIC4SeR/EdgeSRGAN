{
 "cells": [
  {
   "cell_type": "markdown",
   "id": "78bd8a17",
   "metadata": {},
   "source": [
    "# Visualize Fast-SRGAN Results"
   ]
  },
  {
   "cell_type": "code",
   "execution_count": 2,
   "id": "2b207f16",
   "metadata": {
    "ExecuteTime": {
     "end_time": "2022-07-18T08:43:32.443810Z",
     "start_time": "2022-07-18T08:43:30.370357Z"
    }
   },
   "outputs": [],
   "source": [
    "from pathlib import Path\n",
    "import os\n",
    "from os import listdir\n",
    "from os.path import isfile, join\n",
    "\n",
    "from PIL import Image\n",
    "import matplotlib.pyplot as plt \n",
    "   \n",
    "import math\n",
    "import numpy as np\n",
    "import tensorflow as tf\n",
    "\n",
    "from utils.srgan_tools import resolve_single\n",
    "from utils.srgan import generator\n",
    "from utils.niqe import niqe\n",
    "from utils.tools import load_image, plot_sample\n",
    "from skimage.metrics import structural_similarity\n",
    "\n",
    "#import lpips\n",
    "import torch"
   ]
  },
  {
   "cell_type": "code",
   "execution_count": 3,
   "id": "c226e999",
   "metadata": {
    "ExecuteTime": {
     "end_time": "2022-07-18T08:43:36.564092Z",
     "start_time": "2022-07-18T08:43:36.488704Z"
    }
   },
   "outputs": [
    {
     "name": "stderr",
     "output_type": "stream",
     "text": [
      "2022-07-19 16:59:55.088072: I tensorflow/stream_executor/cuda/cuda_gpu_executor.cc:975] successful NUMA node read from SysFS had negative value (-1), but there must be at least one NUMA node, so returning NUMA node zero\n",
      "2022-07-19 16:59:55.093314: I tensorflow/stream_executor/cuda/cuda_gpu_executor.cc:975] successful NUMA node read from SysFS had negative value (-1), but there must be at least one NUMA node, so returning NUMA node zero\n",
      "2022-07-19 16:59:55.093432: I tensorflow/stream_executor/cuda/cuda_gpu_executor.cc:975] successful NUMA node read from SysFS had negative value (-1), but there must be at least one NUMA node, so returning NUMA node zero\n"
     ]
    }
   ],
   "source": [
    "%matplotlib inline\n",
    "%load_ext autoreload\n",
    "%autoreload 2\n",
    "\n",
    "#os.environ['CUDA_VISIBLE_DEVICES'] = '-1'\n",
    "gpus = tf.config.experimental.list_physical_devices('GPU')\n",
    "tf.config.experimental.set_visible_devices(gpus[0], 'GPU')\n",
    "tf.config.experimental.set_memory_growth(gpus[0], True)"
   ]
  },
  {
   "cell_type": "code",
   "execution_count": 4,
   "id": "6905a71d",
   "metadata": {
    "ExecuteTime": {
     "end_time": "2022-07-18T08:43:42.986923Z",
     "start_time": "2022-07-18T08:43:42.968105Z"
    }
   },
   "outputs": [],
   "source": [
    "image_size = (160,120,3)\n",
    "\n",
    "weights_path = Path('weights/srgan/')\n",
    "\n",
    "images_path = Path('demo/')\n",
    "test5_path = Path('demo/set5/Set5/')\n",
    "\n",
    "fontsize = 32\n",
    "patch_size = 80"
   ]
  },
  {
   "cell_type": "code",
   "execution_count": 5,
   "id": "306d535a",
   "metadata": {
    "ExecuteTime": {
     "end_time": "2022-07-18T09:40:33.833279Z",
     "start_time": "2022-07-18T09:40:33.808686Z"
    }
   },
   "outputs": [
    {
     "ename": "FileNotFoundError",
     "evalue": "[Errno 2] No such file or directory: 'weights/srgan'",
     "output_type": "error",
     "traceback": [
      "\u001b[0;31m---------------------------------------------------------------------------\u001b[0m",
      "\u001b[0;31mFileNotFoundError\u001b[0m                         Traceback (most recent call last)",
      "Input \u001b[0;32mIn [5]\u001b[0m, in \u001b[0;36m<cell line: 1>\u001b[0;34m()\u001b[0m\n\u001b[0;32m----> 1\u001b[0m w_list \u001b[38;5;241m=\u001b[39m \u001b[38;5;28msorted\u001b[39m([f \u001b[38;5;28;01mfor\u001b[39;00m f \u001b[38;5;129;01min\u001b[39;00m \u001b[43mlistdir\u001b[49m\u001b[43m(\u001b[49m\u001b[43mweights_path\u001b[49m\u001b[43m)\u001b[49m \n\u001b[1;32m      2\u001b[0m            \u001b[38;5;28;01mif\u001b[39;00m isfile(join(weights_path, f)) \n\u001b[1;32m      3\u001b[0m            \u001b[38;5;129;01mand\u001b[39;00m \u001b[38;5;124m'\u001b[39m\u001b[38;5;124mgan\u001b[39m\u001b[38;5;124m'\u001b[39m \u001b[38;5;129;01min\u001b[39;00m f\n\u001b[1;32m      4\u001b[0m            \u001b[38;5;129;01mand\u001b[39;00m \u001b[38;5;124m'\u001b[39m\u001b[38;5;124mtiny_prelu\u001b[39m\u001b[38;5;124m'\u001b[39m \u001b[38;5;129;01min\u001b[39;00m f])\n\u001b[1;32m      6\u001b[0m w_list\u001b[38;5;241m.\u001b[39minsert(\u001b[38;5;241m0\u001b[39m,\u001b[38;5;124m'\u001b[39m\u001b[38;5;124mpre_generator_tiny_prelu.h5\u001b[39m\u001b[38;5;124m'\u001b[39m)\n\u001b[1;32m      8\u001b[0m \u001b[38;5;28;01mwith\u001b[39;00m \u001b[38;5;28mopen\u001b[39m(\u001b[38;5;124m'\u001b[39m\u001b[38;5;124mweights/bad_weights.txt\u001b[39m\u001b[38;5;124m'\u001b[39m, \u001b[38;5;124m'\u001b[39m\u001b[38;5;124mr\u001b[39m\u001b[38;5;124m'\u001b[39m) \u001b[38;5;28;01mas\u001b[39;00m fp:\n",
      "\u001b[0;31mFileNotFoundError\u001b[0m: [Errno 2] No such file or directory: 'weights/srgan'"
     ]
    }
   ],
   "source": [
    "w_list = sorted([f for f in listdir(weights_path) \n",
    "           if isfile(join(weights_path, f)) \n",
    "           and 'gan' in f\n",
    "           and 'tiny_prelu' in f])\n",
    "\n",
    "w_list.insert(0,'pre_generator_tiny_prelu.h5')\n",
    "\n",
    "with open('weights/bad_weights.txt', 'r') as fp:\n",
    "    for line in fp:\n",
    "        w_list.remove(line[:-1])\n",
    "\n",
    "i_list = [str(images_path.joinpath(f)) for f in listdir(images_path) \n",
    "          if isfile(join(images_path, f)) \n",
    "          and f.startswith('0')\n",
    "          and 'sr' not in f]\n",
    "\n",
    "set5 = [str(test5_path.joinpath(f)) for f in listdir(test5_path) \n",
    "        if isfile(join(test5_path, f))\n",
    "        and 'sr' not in f]\n",
    "\n",
    "i_list = [*i_list, *set5]"
   ]
  },
  {
   "cell_type": "markdown",
   "id": "163987be",
   "metadata": {},
   "source": [
    "# New heading"
   ]
  },
  {
   "cell_type": "code",
   "execution_count": null,
   "id": "c4029e62",
   "metadata": {
    "ExecuteTime": {
     "end_time": "2022-07-18T09:40:34.811456Z",
     "start_time": "2022-07-18T09:40:34.786149Z"
    }
   },
   "outputs": [],
   "source": [
    "w_list"
   ]
  },
  {
   "cell_type": "code",
   "execution_count": null,
   "id": "d0bf9283",
   "metadata": {
    "ExecuteTime": {
     "end_time": "2022-07-18T09:40:39.121983Z",
     "start_time": "2022-07-18T09:40:39.097898Z"
    }
   },
   "outputs": [],
   "source": [
    "i_list"
   ]
  },
  {
   "cell_type": "code",
   "execution_count": null,
   "id": "45897671",
   "metadata": {
    "ExecuteTime": {
     "end_time": "2022-07-18T09:40:39.556578Z",
     "start_time": "2022-07-18T09:40:39.415645Z"
    },
    "code_folding": []
   },
   "outputs": [],
   "source": [
    "model = generator(num_filters=32, \n",
    "                  num_res_blocks=4, \n",
    "                  shape=(image_size), \n",
    "                  batch_size=1, \n",
    "                  batch_norm=False, \n",
    "                  activation='relu',\n",
    "                  upsampling='TransposeConv')"
   ]
  },
  {
   "cell_type": "code",
   "execution_count": null,
   "id": "20594ec2",
   "metadata": {
    "ExecuteTime": {
     "end_time": "2022-07-18T09:40:39.691303Z",
     "start_time": "2022-07-18T09:40:39.669972Z"
    }
   },
   "outputs": [],
   "source": [
    "#loss_fn_alex = lpips.LPIPS(net='vgg').cuda() # best forward scores"
   ]
  },
  {
   "cell_type": "code",
   "execution_count": null,
   "id": "aaaa5a29",
   "metadata": {
    "ExecuteTime": {
     "end_time": "2022-07-18T09:40:40.160939Z",
     "start_time": "2022-07-18T09:40:40.135423Z"
    },
    "code_folding": []
   },
   "outputs": [],
   "source": [
    "def multiplot_samples(lr, hr, srs, psnr, niqes, ssims, lps, w_list):\n",
    "\n",
    "    srs.insert(0,hr)   \n",
    "    srs.insert(0,lr)   \n",
    "    \n",
    "    C = 3\n",
    "    N = len(srs)\n",
    "    R = math.ceil(N/C)\n",
    "    Py = [lr.shape[1]//2 - patch_size//2, lr.shape[1]//2 + patch_size//2]\n",
    "    Px = [lr.shape[0]//2 - patch_size//2, lr.shape[0]//2 + patch_size//2]\n",
    "    \n",
    "    fig, axs = plt.subplots(R, C, figsize=(50,50))\n",
    "    \n",
    "    for i, img in enumerate(srs):\n",
    "        ax = axs.flat[i]\n",
    "        ax.imshow(img)\n",
    "        ax.axis('off')\n",
    "        \n",
    "        if i is 0:\n",
    "            ax.set_title('[LR]', fontsize=32)\n",
    "            ax.set_xlim(Px)\n",
    "            ax.set_ylim(Py)\n",
    "            ax.set_ylim(ax.get_ylim()[::-1])\n",
    "        \n",
    "        elif i is 1:\n",
    "            ax.set_title('[HR]', fontsize=32)\n",
    "            ax.set_xlim([x*4 for x in Px])\n",
    "            ax.set_ylim([x*4 for x in Py])\n",
    "            ax.set_ylim(ax.get_ylim()[::-1])\n",
    "            \n",
    "        else:\n",
    "            ax.set_title(\n",
    "                f'[SR {i-2}]\\\n",
    "                ({w_list[i-2].split(\"gridsearch_\")[-1]})\\nPSNR:{psnr[i-2]:.2f} NIQE:{niqes[i-2]:.2f} SSIM:{ssims[i-2]:.2f} LPIPS:{lps[i-2]:.2f}', fontsize=32)\n",
    "            ax.set_xlim([x*4 for x in Px])\n",
    "            ax.set_ylim([x*4 for x in Py])\n",
    "            ax.set_ylim(ax.get_ylim()[::-1])\n",
    "\n",
    "    fig.show()\n",
    "    w_list.pop(0)\n",
    "    #w_list.pop(-1)"
   ]
  },
  {
   "cell_type": "code",
   "execution_count": null,
   "id": "03a225f5",
   "metadata": {
    "ExecuteTime": {
     "end_time": "2022-07-18T09:40:40.517232Z",
     "start_time": "2022-07-18T09:40:40.491803Z"
    },
    "code_folding": []
   },
   "outputs": [],
   "source": [
    "def multipredict_sample(l, w_list):\n",
    "    \n",
    "    img = Image.open(l)\n",
    "    \n",
    "    hr = np.asarray(img.resize(tuple([i*4 for i in image_size[1::-1]])))\n",
    "    lr = np.asarray(img.resize(image_size[1::-1]))\n",
    "    \n",
    "    srgan = Image.open(l.split('.')[0] + '_sr.png')\n",
    "    srgan = np.asarray(srgan.resize(tuple([i*4 for i in image_size[1::-1]])))\n",
    "    \n",
    "    #lsrgan = Image.open(l.split('.')[0] + '_sr_large.png')\n",
    "    #lsrgan = np.asarray(srgan.resize(tuple([i*4 for i in image_size[1::-1]])))\n",
    "        \n",
    "    srs = []\n",
    "    psnr = []\n",
    "    niqes = []\n",
    "    ssims = []\n",
    "    lps = []\n",
    "    \n",
    "    srs.append(srgan)\n",
    "    #srs.append(lsrgan)\n",
    "    psnr, niqes, ssims, lps = evaluate(srs[-1], hr, psnr, niqes, ssims, lps)\n",
    "    \n",
    "    for weights in w_list: \n",
    "        #print(weights)\n",
    "        model.load_weights(weights_path.joinpath(weights))    \n",
    "        srs.append(model.predict(lr[None,...])[0].astype('uint8')[0])\n",
    "        \n",
    "        psnr, niqes, ssims, lps = evaluate(srs[-1], hr, psnr, niqes, ssims, lps)\n",
    "    \n",
    "    w_list.insert(0,'Original SRGAN') \n",
    "    #w_list.insert(-1,'Large SRGAN') \n",
    "        \n",
    "    multiplot_samples(lr, hr, srs, psnr, niqes, ssims, lps, w_list)"
   ]
  },
  {
   "cell_type": "code",
   "execution_count": null,
   "id": "a965ac74",
   "metadata": {
    "ExecuteTime": {
     "end_time": "2022-07-18T09:40:40.849859Z",
     "start_time": "2022-07-18T09:40:40.826675Z"
    },
    "code_folding": []
   },
   "outputs": [],
   "source": [
    "def evaluate(sr, hr, psnr, niqes, ssims, lps):\n",
    "    \n",
    "    psnr.append(PSNR(hr, sr))\n",
    "    niqes.append(niqe(sr))\n",
    "    ssims.append(structural_similarity(hr, sr, channel_axis=-1, multichannel=True))\n",
    "    lps.append(0)#float(loss_fn_alex(torch.from_numpy(np.swapaxes(hr,0,-1)).cuda(), \n",
    "                  #                torch.from_numpy(np.swapaxes(sr,0,-1)).cuda())))\n",
    "    \n",
    "    return psnr, niqes, ssims, lps"
   ]
  },
  {
   "cell_type": "code",
   "execution_count": null,
   "id": "dbc122e6",
   "metadata": {
    "ExecuteTime": {
     "end_time": "2022-07-18T09:40:41.430780Z",
     "start_time": "2022-07-18T09:40:41.409810Z"
    },
    "code_folding": []
   },
   "outputs": [],
   "source": [
    "def PSNR(original, compressed, max_pixel=255.0):\n",
    "    \n",
    "    mse = np.mean((original - compressed) ** 2)\n",
    "    if(mse == 0): return 100\n",
    "    psnr = 20 * math.log10(max_pixel / math.sqrt(mse))\n",
    "    return psnr"
   ]
  },
  {
   "cell_type": "code",
   "execution_count": null,
   "id": "d269bb57",
   "metadata": {
    "ExecuteTime": {
     "end_time": "2022-07-18T09:41:05.208138Z",
     "start_time": "2022-07-18T09:40:41.860875Z"
    },
    "scrolled": false
   },
   "outputs": [],
   "source": [
    "for i in i_list:\n",
    "    multipredict_sample(i, w_list)"
   ]
  },
  {
   "cell_type": "code",
   "execution_count": null,
   "id": "9dbea544",
   "metadata": {
    "ExecuteTime": {
     "end_time": "2022-07-07T15:30:50.487348Z",
     "start_time": "2022-07-07T15:30:50.458072Z"
    }
   },
   "outputs": [],
   "source": [
    "raise"
   ]
  },
  {
   "cell_type": "markdown",
   "id": "503aaa8c",
   "metadata": {
    "heading_collapsed": true
   },
   "source": [
    "# Remove Bad Weights"
   ]
  },
  {
   "cell_type": "code",
   "execution_count": null,
   "id": "160f2c3e",
   "metadata": {
    "ExecuteTime": {
     "end_time": "2022-07-07T09:00:09.212398Z",
     "start_time": "2022-07-07T08:58:38.739Z"
    },
    "hidden": true
   },
   "outputs": [],
   "source": [
    "indexes = []"
   ]
  },
  {
   "cell_type": "markdown",
   "id": "0ca19f01",
   "metadata": {
    "hidden": true
   },
   "source": [
    "## Remove Bad Weights from List"
   ]
  },
  {
   "cell_type": "code",
   "execution_count": null,
   "id": "e57bed4b",
   "metadata": {
    "ExecuteTime": {
     "end_time": "2022-07-07T09:00:09.212803Z",
     "start_time": "2022-07-07T08:58:38.741Z"
    },
    "hidden": true
   },
   "outputs": [],
   "source": [
    "with open('weights/bad_weights.txt', 'a') as fp:\n",
    "    for i in indexes:\n",
    "        fp.write(f'{w_list[i-1]}\\n')"
   ]
  },
  {
   "cell_type": "markdown",
   "id": "a58619a9",
   "metadata": {},
   "source": [
    "# Generate Standard SRGAN Outputs"
   ]
  },
  {
   "cell_type": "code",
   "execution_count": null,
   "id": "e3848c70",
   "metadata": {
    "ExecuteTime": {
     "end_time": "2022-07-07T09:00:09.213252Z",
     "start_time": "2022-07-07T08:58:38.742Z"
    }
   },
   "outputs": [],
   "source": [
    "def save_prediction(l, model):\n",
    "    \n",
    "    img = Image.open(l)\n",
    "    shape = tuple(t//4 for t in img.size)\n",
    "    lr = np.asarray(img.resize(shape))\n",
    "    print(lr.shape)\n",
    "    pred = model.predict(lr[None,...]).astype('uint8')[0]\n",
    "    im = Image.fromarray(pred)\n",
    "    im.save(l.split('.')[0] + '_sr.png')"
   ]
  },
  {
   "cell_type": "code",
   "execution_count": null,
   "id": "01c5e835",
   "metadata": {
    "ExecuteTime": {
     "end_time": "2022-07-07T09:00:09.213683Z",
     "start_time": "2022-07-07T08:58:38.742Z"
    }
   },
   "outputs": [],
   "source": [
    "model = generator_old(num_filters=64, num_res_blocks=16)\n",
    "model.load_weights(weights_path.joinpath('../gan_generator.h5')) "
   ]
  },
  {
   "cell_type": "code",
   "execution_count": null,
   "id": "28a19f77",
   "metadata": {
    "ExecuteTime": {
     "end_time": "2022-07-07T09:00:09.214083Z",
     "start_time": "2022-07-07T08:58:38.743Z"
    }
   },
   "outputs": [],
   "source": [
    "for i in i_list:\n",
    "    print(i)\n",
    "    # save_prediction(i, model)"
   ]
  },
  {
   "cell_type": "markdown",
   "id": "4612b44f",
   "metadata": {
    "heading_collapsed": true
   },
   "source": [
    "# Generate RDN Outputs"
   ]
  },
  {
   "cell_type": "code",
   "execution_count": null,
   "id": "4e2b2661",
   "metadata": {
    "ExecuteTime": {
     "end_time": "2022-07-07T09:00:09.214485Z",
     "start_time": "2022-07-07T08:58:38.745Z"
    },
    "hidden": true
   },
   "outputs": [],
   "source": [
    "import tensorflow_hub as hub\n",
    "import tensorflow as tf\n",
    "\n",
    "model = hub.load(\"https://tfhub.dev/captain-pool/esrgan-tf2/1\")"
   ]
  },
  {
   "cell_type": "code",
   "execution_count": null,
   "id": "9d579699",
   "metadata": {
    "ExecuteTime": {
     "end_time": "2022-07-07T09:00:09.214924Z",
     "start_time": "2022-07-07T08:58:38.746Z"
    },
    "hidden": true
   },
   "outputs": [],
   "source": [
    "def save_prediction(l, model):\n",
    "    \n",
    "    img = Image.open(l)\n",
    "    shape = tuple(t//4 for t in img.size)\n",
    "    lr = np.asarray(img.resize(shape))\n",
    "    lr_img = tf.cast(lr[None], tf.float32)\n",
    "    pred = model(lr_img).numpy()[0].astype('uint8')\n",
    "    im = Image.fromarray(pred)\n",
    "    im.save(l.split('.')[0] + '_sr_rdn.png')"
   ]
  },
  {
   "cell_type": "code",
   "execution_count": null,
   "id": "6f618e2e",
   "metadata": {
    "ExecuteTime": {
     "end_time": "2022-07-07T09:00:09.215500Z",
     "start_time": "2022-07-07T08:58:38.747Z"
    },
    "hidden": true
   },
   "outputs": [],
   "source": [
    "for i in i_list:\n",
    "    print(i)\n",
    "    #save_prediction(i, model)"
   ]
  },
  {
   "cell_type": "markdown",
   "id": "a05f5099",
   "metadata": {
    "heading_collapsed": true
   },
   "source": [
    "# Generate Large SRGAN Outputs"
   ]
  },
  {
   "cell_type": "code",
   "execution_count": 8,
   "id": "f9911a7e",
   "metadata": {
    "ExecuteTime": {
     "end_time": "2022-07-07T09:00:09.215973Z",
     "start_time": "2022-07-07T08:58:38.748Z"
    },
    "hidden": true
   },
   "outputs": [],
   "source": [
    "def save_prediction(l, model):\n",
    "    \n",
    "    img = Image.open(l)\n",
    "    shape = tuple(t//4 for t in img.size)\n",
    "    lr = np.asarray(img.resize(shape))\n",
    "    print(lr.shape)\n",
    "    pred = model.predict(lr[None,...]).astype('uint8')[0]\n",
    "    im = Image.fromarray(pred)\n",
    "    im.save(l.split('.')[0] + '_sr_large.png')"
   ]
  },
  {
   "cell_type": "code",
   "execution_count": 7,
   "id": "599462d6",
   "metadata": {
    "ExecuteTime": {
     "end_time": "2022-07-07T09:00:09.216508Z",
     "start_time": "2022-07-07T08:58:38.748Z"
    },
    "hidden": true
   },
   "outputs": [],
   "source": [
    "model = generator(scale=4,\n",
    "                  num_filters=128,\n",
    "                  num_res_blocks=16,\n",
    "                  batch_norm=False,\n",
    "                  activation='relu',\n",
    "                  upsampling='TransposeConv')\n",
    "\n",
    "#model.load_weights(weights_path.joinpath('gan_generator_large.h5')) "
   ]
  },
  {
   "cell_type": "code",
   "execution_count": 9,
   "id": "f048683a",
   "metadata": {
    "ExecuteTime": {
     "end_time": "2022-07-07T09:00:09.216987Z",
     "start_time": "2022-07-07T08:58:38.749Z"
    },
    "collapsed": true,
    "hidden": true
   },
   "outputs": [
    {
     "ename": "NameError",
     "evalue": "name 'i_list' is not defined",
     "output_type": "error",
     "traceback": [
      "\u001b[0;31m---------------------------------------------------------------------------\u001b[0m",
      "\u001b[0;31mNameError\u001b[0m                                 Traceback (most recent call last)",
      "Input \u001b[0;32mIn [9]\u001b[0m, in \u001b[0;36m<cell line: 1>\u001b[0;34m()\u001b[0m\n\u001b[0;32m----> 1\u001b[0m \u001b[38;5;28;01mfor\u001b[39;00m i \u001b[38;5;129;01min\u001b[39;00m \u001b[43mi_list\u001b[49m:\n\u001b[1;32m      2\u001b[0m     \u001b[38;5;28mprint\u001b[39m(i)\n\u001b[1;32m      3\u001b[0m     save_prediction(i, model)\n",
      "\u001b[0;31mNameError\u001b[0m: name 'i_list' is not defined"
     ]
    }
   ],
   "source": [
    "for i in i_list:\n",
    "    print(i)\n",
    "    save_prediction(i, model)"
   ]
  },
  {
   "cell_type": "code",
   "execution_count": null,
   "id": "7b7a9d46",
   "metadata": {
    "ExecuteTime": {
     "end_time": "2022-07-07T09:00:09.217512Z",
     "start_time": "2022-07-07T08:58:38.750Z"
    },
    "hidden": true
   },
   "outputs": [],
   "source": [
    "s = 'ciao' \\\n",
    "    'ciao'"
   ]
  },
  {
   "cell_type": "code",
   "execution_count": null,
   "id": "aa3baf61",
   "metadata": {
    "ExecuteTime": {
     "end_time": "2022-07-07T09:00:09.218006Z",
     "start_time": "2022-07-07T08:58:38.751Z"
    },
    "hidden": true
   },
   "outputs": [],
   "source": [
    "s "
   ]
  },
  {
   "cell_type": "markdown",
   "id": "afb35cff",
   "metadata": {
    "heading_collapsed": true
   },
   "source": [
    "# LPIPS"
   ]
  },
  {
   "cell_type": "code",
   "execution_count": null,
   "id": "cdebe9d0",
   "metadata": {
    "ExecuteTime": {
     "end_time": "2022-07-07T09:00:09.218779Z",
     "start_time": "2022-07-07T08:58:38.752Z"
    },
    "hidden": true
   },
   "outputs": [],
   "source": [
    "import torch\n",
    "from torchvision import transforms\n",
    "from PIL import Image\n",
    "\n",
    "hr = Image.open('demo/0823x4-crop.jpeg')\n",
    "sr = Image.open('demo/0823x4-crop_sr.png')\n",
    "srl = Image.open('demo/0823x4-crop_sr_large.png')\n",
    "srq = Image.open('demo/0823x4-crop_sr_rdn.png')\n",
    "\n",
    "convert_tensor = transforms.ToTensor()\n",
    "hr = convert_tensor(hr)\n",
    "sr = convert_tensor(sr)\n",
    "srl = convert_tensor(srl)\n",
    "srq = convert_tensor(srq)"
   ]
  },
  {
   "cell_type": "code",
   "execution_count": null,
   "id": "9658353d",
   "metadata": {
    "ExecuteTime": {
     "end_time": "2022-07-07T09:00:09.219247Z",
     "start_time": "2022-07-07T08:58:38.753Z"
    },
    "hidden": true
   },
   "outputs": [],
   "source": [
    "hr.size(), sr.size(), srl.size(), srq.size()"
   ]
  },
  {
   "cell_type": "code",
   "execution_count": null,
   "id": "31ede737",
   "metadata": {
    "ExecuteTime": {
     "end_time": "2022-07-07T09:00:09.219753Z",
     "start_time": "2022-07-07T08:58:38.753Z"
    },
    "hidden": true
   },
   "outputs": [],
   "source": [
    "float(loss_fn_alex(hr, sr))"
   ]
  },
  {
   "cell_type": "markdown",
   "id": "indian-philadelphia",
   "metadata": {
    "heading_collapsed": true
   },
   "source": [
    "# Features from Model"
   ]
  },
  {
   "cell_type": "code",
   "execution_count": 10,
   "id": "brazilian-supplier",
   "metadata": {
    "ExecuteTime": {
     "end_time": "2022-07-07T15:23:38.162177Z",
     "start_time": "2022-07-07T15:23:38.160328Z"
    },
    "hidden": true
   },
   "outputs": [],
   "source": [
    "import numpy as np\n",
    "import tensorflow as tf\n",
    "from utils.srgan import generator "
   ]
  },
  {
   "cell_type": "code",
   "execution_count": 11,
   "id": "identified-progress",
   "metadata": {
    "ExecuteTime": {
     "end_time": "2022-07-07T15:23:38.611017Z",
     "start_time": "2022-07-07T15:23:38.422296Z"
    },
    "hidden": true
   },
   "outputs": [
    {
     "ename": "TypeError",
     "evalue": "Cannot iterate over a Tensor with unknown first dimension.",
     "output_type": "error",
     "traceback": [
      "\u001b[0;31m---------------------------------------------------------------------------\u001b[0m",
      "\u001b[0;31mTypeError\u001b[0m                                 Traceback (most recent call last)",
      "Input \u001b[0;32mIn [11]\u001b[0m, in \u001b[0;36m<cell line: 1>\u001b[0;34m()\u001b[0m\n\u001b[0;32m----> 1\u001b[0m m \u001b[38;5;241m=\u001b[39m \u001b[43mgenerator\u001b[49m\u001b[43m(\u001b[49m\u001b[43mnum_res_blocks\u001b[49m\u001b[38;5;241;43m=\u001b[39;49m\u001b[38;5;241;43m4\u001b[39;49m\u001b[43m,\u001b[49m\u001b[43m \u001b[49m\u001b[43mnum_filters\u001b[49m\u001b[38;5;241;43m=\u001b[39;49m\u001b[43m \u001b[49m\u001b[38;5;241;43m32\u001b[39;49m\u001b[43m,\u001b[49m\u001b[43m \u001b[49m\u001b[43mreturn_features\u001b[49m\u001b[38;5;241;43m=\u001b[39;49m\u001b[38;5;28;43;01mFalse\u001b[39;49;00m\u001b[43m)\u001b[49m\n",
      "File \u001b[0;32m~/sr-edge/utils/srgan.py:66\u001b[0m, in \u001b[0;36mgenerator\u001b[0;34m(scale, num_filters, num_res_blocks, shape, batch_size, activation, batch_norm, upsampling, return_features)\u001b[0m\n\u001b[1;32m     63\u001b[0m x \u001b[38;5;241m=\u001b[39m x_1 \u001b[38;5;241m=\u001b[39m get_activation(activation)(x)\n\u001b[1;32m     65\u001b[0m \u001b[38;5;28;01mfor\u001b[39;00m _ \u001b[38;5;129;01min\u001b[39;00m \u001b[38;5;28mrange\u001b[39m(num_res_blocks):\n\u001b[0;32m---> 66\u001b[0m     x, feats \u001b[38;5;241m=\u001b[39m res_block(x, num_filters, activation\u001b[38;5;241m=\u001b[39mactivation, batch_norm\u001b[38;5;241m=\u001b[39mbatch_norm, return_features\u001b[38;5;241m=\u001b[39mreturn_features)\n\u001b[1;32m     67\u001b[0m     features\u001b[38;5;241m.\u001b[39mappend(feats)\n\u001b[1;32m     69\u001b[0m x \u001b[38;5;241m=\u001b[39m tf\u001b[38;5;241m.\u001b[39mkeras\u001b[38;5;241m.\u001b[39mlayers\u001b[38;5;241m.\u001b[39mConv2D(num_filters, kernel_size\u001b[38;5;241m=\u001b[39m\u001b[38;5;241m3\u001b[39m, padding\u001b[38;5;241m=\u001b[39m\u001b[38;5;124m'\u001b[39m\u001b[38;5;124msame\u001b[39m\u001b[38;5;124m'\u001b[39m)(x)\n",
      "File \u001b[0;32m~/.virtualenvs/sr/lib/python3.10/site-packages/keras/engine/keras_tensor.py:368\u001b[0m, in \u001b[0;36mKerasTensor.__iter__\u001b[0;34m(self)\u001b[0m\n\u001b[1;32m    366\u001b[0m   \u001b[38;5;28;01mraise\u001b[39;00m \u001b[38;5;167;01mTypeError\u001b[39;00m(\u001b[38;5;124m'\u001b[39m\u001b[38;5;124mCannot iterate over a scalar.\u001b[39m\u001b[38;5;124m'\u001b[39m)\n\u001b[1;32m    367\u001b[0m \u001b[38;5;28;01mif\u001b[39;00m shape[\u001b[38;5;241m0\u001b[39m] \u001b[38;5;129;01mis\u001b[39;00m \u001b[38;5;28;01mNone\u001b[39;00m:\n\u001b[0;32m--> 368\u001b[0m   \u001b[38;5;28;01mraise\u001b[39;00m \u001b[38;5;167;01mTypeError\u001b[39;00m(\n\u001b[1;32m    369\u001b[0m       \u001b[38;5;124m'\u001b[39m\u001b[38;5;124mCannot iterate over a Tensor with unknown first dimension.\u001b[39m\u001b[38;5;124m'\u001b[39m)\n\u001b[1;32m    370\u001b[0m \u001b[38;5;28;01mreturn\u001b[39;00m _KerasTensorIterator(\u001b[38;5;28mself\u001b[39m, shape[\u001b[38;5;241m0\u001b[39m])\n",
      "\u001b[0;31mTypeError\u001b[0m: Cannot iterate over a Tensor with unknown first dimension."
     ]
    }
   ],
   "source": [
    "m = generator(num_res_blocks=4, num_filters= 32, return_features=False)"
   ]
  },
  {
   "cell_type": "code",
   "execution_count": null,
   "id": "moving-shade",
   "metadata": {
    "ExecuteTime": {
     "end_time": "2022-07-07T15:23:39.030062Z",
     "start_time": "2022-07-07T15:23:39.017812Z"
    },
    "hidden": true
   },
   "outputs": [],
   "source": [
    "a = np.random.rand(1,96,96,3)*255\n",
    "*feats, sr = m(a, training=False)"
   ]
  },
  {
   "cell_type": "code",
   "execution_count": null,
   "id": "fluid-member",
   "metadata": {
    "ExecuteTime": {
     "end_time": "2022-07-07T15:23:41.166420Z",
     "start_time": "2022-07-07T15:23:41.160409Z"
    },
    "hidden": true
   },
   "outputs": [],
   "source": [
    "len(feats)"
   ]
  },
  {
   "cell_type": "code",
   "execution_count": null,
   "id": "superior-generation",
   "metadata": {
    "ExecuteTime": {
     "end_time": "2022-07-07T15:17:47.186275Z",
     "start_time": "2022-07-07T15:17:47.184372Z"
    },
    "hidden": true
   },
   "outputs": [],
   "source": [
    "for o in feats:\n",
    "    print(o.shape)"
   ]
  },
  {
   "cell_type": "code",
   "execution_count": null,
   "id": "closed-harrison",
   "metadata": {
    "ExecuteTime": {
     "end_time": "2022-07-07T15:17:48.399690Z",
     "start_time": "2022-07-07T15:17:48.395487Z"
    },
    "hidden": true,
    "scrolled": true
   },
   "outputs": [],
   "source": [
    "feats[0]"
   ]
  },
  {
   "cell_type": "code",
   "execution_count": null,
   "id": "magnetic-catalyst",
   "metadata": {
    "ExecuteTime": {
     "end_time": "2022-07-07T15:17:58.838926Z",
     "start_time": "2022-07-07T15:17:58.834992Z"
    },
    "hidden": true,
    "scrolled": true
   },
   "outputs": [],
   "source": [
    "feats[1]"
   ]
  },
  {
   "cell_type": "code",
   "execution_count": null,
   "id": "eastern-charger",
   "metadata": {
    "ExecuteTime": {
     "end_time": "2022-07-07T15:18:20.539632Z",
     "start_time": "2022-07-07T15:18:20.535384Z"
    },
    "hidden": true,
    "scrolled": true
   },
   "outputs": [],
   "source": [
    "feats[2]"
   ]
  },
  {
   "cell_type": "code",
   "execution_count": null,
   "id": "piano-western",
   "metadata": {
    "ExecuteTime": {
     "end_time": "2022-07-07T15:18:37.711147Z",
     "start_time": "2022-07-07T15:18:37.707414Z"
    },
    "hidden": true,
    "scrolled": true
   },
   "outputs": [],
   "source": [
    "feats[3]"
   ]
  },
  {
   "cell_type": "code",
   "execution_count": null,
   "id": "focal-trinity",
   "metadata": {
    "ExecuteTime": {
     "end_time": "2022-07-07T15:18:52.419494Z",
     "start_time": "2022-07-07T15:18:52.411659Z"
    },
    "hidden": true,
    "scrolled": true
   },
   "outputs": [],
   "source": [
    "feats[4]"
   ]
  },
  {
   "cell_type": "code",
   "execution_count": null,
   "id": "forty-silly",
   "metadata": {
    "ExecuteTime": {
     "end_time": "2022-07-07T15:18:58.840926Z",
     "start_time": "2022-07-07T15:18:58.837666Z"
    },
    "hidden": true,
    "scrolled": true
   },
   "outputs": [],
   "source": [
    "feats[5]"
   ]
  }
 ],
 "metadata": {
  "kernelspec": {
   "display_name": "SR",
   "language": "python",
   "name": "sr"
  },
  "language_info": {
   "codemirror_mode": {
    "name": "ipython",
    "version": 3
   },
   "file_extension": ".py",
   "mimetype": "text/x-python",
   "name": "python",
   "nbconvert_exporter": "python",
   "pygments_lexer": "ipython3",
   "version": "3.10.5"
  },
  "toc": {
   "base_numbering": 1,
   "nav_menu": {},
   "number_sections": true,
   "sideBar": true,
   "skip_h1_title": false,
   "title_cell": "Table of Contents",
   "title_sidebar": "Contents",
   "toc_cell": false,
   "toc_position": {},
   "toc_section_display": true,
   "toc_window_display": false
  },
  "varInspector": {
   "cols": {
    "lenName": 16,
    "lenType": 16,
    "lenVar": 40
   },
   "kernels_config": {
    "python": {
     "delete_cmd_postfix": "",
     "delete_cmd_prefix": "del ",
     "library": "var_list.py",
     "varRefreshCmd": "print(var_dic_list())"
    },
    "r": {
     "delete_cmd_postfix": ") ",
     "delete_cmd_prefix": "rm(",
     "library": "var_list.r",
     "varRefreshCmd": "cat(var_dic_list()) "
    }
   },
   "types_to_exclude": [
    "module",
    "function",
    "builtin_function_or_method",
    "instance",
    "_Feature"
   ],
   "window_display": false
  }
 },
 "nbformat": 4,
 "nbformat_minor": 5
}
