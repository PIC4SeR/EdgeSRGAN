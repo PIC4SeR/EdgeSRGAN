{
 "cells": [
  {
   "cell_type": "code",
   "execution_count": null,
   "id": "fd9e45d8",
   "metadata": {
    "ExecuteTime": {
     "end_time": "2022-10-04T09:24:40.961631Z",
     "start_time": "2022-10-04T09:24:39.358361Z"
    }
   },
   "outputs": [],
   "source": [
    "import os\n",
    "from pathlib import Path\n",
    "from os import listdir\n",
    "from os.path import isfile, join\n",
    "\n",
    "from PIL import Image\n",
    "import matplotlib.pyplot as plt\n",
    "\n",
    "import math\n",
    "import numpy as np\n",
    "\n",
    "import tensorflow as tf\n",
    "import torch\n",
    "import lpips\n",
    "\n",
    "from utils.srgan_tools import resolve_single\n",
    "from utils.srgan import generator\n",
    "from utils.niqe import niqe\n",
    "from utils.tools import load_image, plot_sample\n",
    "from skimage.metrics import structural_similarity"
   ]
  },
  {
   "cell_type": "code",
   "execution_count": null,
   "id": "ceabb937",
   "metadata": {
    "ExecuteTime": {
     "end_time": "2022-10-04T09:24:43.143058Z",
     "start_time": "2022-10-04T09:24:42.590617Z"
    }
   },
   "outputs": [],
   "source": [
    "pre = generator(num_res_blocks=8, batch_size=16, return_features=True)\n",
    "pre.load_weights('weights/srgan/pre_generator_small.h5')"
   ]
  },
  {
   "cell_type": "code",
   "execution_count": null,
   "id": "18daf2c5",
   "metadata": {
    "ExecuteTime": {
     "end_time": "2022-10-04T09:24:47.555804Z",
     "start_time": "2022-10-04T09:24:47.548393Z"
    }
   },
   "outputs": [],
   "source": [
    "pre"
   ]
  },
  {
   "cell_type": "code",
   "execution_count": null,
   "id": "5d1cfbd7",
   "metadata": {
    "ExecuteTime": {
     "end_time": "2022-07-30T17:53:04.189491Z",
     "start_time": "2022-07-30T17:53:03.990990Z"
    }
   },
   "outputs": [],
   "source": [
    "gan = generator(num_res_blocks=8, batch_size=16, return_features=True)\n",
    "gan.load_weights('weights/srgan/gan_generator_gridsearch_2022-07-26_16_43_06.2346946.h5')"
   ]
  },
  {
   "cell_type": "code",
   "execution_count": null,
   "id": "fe5797ee",
   "metadata": {
    "ExecuteTime": {
     "end_time": "2022-07-30T17:53:04.319362Z",
     "start_time": "2022-07-30T17:53:04.192226Z"
    }
   },
   "outputs": [],
   "source": [
    "new = generator(num_res_blocks=8, batch_size=16, return_features=True)"
   ]
  },
  {
   "cell_type": "code",
   "execution_count": null,
   "id": "3f624a53",
   "metadata": {
    "ExecuteTime": {
     "end_time": "2022-07-30T17:53:04.322366Z",
     "start_time": "2022-07-30T17:53:04.320321Z"
    }
   },
   "outputs": [],
   "source": [
    "def mix_model_weights(mp, mg, p=0.5):\n",
    "    \n",
    "    mix_w = []\n",
    "    for i in range(len(mp.layers)):\n",
    "        pre_w = mp.layers[i].get_weights()\n",
    "        gan_w = mg.layers[i].get_weights()\n",
    "        #print(mp.layers[i].name, len(pre_w))\n",
    "        \n",
    "        mix_w.append(mix_layer_weights(pre_w, gan_w, p))\n",
    "\n",
    "        \n",
    "    return mix_w"
   ]
  },
  {
   "cell_type": "code",
   "execution_count": null,
   "id": "a7e26092",
   "metadata": {
    "ExecuteTime": {
     "end_time": "2022-07-30T17:53:04.337455Z",
     "start_time": "2022-07-30T17:53:04.323156Z"
    }
   },
   "outputs": [],
   "source": [
    "def mix_layer_weights(wp, wg, p=0.5):\n",
    "    weights = []\n",
    "    for i in range(len(wp)):\n",
    "        w = p * wp[i] + (1-p) * wg[i]\n",
    "        weights.append(w)\n",
    "    return weights"
   ]
  },
  {
   "cell_type": "code",
   "execution_count": null,
   "id": "9f204aff",
   "metadata": {
    "ExecuteTime": {
     "end_time": "2022-07-30T17:53:05.481378Z",
     "start_time": "2022-07-30T17:53:04.338254Z"
    }
   },
   "outputs": [],
   "source": [
    "for p in range(0,101,10):\n",
    "    mix_w = mix_model_weights(pre, gan, p/100.0)\n",
    "\n",
    "    for i in range(len(new.layers)):\n",
    "        new.layers[i].set_weights(mix_w[i])\n",
    "    \n",
    "    new.save_weights(f'weights/srgan/small_interpolation_{p}.h5')"
   ]
  },
  {
   "cell_type": "code",
   "execution_count": null,
   "id": "9baa5ceb",
   "metadata": {},
   "outputs": [],
   "source": []
  },
  {
   "cell_type": "code",
   "execution_count": null,
   "id": "ee954f89",
   "metadata": {},
   "outputs": [],
   "source": []
  },
  {
   "cell_type": "code",
   "execution_count": null,
   "id": "f16bff77",
   "metadata": {},
   "outputs": [],
   "source": []
  },
  {
   "cell_type": "code",
   "execution_count": null,
   "id": "8a0a55c9",
   "metadata": {
    "ExecuteTime": {
     "end_time": "2022-10-04T09:26:27.342412Z",
     "start_time": "2022-10-04T09:26:27.299050Z"
    }
   },
   "outputs": [],
   "source": [
    "head = generator(scale=4,\n",
    "                 num_filters=64, \n",
    "                 num_res_blocks=8,\n",
    "                 batch_size=16,\n",
    "                 batch_norm=False,\n",
    "                 activation='relu',\n",
    "                 upsampling='TransposeConv',\n",
    "                 head_only=True)\n",
    "head.set_weights(pre.get_weights()[-4:]) "
   ]
  },
  {
   "cell_type": "code",
   "execution_count": null,
   "id": "954b12e6",
   "metadata": {
    "ExecuteTime": {
     "end_time": "2022-10-04T09:29:25.429505Z",
     "start_time": "2022-10-04T09:29:25.412279Z"
    }
   },
   "outputs": [],
   "source": [
    "for i in range(len(head.get_weights())):\n",
    "    print((head.get_weights()[i] == pre.get_weights()[-4:][i]).all())"
   ]
  },
  {
   "cell_type": "code",
   "execution_count": null,
   "id": "f00e17e5",
   "metadata": {
    "ExecuteTime": {
     "end_time": "2022-10-04T09:26:52.019051Z",
     "start_time": "2022-10-04T09:26:51.989788Z"
    }
   },
   "outputs": [],
   "source": [
    "pre.get_weights()[-4:]"
   ]
  }
 ],
 "metadata": {
  "kernelspec": {
   "display_name": "SR",
   "language": "python",
   "name": "sr"
  },
  "language_info": {
   "codemirror_mode": {
    "name": "ipython",
    "version": 3
   },
   "file_extension": ".py",
   "mimetype": "text/x-python",
   "name": "python",
   "nbconvert_exporter": "python",
   "pygments_lexer": "ipython3",
   "version": "3.10.5"
  },
  "toc": {
   "base_numbering": 1,
   "nav_menu": {},
   "number_sections": true,
   "sideBar": true,
   "skip_h1_title": false,
   "title_cell": "Table of Contents",
   "title_sidebar": "Contents",
   "toc_cell": false,
   "toc_position": {},
   "toc_section_display": true,
   "toc_window_display": false
  },
  "varInspector": {
   "cols": {
    "lenName": 16,
    "lenType": 16,
    "lenVar": 40
   },
   "kernels_config": {
    "python": {
     "delete_cmd_postfix": "",
     "delete_cmd_prefix": "del ",
     "library": "var_list.py",
     "varRefreshCmd": "print(var_dic_list())"
    },
    "r": {
     "delete_cmd_postfix": ") ",
     "delete_cmd_prefix": "rm(",
     "library": "var_list.r",
     "varRefreshCmd": "cat(var_dic_list()) "
    }
   },
   "types_to_exclude": [
    "module",
    "function",
    "builtin_function_or_method",
    "instance",
    "_Feature"
   ],
   "window_display": false
  }
 },
 "nbformat": 4,
 "nbformat_minor": 5
}
