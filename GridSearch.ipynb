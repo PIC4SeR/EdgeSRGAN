{
 "cells": [
  {
   "cell_type": "code",
   "execution_count": 1,
   "id": "fe44e2f2",
   "metadata": {
    "ExecuteTime": {
     "end_time": "2022-10-07T07:54:17.858238Z",
     "start_time": "2022-10-07T07:54:16.937832Z"
    }
   },
   "outputs": [],
   "source": [
    "import optuna\n",
    "import joblib\n",
    "import numpy as np\n",
    "import pandas as pd\n"
   ]
  },
  {
   "cell_type": "markdown",
   "id": "b9e00128",
   "metadata": {},
   "source": [
    "# Single Study"
   ]
  },
  {
   "cell_type": "code",
   "execution_count": 7,
   "id": "1b2a70af",
   "metadata": {
    "ExecuteTime": {
     "end_time": "2022-10-07T09:07:58.114581Z",
     "start_time": "2022-10-07T09:07:58.106994Z"
    }
   },
   "outputs": [
    {
     "name": "stdout",
     "output_type": "stream",
     "text": [
      "Best trial until now (32 trials):\n",
      " Value:  32.5358772277832\n",
      " Params: \n",
      "   LR: 0.0001\n",
      "   LAMBDA: 0.1\n",
      "   FEAT_WEIGHT: 0.1\n",
      "   TASK_WEIGHT: 0.01\n"
     ]
    }
   ],
   "source": [
    "study = joblib.load(\"grid_search/hp_search_tiny_brkd_new.pkl\")\n",
    "print(f\"Best trial until now ({len(study.trials)} trials):\")\n",
    "print(\" Value: \", study.best_trial.value)\n",
    "print(\" Params: \")\n",
    "for key, value in study.best_trial.params.items():\n",
    "    print(f\"   {key}: {value}\")\n",
    "    "
   ]
  },
  {
   "cell_type": "code",
   "execution_count": 8,
   "id": "7d8f2a8e",
   "metadata": {
    "ExecuteTime": {
     "end_time": "2022-10-07T09:07:58.816854Z",
     "start_time": "2022-10-07T09:07:58.810354Z"
    }
   },
   "outputs": [
    {
     "data": {
      "application/vnd.plotly.v1+json": {
       "config": {
        "plotlyServerURL": "https://plot.ly"
       },
       "data": [
        {
         "dimensions": [
          {
           "label": "Objective Value",
           "range": [
            31.5753231048584,
            32.5358772277832
           ],
           "values": [
            32.23589324951172,
            32.159698486328125,
            32.20465850830078,
            32.5358772277832,
            32.108726501464844,
            32.46018600463867,
            32.19908905029297,
            31.958890914916992,
            31.90618324279785,
            32.386146545410156,
            31.5753231048584,
            32.04349136352539,
            32.280555725097656
           ]
          },
          {
           "label": "FEAT_WEIGHT",
           "range": [
            0,
            3
           ],
           "ticktext": [
            0.01,
            0.1,
            1,
            10
           ],
           "tickvals": [
            0,
            1,
            2,
            3
           ],
           "values": [
            0,
            0,
            0,
            1,
            1,
            1,
            1,
            1,
            2,
            2,
            3,
            3,
            3
           ]
          },
          {
           "label": "LAMBDA",
           "range": [
            0,
            1
           ],
           "ticktext": [
            0.1,
            0.25
           ],
           "tickvals": [
            0,
            1
           ],
           "values": [
            0,
            1,
            1,
            0,
            0,
            0,
            0,
            1,
            1,
            1,
            0,
            0,
            1
           ]
          },
          {
           "label": "LR",
           "range": [
            0,
            1
           ],
           "ticktext": [
            5e-05,
            0.0001
           ],
           "tickvals": [
            0,
            1
           ],
           "values": [
            0,
            0,
            1,
            1,
            1,
            1,
            1,
            1,
            0,
            1,
            0,
            1,
            1
           ]
          },
          {
           "label": "TASK_WEIGHT",
           "range": [
            0,
            3
           ],
           "ticktext": [
            0.01,
            0.1,
            1,
            10
           ],
           "tickvals": [
            0,
            1,
            2,
            3
           ],
           "values": [
            0,
            3,
            1,
            0,
            0,
            0,
            0,
            0,
            2,
            2,
            1,
            2,
            3
           ]
          }
         ],
         "labelangle": 30,
         "labelside": "bottom",
         "line": {
          "color": [
           32.23589324951172,
           32.159698486328125,
           32.20465850830078,
           32.5358772277832,
           32.108726501464844,
           32.46018600463867,
           32.19908905029297,
           31.958890914916992,
           31.90618324279785,
           32.386146545410156,
           31.5753231048584,
           32.04349136352539,
           32.280555725097656
          ],
          "colorbar": {
           "title": {
            "text": "Objective Value"
           }
          },
          "colorscale": [
           [
            0,
            "rgb(247,251,255)"
           ],
           [
            0.125,
            "rgb(222,235,247)"
           ],
           [
            0.25,
            "rgb(198,219,239)"
           ],
           [
            0.375,
            "rgb(158,202,225)"
           ],
           [
            0.5,
            "rgb(107,174,214)"
           ],
           [
            0.625,
            "rgb(66,146,198)"
           ],
           [
            0.75,
            "rgb(33,113,181)"
           ],
           [
            0.875,
            "rgb(8,81,156)"
           ],
           [
            1,
            "rgb(8,48,107)"
           ]
          ],
          "reversescale": false,
          "showscale": true
         },
         "type": "parcoords"
        }
       ],
       "layout": {
        "template": {
         "data": {
          "bar": [
           {
            "error_x": {
             "color": "#2a3f5f"
            },
            "error_y": {
             "color": "#2a3f5f"
            },
            "marker": {
             "line": {
              "color": "#E5ECF6",
              "width": 0.5
             },
             "pattern": {
              "fillmode": "overlay",
              "size": 10,
              "solidity": 0.2
             }
            },
            "type": "bar"
           }
          ],
          "barpolar": [
           {
            "marker": {
             "line": {
              "color": "#E5ECF6",
              "width": 0.5
             },
             "pattern": {
              "fillmode": "overlay",
              "size": 10,
              "solidity": 0.2
             }
            },
            "type": "barpolar"
           }
          ],
          "carpet": [
           {
            "aaxis": {
             "endlinecolor": "#2a3f5f",
             "gridcolor": "white",
             "linecolor": "white",
             "minorgridcolor": "white",
             "startlinecolor": "#2a3f5f"
            },
            "baxis": {
             "endlinecolor": "#2a3f5f",
             "gridcolor": "white",
             "linecolor": "white",
             "minorgridcolor": "white",
             "startlinecolor": "#2a3f5f"
            },
            "type": "carpet"
           }
          ],
          "choropleth": [
           {
            "colorbar": {
             "outlinewidth": 0,
             "ticks": ""
            },
            "type": "choropleth"
           }
          ],
          "contour": [
           {
            "colorbar": {
             "outlinewidth": 0,
             "ticks": ""
            },
            "colorscale": [
             [
              0,
              "#0d0887"
             ],
             [
              0.1111111111111111,
              "#46039f"
             ],
             [
              0.2222222222222222,
              "#7201a8"
             ],
             [
              0.3333333333333333,
              "#9c179e"
             ],
             [
              0.4444444444444444,
              "#bd3786"
             ],
             [
              0.5555555555555556,
              "#d8576b"
             ],
             [
              0.6666666666666666,
              "#ed7953"
             ],
             [
              0.7777777777777778,
              "#fb9f3a"
             ],
             [
              0.8888888888888888,
              "#fdca26"
             ],
             [
              1,
              "#f0f921"
             ]
            ],
            "type": "contour"
           }
          ],
          "contourcarpet": [
           {
            "colorbar": {
             "outlinewidth": 0,
             "ticks": ""
            },
            "type": "contourcarpet"
           }
          ],
          "heatmap": [
           {
            "colorbar": {
             "outlinewidth": 0,
             "ticks": ""
            },
            "colorscale": [
             [
              0,
              "#0d0887"
             ],
             [
              0.1111111111111111,
              "#46039f"
             ],
             [
              0.2222222222222222,
              "#7201a8"
             ],
             [
              0.3333333333333333,
              "#9c179e"
             ],
             [
              0.4444444444444444,
              "#bd3786"
             ],
             [
              0.5555555555555556,
              "#d8576b"
             ],
             [
              0.6666666666666666,
              "#ed7953"
             ],
             [
              0.7777777777777778,
              "#fb9f3a"
             ],
             [
              0.8888888888888888,
              "#fdca26"
             ],
             [
              1,
              "#f0f921"
             ]
            ],
            "type": "heatmap"
           }
          ],
          "heatmapgl": [
           {
            "colorbar": {
             "outlinewidth": 0,
             "ticks": ""
            },
            "colorscale": [
             [
              0,
              "#0d0887"
             ],
             [
              0.1111111111111111,
              "#46039f"
             ],
             [
              0.2222222222222222,
              "#7201a8"
             ],
             [
              0.3333333333333333,
              "#9c179e"
             ],
             [
              0.4444444444444444,
              "#bd3786"
             ],
             [
              0.5555555555555556,
              "#d8576b"
             ],
             [
              0.6666666666666666,
              "#ed7953"
             ],
             [
              0.7777777777777778,
              "#fb9f3a"
             ],
             [
              0.8888888888888888,
              "#fdca26"
             ],
             [
              1,
              "#f0f921"
             ]
            ],
            "type": "heatmapgl"
           }
          ],
          "histogram": [
           {
            "marker": {
             "pattern": {
              "fillmode": "overlay",
              "size": 10,
              "solidity": 0.2
             }
            },
            "type": "histogram"
           }
          ],
          "histogram2d": [
           {
            "colorbar": {
             "outlinewidth": 0,
             "ticks": ""
            },
            "colorscale": [
             [
              0,
              "#0d0887"
             ],
             [
              0.1111111111111111,
              "#46039f"
             ],
             [
              0.2222222222222222,
              "#7201a8"
             ],
             [
              0.3333333333333333,
              "#9c179e"
             ],
             [
              0.4444444444444444,
              "#bd3786"
             ],
             [
              0.5555555555555556,
              "#d8576b"
             ],
             [
              0.6666666666666666,
              "#ed7953"
             ],
             [
              0.7777777777777778,
              "#fb9f3a"
             ],
             [
              0.8888888888888888,
              "#fdca26"
             ],
             [
              1,
              "#f0f921"
             ]
            ],
            "type": "histogram2d"
           }
          ],
          "histogram2dcontour": [
           {
            "colorbar": {
             "outlinewidth": 0,
             "ticks": ""
            },
            "colorscale": [
             [
              0,
              "#0d0887"
             ],
             [
              0.1111111111111111,
              "#46039f"
             ],
             [
              0.2222222222222222,
              "#7201a8"
             ],
             [
              0.3333333333333333,
              "#9c179e"
             ],
             [
              0.4444444444444444,
              "#bd3786"
             ],
             [
              0.5555555555555556,
              "#d8576b"
             ],
             [
              0.6666666666666666,
              "#ed7953"
             ],
             [
              0.7777777777777778,
              "#fb9f3a"
             ],
             [
              0.8888888888888888,
              "#fdca26"
             ],
             [
              1,
              "#f0f921"
             ]
            ],
            "type": "histogram2dcontour"
           }
          ],
          "mesh3d": [
           {
            "colorbar": {
             "outlinewidth": 0,
             "ticks": ""
            },
            "type": "mesh3d"
           }
          ],
          "parcoords": [
           {
            "line": {
             "colorbar": {
              "outlinewidth": 0,
              "ticks": ""
             }
            },
            "type": "parcoords"
           }
          ],
          "pie": [
           {
            "automargin": true,
            "type": "pie"
           }
          ],
          "scatter": [
           {
            "fillpattern": {
             "fillmode": "overlay",
             "size": 10,
             "solidity": 0.2
            },
            "type": "scatter"
           }
          ],
          "scatter3d": [
           {
            "line": {
             "colorbar": {
              "outlinewidth": 0,
              "ticks": ""
             }
            },
            "marker": {
             "colorbar": {
              "outlinewidth": 0,
              "ticks": ""
             }
            },
            "type": "scatter3d"
           }
          ],
          "scattercarpet": [
           {
            "marker": {
             "colorbar": {
              "outlinewidth": 0,
              "ticks": ""
             }
            },
            "type": "scattercarpet"
           }
          ],
          "scattergeo": [
           {
            "marker": {
             "colorbar": {
              "outlinewidth": 0,
              "ticks": ""
             }
            },
            "type": "scattergeo"
           }
          ],
          "scattergl": [
           {
            "marker": {
             "colorbar": {
              "outlinewidth": 0,
              "ticks": ""
             }
            },
            "type": "scattergl"
           }
          ],
          "scattermapbox": [
           {
            "marker": {
             "colorbar": {
              "outlinewidth": 0,
              "ticks": ""
             }
            },
            "type": "scattermapbox"
           }
          ],
          "scatterpolar": [
           {
            "marker": {
             "colorbar": {
              "outlinewidth": 0,
              "ticks": ""
             }
            },
            "type": "scatterpolar"
           }
          ],
          "scatterpolargl": [
           {
            "marker": {
             "colorbar": {
              "outlinewidth": 0,
              "ticks": ""
             }
            },
            "type": "scatterpolargl"
           }
          ],
          "scatterternary": [
           {
            "marker": {
             "colorbar": {
              "outlinewidth": 0,
              "ticks": ""
             }
            },
            "type": "scatterternary"
           }
          ],
          "surface": [
           {
            "colorbar": {
             "outlinewidth": 0,
             "ticks": ""
            },
            "colorscale": [
             [
              0,
              "#0d0887"
             ],
             [
              0.1111111111111111,
              "#46039f"
             ],
             [
              0.2222222222222222,
              "#7201a8"
             ],
             [
              0.3333333333333333,
              "#9c179e"
             ],
             [
              0.4444444444444444,
              "#bd3786"
             ],
             [
              0.5555555555555556,
              "#d8576b"
             ],
             [
              0.6666666666666666,
              "#ed7953"
             ],
             [
              0.7777777777777778,
              "#fb9f3a"
             ],
             [
              0.8888888888888888,
              "#fdca26"
             ],
             [
              1,
              "#f0f921"
             ]
            ],
            "type": "surface"
           }
          ],
          "table": [
           {
            "cells": {
             "fill": {
              "color": "#EBF0F8"
             },
             "line": {
              "color": "white"
             }
            },
            "header": {
             "fill": {
              "color": "#C8D4E3"
             },
             "line": {
              "color": "white"
             }
            },
            "type": "table"
           }
          ]
         },
         "layout": {
          "annotationdefaults": {
           "arrowcolor": "#2a3f5f",
           "arrowhead": 0,
           "arrowwidth": 1
          },
          "autotypenumbers": "strict",
          "coloraxis": {
           "colorbar": {
            "outlinewidth": 0,
            "ticks": ""
           }
          },
          "colorscale": {
           "diverging": [
            [
             0,
             "#8e0152"
            ],
            [
             0.1,
             "#c51b7d"
            ],
            [
             0.2,
             "#de77ae"
            ],
            [
             0.3,
             "#f1b6da"
            ],
            [
             0.4,
             "#fde0ef"
            ],
            [
             0.5,
             "#f7f7f7"
            ],
            [
             0.6,
             "#e6f5d0"
            ],
            [
             0.7,
             "#b8e186"
            ],
            [
             0.8,
             "#7fbc41"
            ],
            [
             0.9,
             "#4d9221"
            ],
            [
             1,
             "#276419"
            ]
           ],
           "sequential": [
            [
             0,
             "#0d0887"
            ],
            [
             0.1111111111111111,
             "#46039f"
            ],
            [
             0.2222222222222222,
             "#7201a8"
            ],
            [
             0.3333333333333333,
             "#9c179e"
            ],
            [
             0.4444444444444444,
             "#bd3786"
            ],
            [
             0.5555555555555556,
             "#d8576b"
            ],
            [
             0.6666666666666666,
             "#ed7953"
            ],
            [
             0.7777777777777778,
             "#fb9f3a"
            ],
            [
             0.8888888888888888,
             "#fdca26"
            ],
            [
             1,
             "#f0f921"
            ]
           ],
           "sequentialminus": [
            [
             0,
             "#0d0887"
            ],
            [
             0.1111111111111111,
             "#46039f"
            ],
            [
             0.2222222222222222,
             "#7201a8"
            ],
            [
             0.3333333333333333,
             "#9c179e"
            ],
            [
             0.4444444444444444,
             "#bd3786"
            ],
            [
             0.5555555555555556,
             "#d8576b"
            ],
            [
             0.6666666666666666,
             "#ed7953"
            ],
            [
             0.7777777777777778,
             "#fb9f3a"
            ],
            [
             0.8888888888888888,
             "#fdca26"
            ],
            [
             1,
             "#f0f921"
            ]
           ]
          },
          "colorway": [
           "#636efa",
           "#EF553B",
           "#00cc96",
           "#ab63fa",
           "#FFA15A",
           "#19d3f3",
           "#FF6692",
           "#B6E880",
           "#FF97FF",
           "#FECB52"
          ],
          "font": {
           "color": "#2a3f5f"
          },
          "geo": {
           "bgcolor": "white",
           "lakecolor": "white",
           "landcolor": "#E5ECF6",
           "showlakes": true,
           "showland": true,
           "subunitcolor": "white"
          },
          "hoverlabel": {
           "align": "left"
          },
          "hovermode": "closest",
          "mapbox": {
           "style": "light"
          },
          "paper_bgcolor": "white",
          "plot_bgcolor": "#E5ECF6",
          "polar": {
           "angularaxis": {
            "gridcolor": "white",
            "linecolor": "white",
            "ticks": ""
           },
           "bgcolor": "#E5ECF6",
           "radialaxis": {
            "gridcolor": "white",
            "linecolor": "white",
            "ticks": ""
           }
          },
          "scene": {
           "xaxis": {
            "backgroundcolor": "#E5ECF6",
            "gridcolor": "white",
            "gridwidth": 2,
            "linecolor": "white",
            "showbackground": true,
            "ticks": "",
            "zerolinecolor": "white"
           },
           "yaxis": {
            "backgroundcolor": "#E5ECF6",
            "gridcolor": "white",
            "gridwidth": 2,
            "linecolor": "white",
            "showbackground": true,
            "ticks": "",
            "zerolinecolor": "white"
           },
           "zaxis": {
            "backgroundcolor": "#E5ECF6",
            "gridcolor": "white",
            "gridwidth": 2,
            "linecolor": "white",
            "showbackground": true,
            "ticks": "",
            "zerolinecolor": "white"
           }
          },
          "shapedefaults": {
           "line": {
            "color": "#2a3f5f"
           }
          },
          "ternary": {
           "aaxis": {
            "gridcolor": "white",
            "linecolor": "white",
            "ticks": ""
           },
           "baxis": {
            "gridcolor": "white",
            "linecolor": "white",
            "ticks": ""
           },
           "bgcolor": "#E5ECF6",
           "caxis": {
            "gridcolor": "white",
            "linecolor": "white",
            "ticks": ""
           }
          },
          "title": {
           "x": 0.05
          },
          "xaxis": {
           "automargin": true,
           "gridcolor": "white",
           "linecolor": "white",
           "ticks": "",
           "title": {
            "standoff": 15
           },
           "zerolinecolor": "white",
           "zerolinewidth": 2
          },
          "yaxis": {
           "automargin": true,
           "gridcolor": "white",
           "linecolor": "white",
           "ticks": "",
           "title": {
            "standoff": 15
           },
           "zerolinecolor": "white",
           "zerolinewidth": 2
          }
         }
        },
        "title": {
         "text": "Parallel Coordinate Plot"
        }
       }
      },
      "text/html": [
       "<div>                            <div id=\"ca00178e-879c-4821-b857-dbce451ad96e\" class=\"plotly-graph-div\" style=\"height:525px; width:100%;\"></div>            <script type=\"text/javascript\">                require([\"plotly\"], function(Plotly) {                    window.PLOTLYENV=window.PLOTLYENV || {};                                    if (document.getElementById(\"ca00178e-879c-4821-b857-dbce451ad96e\")) {                    Plotly.newPlot(                        \"ca00178e-879c-4821-b857-dbce451ad96e\",                        [{\"dimensions\":[{\"label\":\"Objective Value\",\"range\":[31.5753231048584,32.5358772277832],\"values\":[32.23589324951172,32.159698486328125,32.20465850830078,32.5358772277832,32.108726501464844,32.46018600463867,32.19908905029297,31.958890914916992,31.90618324279785,32.386146545410156,31.5753231048584,32.04349136352539,32.280555725097656]},{\"label\":\"FEAT_WEIGHT\",\"range\":[0,3],\"ticktext\":[0.01,0.1,1,10],\"tickvals\":[0,1,2,3],\"values\":[0,0,0,1,1,1,1,1,2,2,3,3,3]},{\"label\":\"LAMBDA\",\"range\":[0,1],\"ticktext\":[0.1,0.25],\"tickvals\":[0,1],\"values\":[0,1,1,0,0,0,0,1,1,1,0,0,1]},{\"label\":\"LR\",\"range\":[0,1],\"ticktext\":[5e-05,0.0001],\"tickvals\":[0,1],\"values\":[0,0,1,1,1,1,1,1,0,1,0,1,1]},{\"label\":\"TASK_WEIGHT\",\"range\":[0,3],\"ticktext\":[0.01,0.1,1,10],\"tickvals\":[0,1,2,3],\"values\":[0,3,1,0,0,0,0,0,2,2,1,2,3]}],\"labelangle\":30,\"labelside\":\"bottom\",\"line\":{\"color\":[32.23589324951172,32.159698486328125,32.20465850830078,32.5358772277832,32.108726501464844,32.46018600463867,32.19908905029297,31.958890914916992,31.90618324279785,32.386146545410156,31.5753231048584,32.04349136352539,32.280555725097656],\"colorbar\":{\"title\":{\"text\":\"Objective Value\"}},\"colorscale\":[[0.0,\"rgb(247,251,255)\"],[0.125,\"rgb(222,235,247)\"],[0.25,\"rgb(198,219,239)\"],[0.375,\"rgb(158,202,225)\"],[0.5,\"rgb(107,174,214)\"],[0.625,\"rgb(66,146,198)\"],[0.75,\"rgb(33,113,181)\"],[0.875,\"rgb(8,81,156)\"],[1.0,\"rgb(8,48,107)\"]],\"reversescale\":false,\"showscale\":true},\"type\":\"parcoords\"}],                        {\"title\":{\"text\":\"Parallel Coordinate Plot\"},\"template\":{\"data\":{\"histogram2dcontour\":[{\"type\":\"histogram2dcontour\",\"colorbar\":{\"outlinewidth\":0,\"ticks\":\"\"},\"colorscale\":[[0.0,\"#0d0887\"],[0.1111111111111111,\"#46039f\"],[0.2222222222222222,\"#7201a8\"],[0.3333333333333333,\"#9c179e\"],[0.4444444444444444,\"#bd3786\"],[0.5555555555555556,\"#d8576b\"],[0.6666666666666666,\"#ed7953\"],[0.7777777777777778,\"#fb9f3a\"],[0.8888888888888888,\"#fdca26\"],[1.0,\"#f0f921\"]]}],\"choropleth\":[{\"type\":\"choropleth\",\"colorbar\":{\"outlinewidth\":0,\"ticks\":\"\"}}],\"histogram2d\":[{\"type\":\"histogram2d\",\"colorbar\":{\"outlinewidth\":0,\"ticks\":\"\"},\"colorscale\":[[0.0,\"#0d0887\"],[0.1111111111111111,\"#46039f\"],[0.2222222222222222,\"#7201a8\"],[0.3333333333333333,\"#9c179e\"],[0.4444444444444444,\"#bd3786\"],[0.5555555555555556,\"#d8576b\"],[0.6666666666666666,\"#ed7953\"],[0.7777777777777778,\"#fb9f3a\"],[0.8888888888888888,\"#fdca26\"],[1.0,\"#f0f921\"]]}],\"heatmap\":[{\"type\":\"heatmap\",\"colorbar\":{\"outlinewidth\":0,\"ticks\":\"\"},\"colorscale\":[[0.0,\"#0d0887\"],[0.1111111111111111,\"#46039f\"],[0.2222222222222222,\"#7201a8\"],[0.3333333333333333,\"#9c179e\"],[0.4444444444444444,\"#bd3786\"],[0.5555555555555556,\"#d8576b\"],[0.6666666666666666,\"#ed7953\"],[0.7777777777777778,\"#fb9f3a\"],[0.8888888888888888,\"#fdca26\"],[1.0,\"#f0f921\"]]}],\"heatmapgl\":[{\"type\":\"heatmapgl\",\"colorbar\":{\"outlinewidth\":0,\"ticks\":\"\"},\"colorscale\":[[0.0,\"#0d0887\"],[0.1111111111111111,\"#46039f\"],[0.2222222222222222,\"#7201a8\"],[0.3333333333333333,\"#9c179e\"],[0.4444444444444444,\"#bd3786\"],[0.5555555555555556,\"#d8576b\"],[0.6666666666666666,\"#ed7953\"],[0.7777777777777778,\"#fb9f3a\"],[0.8888888888888888,\"#fdca26\"],[1.0,\"#f0f921\"]]}],\"contourcarpet\":[{\"type\":\"contourcarpet\",\"colorbar\":{\"outlinewidth\":0,\"ticks\":\"\"}}],\"contour\":[{\"type\":\"contour\",\"colorbar\":{\"outlinewidth\":0,\"ticks\":\"\"},\"colorscale\":[[0.0,\"#0d0887\"],[0.1111111111111111,\"#46039f\"],[0.2222222222222222,\"#7201a8\"],[0.3333333333333333,\"#9c179e\"],[0.4444444444444444,\"#bd3786\"],[0.5555555555555556,\"#d8576b\"],[0.6666666666666666,\"#ed7953\"],[0.7777777777777778,\"#fb9f3a\"],[0.8888888888888888,\"#fdca26\"],[1.0,\"#f0f921\"]]}],\"surface\":[{\"type\":\"surface\",\"colorbar\":{\"outlinewidth\":0,\"ticks\":\"\"},\"colorscale\":[[0.0,\"#0d0887\"],[0.1111111111111111,\"#46039f\"],[0.2222222222222222,\"#7201a8\"],[0.3333333333333333,\"#9c179e\"],[0.4444444444444444,\"#bd3786\"],[0.5555555555555556,\"#d8576b\"],[0.6666666666666666,\"#ed7953\"],[0.7777777777777778,\"#fb9f3a\"],[0.8888888888888888,\"#fdca26\"],[1.0,\"#f0f921\"]]}],\"mesh3d\":[{\"type\":\"mesh3d\",\"colorbar\":{\"outlinewidth\":0,\"ticks\":\"\"}}],\"scatter\":[{\"fillpattern\":{\"fillmode\":\"overlay\",\"size\":10,\"solidity\":0.2},\"type\":\"scatter\"}],\"parcoords\":[{\"type\":\"parcoords\",\"line\":{\"colorbar\":{\"outlinewidth\":0,\"ticks\":\"\"}}}],\"scatterpolargl\":[{\"type\":\"scatterpolargl\",\"marker\":{\"colorbar\":{\"outlinewidth\":0,\"ticks\":\"\"}}}],\"bar\":[{\"error_x\":{\"color\":\"#2a3f5f\"},\"error_y\":{\"color\":\"#2a3f5f\"},\"marker\":{\"line\":{\"color\":\"#E5ECF6\",\"width\":0.5},\"pattern\":{\"fillmode\":\"overlay\",\"size\":10,\"solidity\":0.2}},\"type\":\"bar\"}],\"scattergeo\":[{\"type\":\"scattergeo\",\"marker\":{\"colorbar\":{\"outlinewidth\":0,\"ticks\":\"\"}}}],\"scatterpolar\":[{\"type\":\"scatterpolar\",\"marker\":{\"colorbar\":{\"outlinewidth\":0,\"ticks\":\"\"}}}],\"histogram\":[{\"marker\":{\"pattern\":{\"fillmode\":\"overlay\",\"size\":10,\"solidity\":0.2}},\"type\":\"histogram\"}],\"scattergl\":[{\"type\":\"scattergl\",\"marker\":{\"colorbar\":{\"outlinewidth\":0,\"ticks\":\"\"}}}],\"scatter3d\":[{\"type\":\"scatter3d\",\"line\":{\"colorbar\":{\"outlinewidth\":0,\"ticks\":\"\"}},\"marker\":{\"colorbar\":{\"outlinewidth\":0,\"ticks\":\"\"}}}],\"scattermapbox\":[{\"type\":\"scattermapbox\",\"marker\":{\"colorbar\":{\"outlinewidth\":0,\"ticks\":\"\"}}}],\"scatterternary\":[{\"type\":\"scatterternary\",\"marker\":{\"colorbar\":{\"outlinewidth\":0,\"ticks\":\"\"}}}],\"scattercarpet\":[{\"type\":\"scattercarpet\",\"marker\":{\"colorbar\":{\"outlinewidth\":0,\"ticks\":\"\"}}}],\"carpet\":[{\"aaxis\":{\"endlinecolor\":\"#2a3f5f\",\"gridcolor\":\"white\",\"linecolor\":\"white\",\"minorgridcolor\":\"white\",\"startlinecolor\":\"#2a3f5f\"},\"baxis\":{\"endlinecolor\":\"#2a3f5f\",\"gridcolor\":\"white\",\"linecolor\":\"white\",\"minorgridcolor\":\"white\",\"startlinecolor\":\"#2a3f5f\"},\"type\":\"carpet\"}],\"table\":[{\"cells\":{\"fill\":{\"color\":\"#EBF0F8\"},\"line\":{\"color\":\"white\"}},\"header\":{\"fill\":{\"color\":\"#C8D4E3\"},\"line\":{\"color\":\"white\"}},\"type\":\"table\"}],\"barpolar\":[{\"marker\":{\"line\":{\"color\":\"#E5ECF6\",\"width\":0.5},\"pattern\":{\"fillmode\":\"overlay\",\"size\":10,\"solidity\":0.2}},\"type\":\"barpolar\"}],\"pie\":[{\"automargin\":true,\"type\":\"pie\"}]},\"layout\":{\"autotypenumbers\":\"strict\",\"colorway\":[\"#636efa\",\"#EF553B\",\"#00cc96\",\"#ab63fa\",\"#FFA15A\",\"#19d3f3\",\"#FF6692\",\"#B6E880\",\"#FF97FF\",\"#FECB52\"],\"font\":{\"color\":\"#2a3f5f\"},\"hovermode\":\"closest\",\"hoverlabel\":{\"align\":\"left\"},\"paper_bgcolor\":\"white\",\"plot_bgcolor\":\"#E5ECF6\",\"polar\":{\"bgcolor\":\"#E5ECF6\",\"angularaxis\":{\"gridcolor\":\"white\",\"linecolor\":\"white\",\"ticks\":\"\"},\"radialaxis\":{\"gridcolor\":\"white\",\"linecolor\":\"white\",\"ticks\":\"\"}},\"ternary\":{\"bgcolor\":\"#E5ECF6\",\"aaxis\":{\"gridcolor\":\"white\",\"linecolor\":\"white\",\"ticks\":\"\"},\"baxis\":{\"gridcolor\":\"white\",\"linecolor\":\"white\",\"ticks\":\"\"},\"caxis\":{\"gridcolor\":\"white\",\"linecolor\":\"white\",\"ticks\":\"\"}},\"coloraxis\":{\"colorbar\":{\"outlinewidth\":0,\"ticks\":\"\"}},\"colorscale\":{\"sequential\":[[0.0,\"#0d0887\"],[0.1111111111111111,\"#46039f\"],[0.2222222222222222,\"#7201a8\"],[0.3333333333333333,\"#9c179e\"],[0.4444444444444444,\"#bd3786\"],[0.5555555555555556,\"#d8576b\"],[0.6666666666666666,\"#ed7953\"],[0.7777777777777778,\"#fb9f3a\"],[0.8888888888888888,\"#fdca26\"],[1.0,\"#f0f921\"]],\"sequentialminus\":[[0.0,\"#0d0887\"],[0.1111111111111111,\"#46039f\"],[0.2222222222222222,\"#7201a8\"],[0.3333333333333333,\"#9c179e\"],[0.4444444444444444,\"#bd3786\"],[0.5555555555555556,\"#d8576b\"],[0.6666666666666666,\"#ed7953\"],[0.7777777777777778,\"#fb9f3a\"],[0.8888888888888888,\"#fdca26\"],[1.0,\"#f0f921\"]],\"diverging\":[[0,\"#8e0152\"],[0.1,\"#c51b7d\"],[0.2,\"#de77ae\"],[0.3,\"#f1b6da\"],[0.4,\"#fde0ef\"],[0.5,\"#f7f7f7\"],[0.6,\"#e6f5d0\"],[0.7,\"#b8e186\"],[0.8,\"#7fbc41\"],[0.9,\"#4d9221\"],[1,\"#276419\"]]},\"xaxis\":{\"gridcolor\":\"white\",\"linecolor\":\"white\",\"ticks\":\"\",\"title\":{\"standoff\":15},\"zerolinecolor\":\"white\",\"automargin\":true,\"zerolinewidth\":2},\"yaxis\":{\"gridcolor\":\"white\",\"linecolor\":\"white\",\"ticks\":\"\",\"title\":{\"standoff\":15},\"zerolinecolor\":\"white\",\"automargin\":true,\"zerolinewidth\":2},\"scene\":{\"xaxis\":{\"backgroundcolor\":\"#E5ECF6\",\"gridcolor\":\"white\",\"linecolor\":\"white\",\"showbackground\":true,\"ticks\":\"\",\"zerolinecolor\":\"white\",\"gridwidth\":2},\"yaxis\":{\"backgroundcolor\":\"#E5ECF6\",\"gridcolor\":\"white\",\"linecolor\":\"white\",\"showbackground\":true,\"ticks\":\"\",\"zerolinecolor\":\"white\",\"gridwidth\":2},\"zaxis\":{\"backgroundcolor\":\"#E5ECF6\",\"gridcolor\":\"white\",\"linecolor\":\"white\",\"showbackground\":true,\"ticks\":\"\",\"zerolinecolor\":\"white\",\"gridwidth\":2}},\"shapedefaults\":{\"line\":{\"color\":\"#2a3f5f\"}},\"annotationdefaults\":{\"arrowcolor\":\"#2a3f5f\",\"arrowhead\":0,\"arrowwidth\":1},\"geo\":{\"bgcolor\":\"white\",\"landcolor\":\"#E5ECF6\",\"subunitcolor\":\"white\",\"showland\":true,\"showlakes\":true,\"lakecolor\":\"white\"},\"title\":{\"x\":0.05},\"mapbox\":{\"style\":\"light\"}}}},                        {\"responsive\": true}                    ).then(function(){\n",
       "                            \n",
       "var gd = document.getElementById('ca00178e-879c-4821-b857-dbce451ad96e');\n",
       "var x = new MutationObserver(function (mutations, observer) {{\n",
       "        var display = window.getComputedStyle(gd).display;\n",
       "        if (!display || display === 'none') {{\n",
       "            console.log([gd, 'removed!']);\n",
       "            Plotly.purge(gd);\n",
       "            observer.disconnect();\n",
       "        }}\n",
       "}});\n",
       "\n",
       "// Listen for the removal of the full notebook cells\n",
       "var notebookContainer = gd.closest('#notebook-container');\n",
       "if (notebookContainer) {{\n",
       "    x.observe(notebookContainer, {childList: true});\n",
       "}}\n",
       "\n",
       "// Listen for the clearing of the current output cell\n",
       "var outputEl = gd.closest('.output');\n",
       "if (outputEl) {{\n",
       "    x.observe(outputEl, {childList: true});\n",
       "}}\n",
       "\n",
       "                        })                };                });            </script>        </div>"
      ]
     },
     "metadata": {},
     "output_type": "display_data"
    }
   ],
   "source": [
    "fig = optuna.visualization.plot_parallel_coordinate(study)\n",
    "fig.show()"
   ]
  },
  {
   "cell_type": "code",
   "execution_count": 9,
   "id": "e593bc9b",
   "metadata": {
    "ExecuteTime": {
     "end_time": "2022-10-07T09:08:01.434410Z",
     "start_time": "2022-10-07T09:08:01.344166Z"
    }
   },
   "outputs": [
    {
     "data": {
      "application/vnd.plotly.v1+json": {
       "config": {
        "plotlyServerURL": "https://plot.ly"
       },
       "data": [
        {
         "cliponaxis": false,
         "hovertemplate": [
          "LAMBDA (CategoricalDistribution): 0.10701309350352245<extra></extra>",
          "FEAT_WEIGHT (CategoricalDistribution): 0.25633627000871945<extra></extra>",
          "LR (CategoricalDistribution): 0.2612295817769792<extra></extra>",
          "TASK_WEIGHT (CategoricalDistribution): 0.3754210547107789<extra></extra>"
         ],
         "marker": {
          "color": "rgb(66,146,198)"
         },
         "orientation": "h",
         "text": [
          "0.10701309350352245",
          "0.25633627000871945",
          "0.2612295817769792",
          "0.3754210547107789"
         ],
         "textposition": "outside",
         "texttemplate": "%{text:.2f}",
         "type": "bar",
         "x": [
          0.10701309350352245,
          0.25633627000871945,
          0.2612295817769792,
          0.3754210547107789
         ],
         "y": [
          "LAMBDA",
          "FEAT_WEIGHT",
          "LR",
          "TASK_WEIGHT"
         ]
        }
       ],
       "layout": {
        "showlegend": false,
        "template": {
         "data": {
          "bar": [
           {
            "error_x": {
             "color": "#2a3f5f"
            },
            "error_y": {
             "color": "#2a3f5f"
            },
            "marker": {
             "line": {
              "color": "#E5ECF6",
              "width": 0.5
             },
             "pattern": {
              "fillmode": "overlay",
              "size": 10,
              "solidity": 0.2
             }
            },
            "type": "bar"
           }
          ],
          "barpolar": [
           {
            "marker": {
             "line": {
              "color": "#E5ECF6",
              "width": 0.5
             },
             "pattern": {
              "fillmode": "overlay",
              "size": 10,
              "solidity": 0.2
             }
            },
            "type": "barpolar"
           }
          ],
          "carpet": [
           {
            "aaxis": {
             "endlinecolor": "#2a3f5f",
             "gridcolor": "white",
             "linecolor": "white",
             "minorgridcolor": "white",
             "startlinecolor": "#2a3f5f"
            },
            "baxis": {
             "endlinecolor": "#2a3f5f",
             "gridcolor": "white",
             "linecolor": "white",
             "minorgridcolor": "white",
             "startlinecolor": "#2a3f5f"
            },
            "type": "carpet"
           }
          ],
          "choropleth": [
           {
            "colorbar": {
             "outlinewidth": 0,
             "ticks": ""
            },
            "type": "choropleth"
           }
          ],
          "contour": [
           {
            "colorbar": {
             "outlinewidth": 0,
             "ticks": ""
            },
            "colorscale": [
             [
              0,
              "#0d0887"
             ],
             [
              0.1111111111111111,
              "#46039f"
             ],
             [
              0.2222222222222222,
              "#7201a8"
             ],
             [
              0.3333333333333333,
              "#9c179e"
             ],
             [
              0.4444444444444444,
              "#bd3786"
             ],
             [
              0.5555555555555556,
              "#d8576b"
             ],
             [
              0.6666666666666666,
              "#ed7953"
             ],
             [
              0.7777777777777778,
              "#fb9f3a"
             ],
             [
              0.8888888888888888,
              "#fdca26"
             ],
             [
              1,
              "#f0f921"
             ]
            ],
            "type": "contour"
           }
          ],
          "contourcarpet": [
           {
            "colorbar": {
             "outlinewidth": 0,
             "ticks": ""
            },
            "type": "contourcarpet"
           }
          ],
          "heatmap": [
           {
            "colorbar": {
             "outlinewidth": 0,
             "ticks": ""
            },
            "colorscale": [
             [
              0,
              "#0d0887"
             ],
             [
              0.1111111111111111,
              "#46039f"
             ],
             [
              0.2222222222222222,
              "#7201a8"
             ],
             [
              0.3333333333333333,
              "#9c179e"
             ],
             [
              0.4444444444444444,
              "#bd3786"
             ],
             [
              0.5555555555555556,
              "#d8576b"
             ],
             [
              0.6666666666666666,
              "#ed7953"
             ],
             [
              0.7777777777777778,
              "#fb9f3a"
             ],
             [
              0.8888888888888888,
              "#fdca26"
             ],
             [
              1,
              "#f0f921"
             ]
            ],
            "type": "heatmap"
           }
          ],
          "heatmapgl": [
           {
            "colorbar": {
             "outlinewidth": 0,
             "ticks": ""
            },
            "colorscale": [
             [
              0,
              "#0d0887"
             ],
             [
              0.1111111111111111,
              "#46039f"
             ],
             [
              0.2222222222222222,
              "#7201a8"
             ],
             [
              0.3333333333333333,
              "#9c179e"
             ],
             [
              0.4444444444444444,
              "#bd3786"
             ],
             [
              0.5555555555555556,
              "#d8576b"
             ],
             [
              0.6666666666666666,
              "#ed7953"
             ],
             [
              0.7777777777777778,
              "#fb9f3a"
             ],
             [
              0.8888888888888888,
              "#fdca26"
             ],
             [
              1,
              "#f0f921"
             ]
            ],
            "type": "heatmapgl"
           }
          ],
          "histogram": [
           {
            "marker": {
             "pattern": {
              "fillmode": "overlay",
              "size": 10,
              "solidity": 0.2
             }
            },
            "type": "histogram"
           }
          ],
          "histogram2d": [
           {
            "colorbar": {
             "outlinewidth": 0,
             "ticks": ""
            },
            "colorscale": [
             [
              0,
              "#0d0887"
             ],
             [
              0.1111111111111111,
              "#46039f"
             ],
             [
              0.2222222222222222,
              "#7201a8"
             ],
             [
              0.3333333333333333,
              "#9c179e"
             ],
             [
              0.4444444444444444,
              "#bd3786"
             ],
             [
              0.5555555555555556,
              "#d8576b"
             ],
             [
              0.6666666666666666,
              "#ed7953"
             ],
             [
              0.7777777777777778,
              "#fb9f3a"
             ],
             [
              0.8888888888888888,
              "#fdca26"
             ],
             [
              1,
              "#f0f921"
             ]
            ],
            "type": "histogram2d"
           }
          ],
          "histogram2dcontour": [
           {
            "colorbar": {
             "outlinewidth": 0,
             "ticks": ""
            },
            "colorscale": [
             [
              0,
              "#0d0887"
             ],
             [
              0.1111111111111111,
              "#46039f"
             ],
             [
              0.2222222222222222,
              "#7201a8"
             ],
             [
              0.3333333333333333,
              "#9c179e"
             ],
             [
              0.4444444444444444,
              "#bd3786"
             ],
             [
              0.5555555555555556,
              "#d8576b"
             ],
             [
              0.6666666666666666,
              "#ed7953"
             ],
             [
              0.7777777777777778,
              "#fb9f3a"
             ],
             [
              0.8888888888888888,
              "#fdca26"
             ],
             [
              1,
              "#f0f921"
             ]
            ],
            "type": "histogram2dcontour"
           }
          ],
          "mesh3d": [
           {
            "colorbar": {
             "outlinewidth": 0,
             "ticks": ""
            },
            "type": "mesh3d"
           }
          ],
          "parcoords": [
           {
            "line": {
             "colorbar": {
              "outlinewidth": 0,
              "ticks": ""
             }
            },
            "type": "parcoords"
           }
          ],
          "pie": [
           {
            "automargin": true,
            "type": "pie"
           }
          ],
          "scatter": [
           {
            "fillpattern": {
             "fillmode": "overlay",
             "size": 10,
             "solidity": 0.2
            },
            "type": "scatter"
           }
          ],
          "scatter3d": [
           {
            "line": {
             "colorbar": {
              "outlinewidth": 0,
              "ticks": ""
             }
            },
            "marker": {
             "colorbar": {
              "outlinewidth": 0,
              "ticks": ""
             }
            },
            "type": "scatter3d"
           }
          ],
          "scattercarpet": [
           {
            "marker": {
             "colorbar": {
              "outlinewidth": 0,
              "ticks": ""
             }
            },
            "type": "scattercarpet"
           }
          ],
          "scattergeo": [
           {
            "marker": {
             "colorbar": {
              "outlinewidth": 0,
              "ticks": ""
             }
            },
            "type": "scattergeo"
           }
          ],
          "scattergl": [
           {
            "marker": {
             "colorbar": {
              "outlinewidth": 0,
              "ticks": ""
             }
            },
            "type": "scattergl"
           }
          ],
          "scattermapbox": [
           {
            "marker": {
             "colorbar": {
              "outlinewidth": 0,
              "ticks": ""
             }
            },
            "type": "scattermapbox"
           }
          ],
          "scatterpolar": [
           {
            "marker": {
             "colorbar": {
              "outlinewidth": 0,
              "ticks": ""
             }
            },
            "type": "scatterpolar"
           }
          ],
          "scatterpolargl": [
           {
            "marker": {
             "colorbar": {
              "outlinewidth": 0,
              "ticks": ""
             }
            },
            "type": "scatterpolargl"
           }
          ],
          "scatterternary": [
           {
            "marker": {
             "colorbar": {
              "outlinewidth": 0,
              "ticks": ""
             }
            },
            "type": "scatterternary"
           }
          ],
          "surface": [
           {
            "colorbar": {
             "outlinewidth": 0,
             "ticks": ""
            },
            "colorscale": [
             [
              0,
              "#0d0887"
             ],
             [
              0.1111111111111111,
              "#46039f"
             ],
             [
              0.2222222222222222,
              "#7201a8"
             ],
             [
              0.3333333333333333,
              "#9c179e"
             ],
             [
              0.4444444444444444,
              "#bd3786"
             ],
             [
              0.5555555555555556,
              "#d8576b"
             ],
             [
              0.6666666666666666,
              "#ed7953"
             ],
             [
              0.7777777777777778,
              "#fb9f3a"
             ],
             [
              0.8888888888888888,
              "#fdca26"
             ],
             [
              1,
              "#f0f921"
             ]
            ],
            "type": "surface"
           }
          ],
          "table": [
           {
            "cells": {
             "fill": {
              "color": "#EBF0F8"
             },
             "line": {
              "color": "white"
             }
            },
            "header": {
             "fill": {
              "color": "#C8D4E3"
             },
             "line": {
              "color": "white"
             }
            },
            "type": "table"
           }
          ]
         },
         "layout": {
          "annotationdefaults": {
           "arrowcolor": "#2a3f5f",
           "arrowhead": 0,
           "arrowwidth": 1
          },
          "autotypenumbers": "strict",
          "coloraxis": {
           "colorbar": {
            "outlinewidth": 0,
            "ticks": ""
           }
          },
          "colorscale": {
           "diverging": [
            [
             0,
             "#8e0152"
            ],
            [
             0.1,
             "#c51b7d"
            ],
            [
             0.2,
             "#de77ae"
            ],
            [
             0.3,
             "#f1b6da"
            ],
            [
             0.4,
             "#fde0ef"
            ],
            [
             0.5,
             "#f7f7f7"
            ],
            [
             0.6,
             "#e6f5d0"
            ],
            [
             0.7,
             "#b8e186"
            ],
            [
             0.8,
             "#7fbc41"
            ],
            [
             0.9,
             "#4d9221"
            ],
            [
             1,
             "#276419"
            ]
           ],
           "sequential": [
            [
             0,
             "#0d0887"
            ],
            [
             0.1111111111111111,
             "#46039f"
            ],
            [
             0.2222222222222222,
             "#7201a8"
            ],
            [
             0.3333333333333333,
             "#9c179e"
            ],
            [
             0.4444444444444444,
             "#bd3786"
            ],
            [
             0.5555555555555556,
             "#d8576b"
            ],
            [
             0.6666666666666666,
             "#ed7953"
            ],
            [
             0.7777777777777778,
             "#fb9f3a"
            ],
            [
             0.8888888888888888,
             "#fdca26"
            ],
            [
             1,
             "#f0f921"
            ]
           ],
           "sequentialminus": [
            [
             0,
             "#0d0887"
            ],
            [
             0.1111111111111111,
             "#46039f"
            ],
            [
             0.2222222222222222,
             "#7201a8"
            ],
            [
             0.3333333333333333,
             "#9c179e"
            ],
            [
             0.4444444444444444,
             "#bd3786"
            ],
            [
             0.5555555555555556,
             "#d8576b"
            ],
            [
             0.6666666666666666,
             "#ed7953"
            ],
            [
             0.7777777777777778,
             "#fb9f3a"
            ],
            [
             0.8888888888888888,
             "#fdca26"
            ],
            [
             1,
             "#f0f921"
            ]
           ]
          },
          "colorway": [
           "#636efa",
           "#EF553B",
           "#00cc96",
           "#ab63fa",
           "#FFA15A",
           "#19d3f3",
           "#FF6692",
           "#B6E880",
           "#FF97FF",
           "#FECB52"
          ],
          "font": {
           "color": "#2a3f5f"
          },
          "geo": {
           "bgcolor": "white",
           "lakecolor": "white",
           "landcolor": "#E5ECF6",
           "showlakes": true,
           "showland": true,
           "subunitcolor": "white"
          },
          "hoverlabel": {
           "align": "left"
          },
          "hovermode": "closest",
          "mapbox": {
           "style": "light"
          },
          "paper_bgcolor": "white",
          "plot_bgcolor": "#E5ECF6",
          "polar": {
           "angularaxis": {
            "gridcolor": "white",
            "linecolor": "white",
            "ticks": ""
           },
           "bgcolor": "#E5ECF6",
           "radialaxis": {
            "gridcolor": "white",
            "linecolor": "white",
            "ticks": ""
           }
          },
          "scene": {
           "xaxis": {
            "backgroundcolor": "#E5ECF6",
            "gridcolor": "white",
            "gridwidth": 2,
            "linecolor": "white",
            "showbackground": true,
            "ticks": "",
            "zerolinecolor": "white"
           },
           "yaxis": {
            "backgroundcolor": "#E5ECF6",
            "gridcolor": "white",
            "gridwidth": 2,
            "linecolor": "white",
            "showbackground": true,
            "ticks": "",
            "zerolinecolor": "white"
           },
           "zaxis": {
            "backgroundcolor": "#E5ECF6",
            "gridcolor": "white",
            "gridwidth": 2,
            "linecolor": "white",
            "showbackground": true,
            "ticks": "",
            "zerolinecolor": "white"
           }
          },
          "shapedefaults": {
           "line": {
            "color": "#2a3f5f"
           }
          },
          "ternary": {
           "aaxis": {
            "gridcolor": "white",
            "linecolor": "white",
            "ticks": ""
           },
           "baxis": {
            "gridcolor": "white",
            "linecolor": "white",
            "ticks": ""
           },
           "bgcolor": "#E5ECF6",
           "caxis": {
            "gridcolor": "white",
            "linecolor": "white",
            "ticks": ""
           }
          },
          "title": {
           "x": 0.05
          },
          "xaxis": {
           "automargin": true,
           "gridcolor": "white",
           "linecolor": "white",
           "ticks": "",
           "title": {
            "standoff": 15
           },
           "zerolinecolor": "white",
           "zerolinewidth": 2
          },
          "yaxis": {
           "automargin": true,
           "gridcolor": "white",
           "linecolor": "white",
           "ticks": "",
           "title": {
            "standoff": 15
           },
           "zerolinecolor": "white",
           "zerolinewidth": 2
          }
         }
        },
        "title": {
         "text": "Hyperparameter Importances"
        },
        "xaxis": {
         "title": {
          "text": "Importance for Objective Value"
         }
        },
        "yaxis": {
         "title": {
          "text": "Hyperparameter"
         }
        }
       }
      },
      "text/html": [
       "<div>                            <div id=\"53cff6d6-46b4-4a4b-b675-08fdc0f950c1\" class=\"plotly-graph-div\" style=\"height:525px; width:100%;\"></div>            <script type=\"text/javascript\">                require([\"plotly\"], function(Plotly) {                    window.PLOTLYENV=window.PLOTLYENV || {};                                    if (document.getElementById(\"53cff6d6-46b4-4a4b-b675-08fdc0f950c1\")) {                    Plotly.newPlot(                        \"53cff6d6-46b4-4a4b-b675-08fdc0f950c1\",                        [{\"cliponaxis\":false,\"hovertemplate\":[\"LAMBDA (CategoricalDistribution): 0.10701309350352245<extra></extra>\",\"FEAT_WEIGHT (CategoricalDistribution): 0.25633627000871945<extra></extra>\",\"LR (CategoricalDistribution): 0.2612295817769792<extra></extra>\",\"TASK_WEIGHT (CategoricalDistribution): 0.3754210547107789<extra></extra>\"],\"marker\":{\"color\":\"rgb(66,146,198)\"},\"orientation\":\"h\",\"text\":[\"0.10701309350352245\",\"0.25633627000871945\",\"0.2612295817769792\",\"0.3754210547107789\"],\"textposition\":\"outside\",\"texttemplate\":\"%{text:.2f}\",\"x\":[0.10701309350352245,0.25633627000871945,0.2612295817769792,0.3754210547107789],\"y\":[\"LAMBDA\",\"FEAT_WEIGHT\",\"LR\",\"TASK_WEIGHT\"],\"type\":\"bar\"}],                        {\"showlegend\":false,\"title\":{\"text\":\"Hyperparameter Importances\"},\"xaxis\":{\"title\":{\"text\":\"Importance for Objective Value\"}},\"yaxis\":{\"title\":{\"text\":\"Hyperparameter\"}},\"template\":{\"data\":{\"histogram2dcontour\":[{\"type\":\"histogram2dcontour\",\"colorbar\":{\"outlinewidth\":0,\"ticks\":\"\"},\"colorscale\":[[0.0,\"#0d0887\"],[0.1111111111111111,\"#46039f\"],[0.2222222222222222,\"#7201a8\"],[0.3333333333333333,\"#9c179e\"],[0.4444444444444444,\"#bd3786\"],[0.5555555555555556,\"#d8576b\"],[0.6666666666666666,\"#ed7953\"],[0.7777777777777778,\"#fb9f3a\"],[0.8888888888888888,\"#fdca26\"],[1.0,\"#f0f921\"]]}],\"choropleth\":[{\"type\":\"choropleth\",\"colorbar\":{\"outlinewidth\":0,\"ticks\":\"\"}}],\"histogram2d\":[{\"type\":\"histogram2d\",\"colorbar\":{\"outlinewidth\":0,\"ticks\":\"\"},\"colorscale\":[[0.0,\"#0d0887\"],[0.1111111111111111,\"#46039f\"],[0.2222222222222222,\"#7201a8\"],[0.3333333333333333,\"#9c179e\"],[0.4444444444444444,\"#bd3786\"],[0.5555555555555556,\"#d8576b\"],[0.6666666666666666,\"#ed7953\"],[0.7777777777777778,\"#fb9f3a\"],[0.8888888888888888,\"#fdca26\"],[1.0,\"#f0f921\"]]}],\"heatmap\":[{\"type\":\"heatmap\",\"colorbar\":{\"outlinewidth\":0,\"ticks\":\"\"},\"colorscale\":[[0.0,\"#0d0887\"],[0.1111111111111111,\"#46039f\"],[0.2222222222222222,\"#7201a8\"],[0.3333333333333333,\"#9c179e\"],[0.4444444444444444,\"#bd3786\"],[0.5555555555555556,\"#d8576b\"],[0.6666666666666666,\"#ed7953\"],[0.7777777777777778,\"#fb9f3a\"],[0.8888888888888888,\"#fdca26\"],[1.0,\"#f0f921\"]]}],\"heatmapgl\":[{\"type\":\"heatmapgl\",\"colorbar\":{\"outlinewidth\":0,\"ticks\":\"\"},\"colorscale\":[[0.0,\"#0d0887\"],[0.1111111111111111,\"#46039f\"],[0.2222222222222222,\"#7201a8\"],[0.3333333333333333,\"#9c179e\"],[0.4444444444444444,\"#bd3786\"],[0.5555555555555556,\"#d8576b\"],[0.6666666666666666,\"#ed7953\"],[0.7777777777777778,\"#fb9f3a\"],[0.8888888888888888,\"#fdca26\"],[1.0,\"#f0f921\"]]}],\"contourcarpet\":[{\"type\":\"contourcarpet\",\"colorbar\":{\"outlinewidth\":0,\"ticks\":\"\"}}],\"contour\":[{\"type\":\"contour\",\"colorbar\":{\"outlinewidth\":0,\"ticks\":\"\"},\"colorscale\":[[0.0,\"#0d0887\"],[0.1111111111111111,\"#46039f\"],[0.2222222222222222,\"#7201a8\"],[0.3333333333333333,\"#9c179e\"],[0.4444444444444444,\"#bd3786\"],[0.5555555555555556,\"#d8576b\"],[0.6666666666666666,\"#ed7953\"],[0.7777777777777778,\"#fb9f3a\"],[0.8888888888888888,\"#fdca26\"],[1.0,\"#f0f921\"]]}],\"surface\":[{\"type\":\"surface\",\"colorbar\":{\"outlinewidth\":0,\"ticks\":\"\"},\"colorscale\":[[0.0,\"#0d0887\"],[0.1111111111111111,\"#46039f\"],[0.2222222222222222,\"#7201a8\"],[0.3333333333333333,\"#9c179e\"],[0.4444444444444444,\"#bd3786\"],[0.5555555555555556,\"#d8576b\"],[0.6666666666666666,\"#ed7953\"],[0.7777777777777778,\"#fb9f3a\"],[0.8888888888888888,\"#fdca26\"],[1.0,\"#f0f921\"]]}],\"mesh3d\":[{\"type\":\"mesh3d\",\"colorbar\":{\"outlinewidth\":0,\"ticks\":\"\"}}],\"scatter\":[{\"fillpattern\":{\"fillmode\":\"overlay\",\"size\":10,\"solidity\":0.2},\"type\":\"scatter\"}],\"parcoords\":[{\"type\":\"parcoords\",\"line\":{\"colorbar\":{\"outlinewidth\":0,\"ticks\":\"\"}}}],\"scatterpolargl\":[{\"type\":\"scatterpolargl\",\"marker\":{\"colorbar\":{\"outlinewidth\":0,\"ticks\":\"\"}}}],\"bar\":[{\"error_x\":{\"color\":\"#2a3f5f\"},\"error_y\":{\"color\":\"#2a3f5f\"},\"marker\":{\"line\":{\"color\":\"#E5ECF6\",\"width\":0.5},\"pattern\":{\"fillmode\":\"overlay\",\"size\":10,\"solidity\":0.2}},\"type\":\"bar\"}],\"scattergeo\":[{\"type\":\"scattergeo\",\"marker\":{\"colorbar\":{\"outlinewidth\":0,\"ticks\":\"\"}}}],\"scatterpolar\":[{\"type\":\"scatterpolar\",\"marker\":{\"colorbar\":{\"outlinewidth\":0,\"ticks\":\"\"}}}],\"histogram\":[{\"marker\":{\"pattern\":{\"fillmode\":\"overlay\",\"size\":10,\"solidity\":0.2}},\"type\":\"histogram\"}],\"scattergl\":[{\"type\":\"scattergl\",\"marker\":{\"colorbar\":{\"outlinewidth\":0,\"ticks\":\"\"}}}],\"scatter3d\":[{\"type\":\"scatter3d\",\"line\":{\"colorbar\":{\"outlinewidth\":0,\"ticks\":\"\"}},\"marker\":{\"colorbar\":{\"outlinewidth\":0,\"ticks\":\"\"}}}],\"scattermapbox\":[{\"type\":\"scattermapbox\",\"marker\":{\"colorbar\":{\"outlinewidth\":0,\"ticks\":\"\"}}}],\"scatterternary\":[{\"type\":\"scatterternary\",\"marker\":{\"colorbar\":{\"outlinewidth\":0,\"ticks\":\"\"}}}],\"scattercarpet\":[{\"type\":\"scattercarpet\",\"marker\":{\"colorbar\":{\"outlinewidth\":0,\"ticks\":\"\"}}}],\"carpet\":[{\"aaxis\":{\"endlinecolor\":\"#2a3f5f\",\"gridcolor\":\"white\",\"linecolor\":\"white\",\"minorgridcolor\":\"white\",\"startlinecolor\":\"#2a3f5f\"},\"baxis\":{\"endlinecolor\":\"#2a3f5f\",\"gridcolor\":\"white\",\"linecolor\":\"white\",\"minorgridcolor\":\"white\",\"startlinecolor\":\"#2a3f5f\"},\"type\":\"carpet\"}],\"table\":[{\"cells\":{\"fill\":{\"color\":\"#EBF0F8\"},\"line\":{\"color\":\"white\"}},\"header\":{\"fill\":{\"color\":\"#C8D4E3\"},\"line\":{\"color\":\"white\"}},\"type\":\"table\"}],\"barpolar\":[{\"marker\":{\"line\":{\"color\":\"#E5ECF6\",\"width\":0.5},\"pattern\":{\"fillmode\":\"overlay\",\"size\":10,\"solidity\":0.2}},\"type\":\"barpolar\"}],\"pie\":[{\"automargin\":true,\"type\":\"pie\"}]},\"layout\":{\"autotypenumbers\":\"strict\",\"colorway\":[\"#636efa\",\"#EF553B\",\"#00cc96\",\"#ab63fa\",\"#FFA15A\",\"#19d3f3\",\"#FF6692\",\"#B6E880\",\"#FF97FF\",\"#FECB52\"],\"font\":{\"color\":\"#2a3f5f\"},\"hovermode\":\"closest\",\"hoverlabel\":{\"align\":\"left\"},\"paper_bgcolor\":\"white\",\"plot_bgcolor\":\"#E5ECF6\",\"polar\":{\"bgcolor\":\"#E5ECF6\",\"angularaxis\":{\"gridcolor\":\"white\",\"linecolor\":\"white\",\"ticks\":\"\"},\"radialaxis\":{\"gridcolor\":\"white\",\"linecolor\":\"white\",\"ticks\":\"\"}},\"ternary\":{\"bgcolor\":\"#E5ECF6\",\"aaxis\":{\"gridcolor\":\"white\",\"linecolor\":\"white\",\"ticks\":\"\"},\"baxis\":{\"gridcolor\":\"white\",\"linecolor\":\"white\",\"ticks\":\"\"},\"caxis\":{\"gridcolor\":\"white\",\"linecolor\":\"white\",\"ticks\":\"\"}},\"coloraxis\":{\"colorbar\":{\"outlinewidth\":0,\"ticks\":\"\"}},\"colorscale\":{\"sequential\":[[0.0,\"#0d0887\"],[0.1111111111111111,\"#46039f\"],[0.2222222222222222,\"#7201a8\"],[0.3333333333333333,\"#9c179e\"],[0.4444444444444444,\"#bd3786\"],[0.5555555555555556,\"#d8576b\"],[0.6666666666666666,\"#ed7953\"],[0.7777777777777778,\"#fb9f3a\"],[0.8888888888888888,\"#fdca26\"],[1.0,\"#f0f921\"]],\"sequentialminus\":[[0.0,\"#0d0887\"],[0.1111111111111111,\"#46039f\"],[0.2222222222222222,\"#7201a8\"],[0.3333333333333333,\"#9c179e\"],[0.4444444444444444,\"#bd3786\"],[0.5555555555555556,\"#d8576b\"],[0.6666666666666666,\"#ed7953\"],[0.7777777777777778,\"#fb9f3a\"],[0.8888888888888888,\"#fdca26\"],[1.0,\"#f0f921\"]],\"diverging\":[[0,\"#8e0152\"],[0.1,\"#c51b7d\"],[0.2,\"#de77ae\"],[0.3,\"#f1b6da\"],[0.4,\"#fde0ef\"],[0.5,\"#f7f7f7\"],[0.6,\"#e6f5d0\"],[0.7,\"#b8e186\"],[0.8,\"#7fbc41\"],[0.9,\"#4d9221\"],[1,\"#276419\"]]},\"xaxis\":{\"gridcolor\":\"white\",\"linecolor\":\"white\",\"ticks\":\"\",\"title\":{\"standoff\":15},\"zerolinecolor\":\"white\",\"automargin\":true,\"zerolinewidth\":2},\"yaxis\":{\"gridcolor\":\"white\",\"linecolor\":\"white\",\"ticks\":\"\",\"title\":{\"standoff\":15},\"zerolinecolor\":\"white\",\"automargin\":true,\"zerolinewidth\":2},\"scene\":{\"xaxis\":{\"backgroundcolor\":\"#E5ECF6\",\"gridcolor\":\"white\",\"linecolor\":\"white\",\"showbackground\":true,\"ticks\":\"\",\"zerolinecolor\":\"white\",\"gridwidth\":2},\"yaxis\":{\"backgroundcolor\":\"#E5ECF6\",\"gridcolor\":\"white\",\"linecolor\":\"white\",\"showbackground\":true,\"ticks\":\"\",\"zerolinecolor\":\"white\",\"gridwidth\":2},\"zaxis\":{\"backgroundcolor\":\"#E5ECF6\",\"gridcolor\":\"white\",\"linecolor\":\"white\",\"showbackground\":true,\"ticks\":\"\",\"zerolinecolor\":\"white\",\"gridwidth\":2}},\"shapedefaults\":{\"line\":{\"color\":\"#2a3f5f\"}},\"annotationdefaults\":{\"arrowcolor\":\"#2a3f5f\",\"arrowhead\":0,\"arrowwidth\":1},\"geo\":{\"bgcolor\":\"white\",\"landcolor\":\"#E5ECF6\",\"subunitcolor\":\"white\",\"showland\":true,\"showlakes\":true,\"lakecolor\":\"white\"},\"title\":{\"x\":0.05},\"mapbox\":{\"style\":\"light\"}}}},                        {\"responsive\": true}                    ).then(function(){\n",
       "                            \n",
       "var gd = document.getElementById('53cff6d6-46b4-4a4b-b675-08fdc0f950c1');\n",
       "var x = new MutationObserver(function (mutations, observer) {{\n",
       "        var display = window.getComputedStyle(gd).display;\n",
       "        if (!display || display === 'none') {{\n",
       "            console.log([gd, 'removed!']);\n",
       "            Plotly.purge(gd);\n",
       "            observer.disconnect();\n",
       "        }}\n",
       "}});\n",
       "\n",
       "// Listen for the removal of the full notebook cells\n",
       "var notebookContainer = gd.closest('#notebook-container');\n",
       "if (notebookContainer) {{\n",
       "    x.observe(notebookContainer, {childList: true});\n",
       "}}\n",
       "\n",
       "// Listen for the clearing of the current output cell\n",
       "var outputEl = gd.closest('.output');\n",
       "if (outputEl) {{\n",
       "    x.observe(outputEl, {childList: true});\n",
       "}}\n",
       "\n",
       "                        })                };                });            </script>        </div>"
      ]
     },
     "metadata": {},
     "output_type": "display_data"
    }
   ],
   "source": [
    "fig = optuna.visualization.plot_param_importances(study)\n",
    "fig.show()\n"
   ]
  },
  {
   "cell_type": "code",
   "execution_count": 10,
   "id": "629624a1",
   "metadata": {
    "ExecuteTime": {
     "end_time": "2022-10-07T09:08:01.881862Z",
     "start_time": "2022-10-07T09:08:01.864511Z"
    }
   },
   "outputs": [
    {
     "data": {
      "application/vnd.plotly.v1+json": {
       "config": {
        "plotlyServerURL": "https://plot.ly"
       },
       "data": [
        {
         "marker": {
          "maxdisplayed": 10
         },
         "mode": "lines+markers",
         "name": "Trial0",
         "type": "scatter",
         "x": [
          5000,
          10000,
          15000,
          20000,
          25000,
          30000,
          35000,
          40000,
          45000,
          50000,
          55000,
          60000,
          65000,
          70000,
          75000,
          80000,
          85000,
          90000,
          95000,
          100000,
          105000,
          110000,
          115000,
          120000,
          125000,
          130000,
          135000,
          140000,
          145000,
          150000,
          155000,
          160000,
          165000,
          170000,
          175000,
          180000,
          185000,
          190000,
          195000,
          200000,
          205000,
          210000,
          215000,
          220000,
          225000,
          230000,
          235000,
          240000,
          245000,
          250000,
          255000,
          260000,
          265000,
          270000,
          275000,
          280000,
          285000,
          290000,
          295000,
          300000,
          305000,
          310000,
          315000,
          320000,
          325000,
          330000,
          335000,
          340000,
          345000,
          350000,
          355000,
          360000,
          365000,
          370000,
          375000,
          380000,
          385000,
          390000,
          395000,
          400000,
          405000,
          410000,
          415000,
          420000,
          425000,
          430000,
          435000,
          440000,
          445000,
          450000,
          455000,
          460000,
          465000,
          470000,
          475000,
          480000,
          485000,
          490000,
          495000,
          500000
         ],
         "y": [
          28.9769229888916,
          30.9882755279541,
          30.691261291503906,
          31.029739379882812,
          30.98751449584961,
          30.070755004882812,
          30.105274200439453,
          30.69568634033203,
          30.721548080444336,
          29.37969970703125,
          30.641725540161133,
          29.968164443969727,
          30.855302810668945,
          30.051740646362305,
          29.930335998535156,
          29.786849975585938,
          31.962427139282227,
          29.914968490600586,
          31.13109588623047,
          31.059093475341797,
          31.03107452392578,
          30.794055938720703,
          31.631235122680664,
          31.118589401245117,
          29.773828506469727,
          32.006675720214844,
          30.535179138183594,
          29.647314071655273,
          30.921680450439453,
          30.89288902282715,
          31.414033889770508,
          30.764850616455078,
          30.7270450592041,
          31.259611129760742,
          30.42819595336914,
          31.247303009033203,
          30.43429183959961,
          31.69298553466797,
          30.23220443725586,
          31.375070571899414,
          31.208093643188477,
          30.227130889892578,
          32.386146545410156,
          31.45693588256836,
          31.067970275878906,
          30.195026397705078,
          30.632596969604492,
          29.729843139648438,
          30.57579803466797,
          30.130224227905273,
          29.065563201904297,
          31.111108779907227,
          30.31789779663086,
          30.7456111907959,
          31.126176834106445,
          30.46385955810547,
          30.407167434692383,
          30.76485824584961,
          30.244911193847656,
          29.786558151245117,
          31.507169723510742,
          30.57299041748047,
          32.38322830200195,
          30.442672729492188,
          30.99944305419922,
          30.6696720123291,
          29.51125717163086,
          30.336864471435547,
          29.7486572265625,
          29.9140567779541,
          30.497386932373047,
          31.039445877075195,
          31.663040161132812,
          30.934797286987305,
          29.969093322753906,
          31.458040237426758,
          30.34625816345215,
          31.56561279296875,
          30.697938919067383,
          29.444368362426758,
          30.454566955566406,
          30.676767349243164,
          30.042522430419922,
          30.808238983154297,
          30.258939743041992,
          31.25008773803711,
          30.846227645874023,
          30.21112632751465,
          30.700620651245117,
          30.22881507873535,
          31.321002960205078,
          31.548215866088867,
          30.28496551513672,
          30.824796676635742,
          29.65331268310547,
          30.355775833129883,
          30.066242218017578,
          30.384998321533203,
          29.981428146362305,
          30.995040893554688
         ]
        },
        {
         "marker": {
          "maxdisplayed": 10
         },
         "mode": "lines+markers",
         "name": "Trial1",
         "type": "scatter",
         "x": [
          5000,
          10000,
          15000,
          20000,
          25000,
          30000,
          35000,
          40000,
          45000,
          50000,
          55000,
          60000,
          65000,
          70000,
          75000,
          80000,
          85000,
          90000,
          95000,
          100000,
          105000,
          110000,
          115000,
          120000,
          125000,
          130000,
          135000,
          140000,
          145000,
          150000,
          155000,
          160000,
          165000,
          170000,
          175000,
          180000,
          185000,
          190000,
          195000,
          200000,
          205000,
          210000,
          215000,
          220000,
          225000,
          230000,
          235000,
          240000,
          245000,
          250000,
          255000,
          260000,
          265000,
          270000,
          275000,
          280000,
          285000,
          290000,
          295000,
          300000,
          305000,
          310000,
          315000,
          320000,
          325000,
          330000,
          335000,
          340000,
          345000,
          350000,
          355000,
          360000,
          365000,
          370000,
          375000,
          380000,
          385000,
          390000,
          395000,
          400000,
          405000,
          410000,
          415000,
          420000,
          425000,
          430000,
          435000,
          440000,
          445000,
          450000,
          455000,
          460000,
          465000,
          470000,
          475000,
          480000,
          485000,
          490000,
          495000,
          500000
         ],
         "y": [
          29.743379592895508,
          30.4657039642334,
          31.25536346435547,
          30.916980743408203,
          30.812538146972656,
          29.81316375732422,
          30.465059280395508,
          31.145654678344727,
          30.187572479248047,
          29.821701049804688,
          31.092243194580078,
          30.123762130737305,
          29.574787139892578,
          31.078092575073242,
          29.815309524536133,
          29.538240432739258,
          28.832563400268555,
          30.47728729248047,
          29.821189880371094,
          30.785842895507812,
          30.24542808532715,
          29.839599609375,
          30.83642578125,
          30.343599319458008,
          29.904823303222656,
          30.058494567871094,
          29.99160385131836,
          29.393085479736328,
          30.293258666992188,
          30.150888442993164,
          30.251249313354492,
          30.633800506591797,
          29.973411560058594,
          30.291648864746094,
          30.064247131347656,
          30.0169734954834,
          31.363073348999023,
          30.709768295288086,
          31.448137283325195,
          30.273561477661133,
          29.271509170532227,
          30.62586212158203,
          30.91791534423828,
          30.513896942138672,
          31.63983917236328,
          30.10186767578125,
          30.41534996032715,
          30.852807998657227,
          30.311874389648438,
          30.50375747680664,
          29.880565643310547,
          30.490877151489258,
          32.280555725097656,
          31.572702407836914,
          30.158323287963867,
          29.750293731689453,
          29.83531951904297,
          30.312776565551758,
          30.029829025268555,
          30.805522918701172,
          31.074024200439453,
          29.15886878967285,
          30.581520080566406,
          30.486305236816406,
          31.45012855529785,
          30.840774536132812,
          30.47362518310547,
          30.417312622070312,
          30.264074325561523,
          30.499319076538086,
          30.31305694580078,
          30.48050308227539,
          29.728622436523438,
          30.737892150878906,
          31.43535614013672,
          31.443410873413086,
          30.862211227416992,
          30.481889724731445,
          30.089946746826172,
          31.31222152709961,
          31.302194595336914,
          30.901756286621094,
          31.127683639526367,
          30.174123764038086,
          29.872520446777344,
          30.1467227935791,
          31.012794494628906,
          29.68914031982422,
          30.587717056274414,
          30.077917098999023,
          29.860509872436523,
          30.41442108154297,
          30.374004364013672,
          29.930044174194336,
          30.284936904907227,
          30.705829620361328,
          30.80550765991211,
          29.728233337402344,
          30.568815231323242,
          29.754436492919922
         ]
        },
        {
         "marker": {
          "maxdisplayed": 10
         },
         "mode": "lines+markers",
         "name": "Trial2",
         "type": "scatter",
         "x": [
          5000,
          10000,
          15000,
          20000,
          25000,
          30000,
          35000,
          40000,
          45000,
          50000,
          55000,
          60000,
          65000,
          70000,
          75000,
          80000,
          85000,
          90000,
          95000,
          100000,
          105000,
          110000,
          115000,
          120000,
          125000,
          130000,
          135000,
          140000,
          145000,
          150000,
          155000,
          160000,
          165000,
          170000,
          175000,
          180000,
          185000,
          190000,
          195000,
          200000,
          205000,
          210000,
          215000,
          220000,
          225000,
          230000,
          235000,
          240000,
          245000,
          250000,
          255000,
          260000,
          265000,
          270000,
          275000,
          280000,
          285000,
          290000,
          295000,
          300000,
          305000,
          310000,
          315000,
          320000,
          325000,
          330000,
          335000,
          340000,
          345000,
          350000,
          355000,
          360000,
          365000,
          370000,
          375000,
          380000,
          385000,
          390000,
          395000,
          400000,
          405000,
          410000,
          415000,
          420000,
          425000,
          430000,
          435000,
          440000,
          445000,
          450000,
          455000,
          460000,
          465000,
          470000,
          475000,
          480000,
          485000,
          490000,
          495000,
          500000
         ],
         "y": [
          30.05416488647461,
          29.492938995361328,
          30.680788040161133,
          30.439882278442383,
          30.722431182861328,
          30.784896850585938,
          29.90472984313965,
          29.959060668945312,
          29.961702346801758,
          30.174161911010742,
          31.455154418945312,
          30.13774871826172,
          30.106975555419922,
          30.394102096557617,
          30.19342803955078,
          29.97555160522461,
          30.241374969482422,
          30.360456466674805,
          29.39751625061035,
          30.16167449951172,
          31.5753231048584,
          29.299097061157227,
          30.76113510131836,
          29.922069549560547,
          30.7286376953125,
          30.337928771972656,
          31.112995147705078,
          30.015113830566406,
          30.512197494506836,
          30.863401412963867,
          30.249544143676758,
          30.825721740722656,
          30.184595108032227,
          31.202369689941406,
          29.69461441040039,
          30.196718215942383,
          30.518817901611328,
          31.419912338256836,
          30.80704116821289,
          29.844419479370117,
          31.17516326904297,
          30.32860565185547,
          30.863271713256836,
          31.185590744018555,
          30.798131942749023,
          31.39224624633789,
          29.94597625732422,
          30.476865768432617,
          30.644424438476562,
          30.657644271850586,
          29.58914566040039,
          29.808549880981445,
          30.68227767944336,
          29.546537399291992,
          31.28866958618164,
          29.65863800048828,
          30.26325225830078,
          30.707067489624023,
          31.09459686279297,
          30.623903274536133,
          29.826322555541992,
          30.278528213500977,
          31.37466049194336,
          30.547788619995117,
          31.038719177246094,
          30.284608840942383,
          29.903850555419922,
          29.966232299804688,
          30.31951332092285,
          29.884328842163086,
          30.708276748657227,
          29.724088668823242,
          30.72875213623047,
          30.807331085205078,
          31.199386596679688,
          30.806171417236328,
          30.591835021972656,
          31.126117706298828,
          29.158647537231445,
          31.38510513305664,
          31.045137405395508,
          30.409263610839844,
          30.063581466674805,
          30.172496795654297,
          30.084636688232422,
          29.929275512695312,
          30.67684555053711,
          30.505229949951172,
          30.470653533935547,
          31.41992950439453,
          29.761030197143555,
          31.119678497314453,
          29.564594268798828,
          30.614328384399414,
          30.923538208007812,
          29.615123748779297,
          30.076793670654297,
          29.2977352142334,
          30.868976593017578,
          29.71807861328125
         ]
        },
        {
         "marker": {
          "maxdisplayed": 10
         },
         "mode": "lines+markers",
         "name": "Trial3",
         "type": "scatter",
         "x": [
          5000,
          10000,
          15000,
          20000,
          25000,
          30000,
          35000,
          40000,
          45000,
          50000,
          55000,
          60000,
          65000,
          70000,
          75000,
          80000,
          85000,
          90000,
          95000,
          100000,
          105000,
          110000,
          115000,
          120000,
          125000,
          130000,
          135000,
          140000,
          145000,
          150000,
          155000,
          160000,
          165000,
          170000,
          175000,
          180000,
          185000,
          190000,
          195000,
          200000,
          205000,
          210000,
          215000,
          220000,
          225000,
          230000,
          235000,
          240000,
          245000,
          250000,
          255000,
          260000,
          265000,
          270000,
          275000,
          280000,
          285000,
          290000,
          295000,
          300000,
          305000,
          310000,
          315000,
          320000,
          325000,
          330000,
          335000,
          340000,
          345000,
          350000,
          355000,
          360000,
          365000,
          370000,
          375000,
          380000,
          385000,
          390000,
          395000,
          400000,
          405000,
          410000,
          415000,
          420000,
          425000,
          430000,
          435000,
          440000,
          445000,
          450000,
          455000,
          460000,
          465000,
          470000,
          475000,
          480000,
          485000,
          490000,
          495000,
          500000
         ],
         "y": [
          30.343339920043945,
          30.955162048339844,
          31.028457641601562,
          30.421735763549805,
          31.181386947631836,
          29.362133026123047,
          30.93561553955078,
          31.033700942993164,
          29.971397399902344,
          30.491037368774414,
          30.464624404907227,
          30.514177322387695,
          31.086265563964844,
          30.380996704101562,
          30.893047332763672,
          30.824872970581055,
          30.486467361450195,
          29.98186683654785,
          30.95604705810547,
          30.827817916870117,
          30.557870864868164,
          29.903907775878906,
          30.840953826904297,
          30.163400650024414,
          30.74683380126953,
          30.696279525756836,
          31.154281616210938,
          30.744522094726562,
          29.680614471435547,
          31.93163299560547,
          30.480119705200195,
          30.16468048095703,
          30.808547973632812,
          31.508625030517578,
          30.13901138305664,
          32.159698486328125,
          30.83401870727539,
          30.883678436279297,
          31.10455322265625,
          31.420629501342773,
          31.146562576293945,
          30.008346557617188,
          30.408876419067383,
          30.540176391601562,
          29.70769500732422,
          30.538976669311523,
          30.976417541503906,
          29.80062484741211,
          30.85400390625,
          32.05399703979492,
          29.411113739013672,
          30.352577209472656,
          29.746685028076172,
          31.152053833007812,
          31.82998275756836,
          30.21329116821289,
          30.557504653930664,
          30.806983947753906,
          31.697572708129883,
          29.74306869506836,
          29.701522827148438,
          30.852943420410156,
          30.32089614868164,
          30.985916137695312,
          31.04226303100586,
          31.329347610473633,
          31.177709579467773,
          30.196853637695312,
          31.36517906188965,
          31.03298568725586,
          30.619098663330078,
          30.011085510253906,
          29.544649124145508,
          30.170244216918945,
          30.875648498535156,
          30.597984313964844,
          30.652559280395508,
          31.080455780029297,
          30.080219268798828,
          30.277124404907227,
          29.160581588745117,
          30.181129455566406,
          29.670862197875977,
          30.84151840209961,
          30.46837615966797,
          29.720029830932617,
          31.011415481567383,
          30.57585906982422,
          30.72458267211914,
          29.738046646118164,
          30.979013442993164,
          30.751916885375977,
          29.90111541748047,
          30.734874725341797,
          30.4520263671875,
          30.505319595336914,
          30.6206111907959,
          31.04730796813965,
          28.975088119506836,
          31.183433532714844
         ]
        },
        {
         "marker": {
          "maxdisplayed": 10
         },
         "mode": "lines+markers",
         "name": "Trial4",
         "type": "scatter",
         "x": [
          5000,
          10000,
          15000,
          20000,
          25000,
          30000,
          35000,
          40000,
          45000,
          50000,
          55000,
          60000,
          65000,
          70000,
          75000,
          80000,
          85000,
          90000,
          95000,
          100000,
          105000,
          110000,
          115000,
          120000,
          125000,
          130000,
          135000,
          140000,
          145000,
          150000,
          155000,
          160000,
          165000,
          170000,
          175000,
          180000,
          185000,
          190000,
          195000,
          200000,
          205000,
          210000,
          215000,
          220000,
          225000,
          230000,
          235000,
          240000,
          245000,
          250000,
          255000,
          260000,
          265000,
          270000,
          275000,
          280000,
          285000,
          290000,
          295000,
          300000,
          305000,
          310000,
          315000,
          320000,
          325000,
          330000,
          335000,
          340000,
          345000,
          350000,
          355000,
          360000,
          365000,
          370000,
          375000,
          380000,
          385000,
          390000,
          395000,
          400000,
          405000,
          410000,
          415000,
          420000,
          425000,
          430000,
          435000,
          440000,
          445000,
          450000,
          455000,
          460000,
          465000,
          470000,
          475000,
          480000,
          485000,
          490000,
          495000,
          500000
         ],
         "y": [
          29.7507381439209,
          31.108932495117188,
          30.45834732055664,
          31.355056762695312,
          29.96379852294922,
          30.703025817871094,
          30.35230255126953,
          30.192665100097656,
          29.723039627075195,
          29.9153995513916,
          30.821449279785156,
          30.65127944946289,
          31.060876846313477,
          31.52508544921875,
          30.87207794189453,
          31.021469116210938,
          31.15127182006836,
          30.301406860351562,
          30.843469619750977,
          31.41301918029785,
          30.04938507080078,
          30.973432540893555,
          29.766036987304688,
          30.87122344970703,
          29.66671371459961,
          30.619951248168945,
          30.609426498413086,
          30.359416961669922,
          31.257719039916992,
          30.36309051513672,
          31.239961624145508,
          30.632118225097656,
          30.584068298339844,
          31.081260681152344,
          31.628551483154297,
          30.720176696777344,
          30.973739624023438,
          30.727319717407227,
          30.240129470825195,
          30.853557586669922,
          30.456289291381836,
          30.321792602539062,
          30.78310775756836,
          30.74139976501465,
          30.607032775878906,
          32.03202819824219,
          31.1220645904541,
          31.669565200805664,
          30.451309204101562,
          30.59610366821289,
          31.102327346801758,
          30.359943389892578,
          30.035167694091797,
          30.0616455078125,
          30.80622100830078,
          31.084396362304688,
          30.28680992126465,
          30.27733612060547,
          29.967609405517578,
          30.962312698364258,
          31.222745895385742,
          31.213333129882812,
          30.555410385131836,
          30.24614715576172,
          30.16631317138672,
          30.634511947631836,
          30.541393280029297,
          32.23589324951172,
          30.657533645629883,
          30.849939346313477,
          30.854595184326172,
          31.234542846679688,
          30.71225357055664,
          29.751935958862305,
          31.099023818969727,
          30.910375595092773,
          29.77835464477539,
          31.034151077270508,
          30.44823455810547,
          30.7182674407959,
          30.636869430541992,
          30.949565887451172,
          31.312002182006836,
          30.37323570251465,
          31.05046844482422,
          30.624380111694336,
          30.592979431152344,
          29.825450897216797,
          31.11865997314453,
          30.9997501373291,
          30.186540603637695,
          32.14666748046875,
          30.20256996154785,
          31.099281311035156,
          29.762754440307617,
          31.06240463256836,
          30.441783905029297,
          31.172292709350586,
          31.931495666503906,
          30.960372924804688
         ]
        },
        {
         "marker": {
          "maxdisplayed": 10
         },
         "mode": "lines+markers",
         "name": "Trial5",
         "type": "scatter",
         "x": [
          5000
         ],
         "y": [
          29.66839599609375
         ]
        },
        {
         "marker": {
          "maxdisplayed": 10
         },
         "mode": "lines+markers",
         "name": "Trial6",
         "type": "scatter",
         "x": [
          5000,
          10000,
          15000,
          20000,
          25000,
          30000,
          35000,
          40000,
          45000,
          50000,
          55000,
          60000,
          65000,
          70000,
          75000,
          80000,
          85000,
          90000,
          95000,
          100000,
          105000,
          110000,
          115000,
          120000,
          125000,
          130000,
          135000,
          140000,
          145000,
          150000,
          155000,
          160000,
          165000,
          170000,
          175000,
          180000,
          185000,
          190000,
          195000,
          200000,
          205000,
          210000,
          215000,
          220000,
          225000,
          230000,
          235000,
          240000,
          245000,
          250000,
          255000,
          260000,
          265000,
          270000,
          275000,
          280000,
          285000,
          290000,
          295000,
          300000,
          305000,
          310000,
          315000,
          320000,
          325000,
          330000,
          335000,
          340000,
          345000,
          350000,
          355000,
          360000,
          365000,
          370000,
          375000,
          380000,
          385000,
          390000,
          395000,
          400000,
          405000,
          410000,
          415000,
          420000,
          425000,
          430000,
          435000,
          440000,
          445000,
          450000,
          455000,
          460000,
          465000,
          470000,
          475000,
          480000,
          485000,
          490000,
          495000,
          500000
         ],
         "y": [
          31.117759704589844,
          30.48119354248047,
          30.43939208984375,
          29.07384490966797,
          31.151748657226562,
          30.365808486938477,
          30.501665115356445,
          30.420011520385742,
          30.632097244262695,
          30.363611221313477,
          30.606325149536133,
          30.667768478393555,
          29.72955322265625,
          31.092153549194336,
          30.823427200317383,
          31.2672061920166,
          30.177431106567383,
          30.368026733398438,
          29.979114532470703,
          29.258512496948242,
          30.671552658081055,
          29.710172653198242,
          30.418180465698242,
          31.288740158081055,
          29.26620101928711,
          30.680063247680664,
          32.5358772277832,
          30.152809143066406,
          30.19974136352539,
          29.552263259887695,
          29.712303161621094,
          29.808452606201172,
          29.669076919555664,
          31.333284378051758,
          31.48674964904785,
          31.774402618408203,
          30.139711380004883,
          29.964296340942383,
          30.694368362426758,
          30.134109497070312,
          30.351757049560547,
          30.74563980102539,
          30.276662826538086,
          31.07839584350586,
          30.726163864135742,
          30.843420028686523,
          31.363452911376953,
          29.599660873413086,
          30.004638671875,
          30.654176712036133,
          31.135480880737305,
          30.966419219970703,
          29.452871322631836,
          30.859725952148438,
          31.520286560058594,
          31.10883140563965,
          31.09288787841797,
          30.723012924194336,
          29.660106658935547,
          30.069272994995117,
          30.63420867919922,
          30.183401107788086,
          31.672649383544922,
          30.41912841796875,
          30.587648391723633,
          30.14773941040039,
          32.20814895629883,
          29.522926330566406,
          30.29538345336914,
          29.887134552001953,
          30.065244674682617,
          30.952136993408203,
          30.86651039123535,
          31.368040084838867,
          31.407438278198242,
          30.658710479736328,
          31.113142013549805,
          29.772235870361328,
          29.937175750732422,
          29.508586883544922,
          31.763242721557617,
          30.330078125,
          30.193744659423828,
          30.999624252319336,
          31.011341094970703,
          30.07680892944336,
          30.70746612548828,
          30.942611694335938,
          30.704103469848633,
          30.58798599243164,
          30.676498413085938,
          31.471418380737305,
          29.826831817626953,
          31.26813316345215,
          30.318513870239258,
          29.21487808227539,
          31.246845245361328,
          30.762855529785156,
          30.31214141845703,
          29.47213363647461
         ]
        },
        {
         "marker": {
          "maxdisplayed": 10
         },
         "mode": "lines+markers",
         "name": "Trial7",
         "type": "scatter",
         "x": [
          5000,
          10000,
          15000,
          20000,
          25000,
          30000,
          35000,
          40000,
          45000,
          50000,
          55000,
          60000,
          65000,
          70000,
          75000,
          80000,
          85000,
          90000,
          95000,
          100000,
          105000,
          110000,
          115000,
          120000,
          125000,
          130000,
          135000,
          140000,
          145000,
          150000,
          155000,
          160000,
          165000,
          170000,
          175000,
          180000,
          185000,
          190000,
          195000,
          200000,
          205000,
          210000,
          215000,
          220000,
          225000,
          230000,
          235000,
          240000,
          245000,
          250000,
          255000,
          260000,
          265000,
          270000,
          275000,
          280000,
          285000,
          290000,
          295000,
          300000,
          305000,
          310000,
          315000,
          320000,
          325000,
          330000,
          335000,
          340000,
          345000,
          350000,
          355000,
          360000,
          365000,
          370000,
          375000,
          380000,
          385000,
          390000,
          395000,
          400000,
          405000,
          410000,
          415000,
          420000,
          425000,
          430000,
          435000,
          440000,
          445000,
          450000,
          455000,
          460000,
          465000,
          470000,
          475000,
          480000,
          485000,
          490000,
          495000,
          500000
         ],
         "y": [
          31.083494186401367,
          30.488420486450195,
          29.640256881713867,
          30.37763214111328,
          31.147991180419922,
          29.87347984313965,
          30.784276962280273,
          30.3475284576416,
          30.647777557373047,
          29.634889602661133,
          30.93627166748047,
          29.866619110107422,
          30.890722274780273,
          31.09735679626465,
          30.149673461914062,
          31.03502655029297,
          31.122482299804688,
          31.90618324279785,
          30.6260986328125,
          30.647781372070312,
          29.969894409179688,
          29.37084197998047,
          30.86395835876465,
          30.400697708129883,
          30.255857467651367,
          30.631216049194336,
          30.10295867919922,
          30.20278549194336,
          30.45984649658203,
          30.975265502929688,
          31.0406436920166,
          30.574216842651367,
          30.92139434814453,
          30.46759796142578,
          30.309404373168945,
          29.60796546936035,
          30.71950912475586,
          30.680883407592773,
          30.53955078125,
          30.965898513793945,
          31.016756057739258,
          31.15826416015625,
          30.16387176513672,
          31.16832733154297,
          30.225507736206055,
          31.123668670654297,
          29.720151901245117,
          30.337705612182617,
          29.840784072875977,
          31.40384292602539,
          31.5516300201416,
          30.31344223022461,
          29.548532485961914,
          31.134666442871094,
          30.05487823486328,
          30.680265426635742,
          31.22885513305664,
          31.566328048706055,
          30.4279727935791,
          30.830581665039062,
          30.533653259277344,
          29.202856063842773,
          30.731462478637695,
          30.479555130004883,
          31.27823257446289,
          30.073518753051758,
          30.393798828125,
          30.866783142089844,
          30.8616943359375,
          30.298337936401367,
          31.275104522705078,
          30.932092666625977,
          30.86288833618164,
          31.121118545532227,
          29.52581024169922,
          30.26076889038086,
          29.39203643798828,
          30.147764205932617,
          31.07160186767578,
          30.117727279663086,
          29.920698165893555,
          30.353900909423828,
          30.84832763671875,
          30.780956268310547,
          30.784584045410156,
          29.5349178314209,
          30.78143310546875,
          31.020488739013672,
          31.010995864868164,
          30.717844009399414,
          30.56940269470215,
          31.003053665161133,
          31.099609375,
          30.697702407836914,
          31.164384841918945,
          29.99532699584961,
          30.2503662109375,
          31.070283889770508,
          30.370494842529297,
          30.76321029663086
         ]
        },
        {
         "marker": {
          "maxdisplayed": 10
         },
         "mode": "lines+markers",
         "name": "Trial8",
         "type": "scatter",
         "x": [
          5000,
          10000,
          15000,
          20000,
          25000,
          30000,
          35000,
          40000,
          45000,
          50000,
          55000,
          60000,
          65000,
          70000,
          75000,
          80000,
          85000,
          90000,
          95000,
          100000,
          105000,
          110000,
          115000,
          120000,
          125000,
          130000,
          135000,
          140000,
          145000,
          150000,
          155000,
          160000,
          165000,
          170000,
          175000,
          180000,
          185000,
          190000,
          195000,
          200000,
          205000,
          210000,
          215000,
          220000,
          225000,
          230000,
          235000,
          240000,
          245000,
          250000,
          255000,
          260000,
          265000,
          270000,
          275000,
          280000,
          285000,
          290000,
          295000,
          300000,
          305000,
          310000,
          315000,
          320000,
          325000,
          330000,
          335000,
          340000,
          345000,
          350000,
          355000,
          360000,
          365000,
          370000,
          375000,
          380000,
          385000,
          390000,
          395000,
          400000,
          405000,
          410000,
          415000,
          420000,
          425000,
          430000,
          435000,
          440000,
          445000,
          450000,
          455000,
          460000,
          465000,
          470000,
          475000,
          480000,
          485000,
          490000,
          495000,
          500000
         ],
         "y": [
          30.97339630126953,
          30.205228805541992,
          30.25571060180664,
          29.747486114501953,
          31.170581817626953,
          30.211824417114258,
          31.41329574584961,
          29.880691528320312,
          29.9904842376709,
          30.838621139526367,
          29.560928344726562,
          29.94214630126953,
          30.5817813873291,
          30.887834548950195,
          30.326093673706055,
          30.925012588500977,
          30.16460418701172,
          30.422229766845703,
          29.649995803833008,
          30.552261352539062,
          30.682649612426758,
          29.870546340942383,
          30.270977020263672,
          30.694833755493164,
          30.238203048706055,
          30.432714462280273,
          30.351089477539062,
          30.243974685668945,
          30.01209259033203,
          30.386075973510742,
          31.445646286010742,
          31.321279525756836,
          30.52713394165039,
          30.1069393157959,
          30.836204528808594,
          29.362472534179688,
          29.705860137939453,
          30.2641658782959,
          29.835960388183594,
          29.949878692626953,
          30.09332275390625,
          30.673559188842773,
          29.843067169189453,
          30.067956924438477,
          30.64618492126465,
          30.645036697387695,
          31.163658142089844,
          30.186349868774414,
          30.497943878173828,
          30.998634338378906,
          29.787965774536133,
          30.257034301757812,
          31.245864868164062,
          31.208904266357422,
          31.319765090942383,
          30.4110050201416,
          30.35663604736328,
          31.317951202392578,
          30.338598251342773,
          29.575345993041992,
          30.177156448364258,
          30.620311737060547,
          30.023256301879883,
          30.176898956298828,
          30.4935359954834,
          29.845653533935547,
          30.251480102539062,
          30.596731185913086,
          29.93238067626953,
          30.297119140625,
          31.389562606811523,
          30.065427780151367,
          29.836681365966797,
          30.016958236694336,
          29.54932403564453,
          31.1118106842041,
          30.584196090698242,
          30.108083724975586,
          31.120040893554688,
          30.851655960083008,
          30.340391159057617,
          29.860797882080078,
          30.181798934936523,
          29.96612548828125,
          30.189210891723633,
          30.358633041381836,
          30.928251266479492,
          30.295116424560547,
          30.208417892456055,
          30.864797592163086,
          29.855802536010742,
          30.03972816467285,
          31.471403121948242,
          29.623497009277344,
          29.755630493164062,
          31.119108200073242,
          30.595701217651367,
          29.68844985961914,
          32.04349136352539,
          30.543872833251953
         ]
        },
        {
         "marker": {
          "maxdisplayed": 10
         },
         "mode": "lines+markers",
         "name": "Trial9",
         "type": "scatter",
         "x": [
          5000
         ],
         "y": [
          30.061878204345703
         ]
        },
        {
         "marker": {
          "maxdisplayed": 10
         },
         "mode": "lines+markers",
         "name": "Trial10",
         "type": "scatter",
         "x": [
          5000,
          10000,
          15000,
          20000,
          25000,
          30000,
          35000,
          40000,
          45000,
          50000,
          55000,
          60000,
          65000,
          70000,
          75000,
          80000,
          85000,
          90000,
          95000,
          100000,
          105000,
          110000,
          115000,
          120000,
          125000,
          130000,
          135000,
          140000,
          145000,
          150000,
          155000,
          160000,
          165000,
          170000,
          175000,
          180000,
          185000,
          190000,
          195000,
          200000,
          205000,
          210000,
          215000,
          220000,
          225000,
          230000,
          235000,
          240000,
          245000,
          250000,
          255000,
          260000,
          265000,
          270000,
          275000,
          280000,
          285000,
          290000,
          295000,
          300000,
          305000,
          310000,
          315000,
          320000,
          325000,
          330000,
          335000,
          340000,
          345000,
          350000,
          355000,
          360000,
          365000,
          370000,
          375000,
          380000,
          385000,
          390000,
          395000,
          400000,
          405000,
          410000,
          415000,
          420000,
          425000,
          430000,
          435000,
          440000,
          445000,
          450000,
          455000,
          460000,
          465000,
          470000,
          475000,
          480000,
          485000,
          490000,
          495000,
          500000
         ],
         "y": [
          31.311731338500977,
          31.609384536743164,
          31.096036911010742,
          30.864072799682617,
          30.63668441772461,
          29.667217254638672,
          29.609912872314453,
          30.9359073638916,
          30.160301208496094,
          30.586685180664062,
          30.74297523498535,
          30.670732498168945,
          30.696496963500977,
          30.441909790039062,
          31.9158992767334,
          30.330183029174805,
          31.14101791381836,
          29.574899673461914,
          29.98248291015625,
          31.030996322631836,
          30.326698303222656,
          30.2200870513916,
          30.929075241088867,
          30.452856063842773,
          30.838333129882812,
          29.548381805419922,
          29.467731475830078,
          30.168689727783203,
          30.659278869628906,
          31.548383712768555,
          30.325593948364258,
          31.242919921875,
          29.912885665893555,
          30.597959518432617,
          30.92078399658203,
          30.162538528442383,
          30.78302764892578,
          30.411365509033203,
          31.137269973754883,
          29.900827407836914,
          30.150156021118164,
          29.422813415527344,
          30.623092651367188,
          31.66342544555664,
          30.266813278198242,
          30.39523696899414,
          29.758527755737305,
          30.958473205566406,
          29.889816284179688,
          30.575733184814453,
          31.177536010742188,
          32.108726501464844,
          30.542539596557617,
          31.28783416748047,
          31.282577514648438,
          30.62411880493164,
          30.053613662719727,
          30.886293411254883,
          30.852418899536133,
          31.2391357421875,
          30.375469207763672,
          31.612464904785156,
          31.3773136138916,
          31.129377365112305,
          31.087270736694336,
          30.017963409423828,
          30.029542922973633,
          30.062665939331055,
          31.267568588256836,
          31.05200958251953,
          30.1280574798584,
          29.828388214111328,
          30.60366439819336,
          30.737159729003906,
          31.407054901123047,
          30.52899742126465,
          29.635400772094727,
          29.618539810180664,
          30.414756774902344,
          30.833009719848633,
          29.760456085205078,
          31.16299819946289,
          30.320690155029297,
          31.58572769165039,
          30.365222930908203,
          30.266538619995117,
          29.99040985107422,
          30.365089416503906,
          31.03201675415039,
          30.618797302246094,
          31.126821517944336,
          30.452655792236328,
          29.79720687866211,
          30.61444091796875,
          29.71441650390625,
          30.73577117919922,
          29.370590209960938,
          30.875225067138672,
          31.497804641723633,
          30.552230834960938
         ]
        },
        {
         "marker": {
          "maxdisplayed": 10
         },
         "mode": "lines+markers",
         "name": "Trial11",
         "type": "scatter",
         "x": [
          5000
         ],
         "y": [
          30.04815673828125
         ]
        },
        {
         "marker": {
          "maxdisplayed": 10
         },
         "mode": "lines+markers",
         "name": "Trial12",
         "type": "scatter",
         "x": [
          5000
         ],
         "y": [
          30.147903442382812
         ]
        },
        {
         "marker": {
          "maxdisplayed": 10
         },
         "mode": "lines+markers",
         "name": "Trial13",
         "type": "scatter",
         "x": [
          5000,
          10000,
          15000,
          20000,
          25000,
          30000,
          35000,
          40000,
          45000,
          50000,
          55000,
          60000,
          65000,
          70000,
          75000,
          80000,
          85000,
          90000,
          95000,
          100000,
          105000,
          110000,
          115000,
          120000,
          125000,
          130000,
          135000,
          140000,
          145000,
          150000,
          155000,
          160000,
          165000,
          170000,
          175000,
          180000,
          185000,
          190000,
          195000,
          200000,
          205000,
          210000,
          215000,
          220000,
          225000,
          230000,
          235000,
          240000,
          245000,
          250000,
          255000,
          260000,
          265000,
          270000,
          275000,
          280000,
          285000,
          290000,
          295000,
          300000,
          305000,
          310000,
          315000,
          320000,
          325000,
          330000,
          335000,
          340000,
          345000,
          350000,
          355000,
          360000,
          365000,
          370000,
          375000,
          380000,
          385000,
          390000,
          395000,
          400000,
          405000,
          410000,
          415000,
          420000,
          425000,
          430000,
          435000,
          440000,
          445000,
          450000,
          455000,
          460000,
          465000,
          470000,
          475000,
          480000,
          485000,
          490000,
          495000,
          500000
         ],
         "y": [
          31.063722610473633,
          30.607872009277344,
          29.761457443237305,
          30.518770217895508,
          30.2459716796875,
          30.969768524169922,
          30.536890029907227,
          30.835460662841797,
          30.893150329589844,
          30.349946975708008,
          31.6199893951416,
          30.49616050720215,
          30.444242477416992,
          31.326818466186523,
          30.1580753326416,
          31.40532875061035,
          30.689796447753906,
          31.22711944580078,
          30.11064910888672,
          30.6303768157959,
          30.56914710998535,
          29.2457275390625,
          30.931142807006836,
          29.902393341064453,
          30.374256134033203,
          29.889137268066406,
          30.666536331176758,
          29.852401733398438,
          29.85181427001953,
          30.025062561035156,
          29.63275146484375,
          30.398841857910156,
          30.0214900970459,
          30.785497665405273,
          29.725488662719727,
          30.04650115966797,
          30.9725341796875,
          30.330829620361328,
          30.37493324279785,
          30.127988815307617,
          31.00213623046875,
          30.786584854125977,
          29.92449378967285,
          30.080585479736328,
          30.155567169189453,
          31.135879516601562,
          30.417404174804688,
          31.426973342895508,
          30.43072509765625,
          30.71677017211914,
          31.143320083618164,
          30.935338973999023,
          30.40679931640625,
          30.632295608520508,
          31.183815002441406,
          30.136249542236328,
          30.0886287689209,
          30.19174575805664,
          32.46018600463867,
          30.286954879760742,
          31.188528060913086,
          31.009624481201172,
          30.647842407226562,
          30.011459350585938,
          30.360048294067383,
          30.188039779663086,
          30.265365600585938,
          30.92791748046875,
          31.101673126220703,
          30.413352966308594,
          30.50177574157715,
          31.073442459106445,
          31.020130157470703,
          30.807119369506836,
          29.939729690551758,
          30.611892700195312,
          31.28366470336914,
          30.330053329467773,
          29.928735733032227,
          29.660964965820312,
          30.553970336914062,
          29.35901641845703,
          30.369966506958008,
          30.779733657836914,
          30.63361358642578,
          30.646682739257812,
          30.382402420043945,
          31.268299102783203,
          30.213472366333008,
          30.286725997924805,
          31.531766891479492,
          30.80096435546875,
          30.025461196899414,
          31.25774383544922,
          29.53417205810547,
          30.4163818359375,
          30.267465591430664,
          31.196144104003906,
          31.574199676513672,
          30.690353393554688
         ]
        },
        {
         "marker": {
          "maxdisplayed": 10
         },
         "mode": "lines+markers",
         "name": "Trial14",
         "type": "scatter",
         "x": [
          5000
         ],
         "y": [
          29.30731773376465
         ]
        },
        {
         "marker": {
          "maxdisplayed": 10
         },
         "mode": "lines+markers",
         "name": "Trial15",
         "type": "scatter",
         "x": [
          5000
         ],
         "y": [
          30.614011764526367
         ]
        },
        {
         "marker": {
          "maxdisplayed": 10
         },
         "mode": "lines+markers",
         "name": "Trial16",
         "type": "scatter",
         "x": [
          5000,
          10000,
          15000,
          20000,
          25000
         ],
         "y": [
          30.867136001586914,
          30.792612075805664,
          30.717771530151367,
          29.296018600463867,
          30.207630157470703
         ]
        },
        {
         "marker": {
          "maxdisplayed": 10
         },
         "mode": "lines+markers",
         "name": "Trial17",
         "type": "scatter",
         "x": [
          5000
         ],
         "y": [
          29.67272186279297
         ]
        },
        {
         "marker": {
          "maxdisplayed": 10
         },
         "mode": "lines+markers",
         "name": "Trial18",
         "type": "scatter",
         "x": [
          5000
         ],
         "y": [
          30.0765380859375
         ]
        },
        {
         "marker": {
          "maxdisplayed": 10
         },
         "mode": "lines+markers",
         "name": "Trial19",
         "type": "scatter",
         "x": [
          5000
         ],
         "y": [
          30.493722915649414
         ]
        },
        {
         "marker": {
          "maxdisplayed": 10
         },
         "mode": "lines+markers",
         "name": "Trial20",
         "type": "scatter",
         "x": [
          5000
         ],
         "y": [
          29.9251766204834
         ]
        },
        {
         "marker": {
          "maxdisplayed": 10
         },
         "mode": "lines+markers",
         "name": "Trial21",
         "type": "scatter",
         "x": [
          5000
         ],
         "y": [
          30.004671096801758
         ]
        },
        {
         "marker": {
          "maxdisplayed": 10
         },
         "mode": "lines+markers",
         "name": "Trial22",
         "type": "scatter",
         "x": [
          5000
         ],
         "y": [
          29.944639205932617
         ]
        },
        {
         "marker": {
          "maxdisplayed": 10
         },
         "mode": "lines+markers",
         "name": "Trial23",
         "type": "scatter",
         "x": [
          5000
         ],
         "y": [
          29.929834365844727
         ]
        },
        {
         "marker": {
          "maxdisplayed": 10
         },
         "mode": "lines+markers",
         "name": "Trial24",
         "type": "scatter",
         "x": [
          5000,
          10000,
          15000,
          20000,
          25000,
          30000,
          35000,
          40000,
          45000,
          50000,
          55000,
          60000,
          65000,
          70000,
          75000,
          80000,
          85000,
          90000,
          95000,
          100000,
          105000,
          110000,
          115000,
          120000,
          125000,
          130000,
          135000,
          140000,
          145000,
          150000,
          155000,
          160000,
          165000,
          170000,
          175000,
          180000,
          185000,
          190000,
          195000,
          200000,
          205000,
          210000,
          215000,
          220000,
          225000,
          230000,
          235000,
          240000,
          245000,
          250000,
          255000,
          260000,
          265000,
          270000,
          275000,
          280000,
          285000,
          290000,
          295000,
          300000,
          305000,
          310000,
          315000,
          320000,
          325000,
          330000,
          335000,
          340000,
          345000,
          350000,
          355000,
          360000,
          365000,
          370000,
          375000,
          380000,
          385000,
          390000,
          395000,
          400000,
          405000,
          410000,
          415000,
          420000,
          425000,
          430000,
          435000,
          440000,
          445000,
          450000,
          455000,
          460000,
          465000,
          470000,
          475000,
          480000,
          485000,
          490000,
          495000,
          500000
         ],
         "y": [
          30.802061080932617,
          29.96762466430664,
          29.34942626953125,
          31.520606994628906,
          30.407316207885742,
          30.664506912231445,
          31.66535186767578,
          30.187206268310547,
          30.665361404418945,
          30.951072692871094,
          31.81512451171875,
          30.328838348388672,
          30.39227294921875,
          29.992725372314453,
          31.046123504638672,
          31.6680965423584,
          29.910192489624023,
          30.45331382751465,
          30.51384925842285,
          29.738370895385742,
          30.428422927856445,
          30.928049087524414,
          31.605695724487305,
          30.739501953125,
          30.23233413696289,
          31.46428680419922,
          30.46044158935547,
          30.346820831298828,
          30.094507217407227,
          30.924814224243164,
          30.93890953063965,
          30.475553512573242,
          30.64374542236328,
          30.37993621826172,
          30.69098472595215,
          30.360239028930664,
          30.63943862915039,
          30.25560760498047,
          29.879867553710938,
          30.330032348632812,
          31.571725845336914,
          30.945810317993164,
          31.64868927001953,
          31.031373977661133,
          30.268476486206055,
          29.9249210357666,
          30.380329132080078,
          29.701894760131836,
          29.918109893798828,
          30.11571502685547,
          31.182754516601562,
          30.773473739624023,
          31.940298080444336,
          30.592668533325195,
          30.15399932861328,
          29.774126052856445,
          31.534536361694336,
          30.3271484375,
          31.641986846923828,
          30.894880294799805,
          30.231801986694336,
          30.304460525512695,
          30.436830520629883,
          30.820667266845703,
          29.691688537597656,
          30.281696319580078,
          31.340862274169922,
          30.484054565429688,
          30.313772201538086,
          29.59381103515625,
          30.323993682861328,
          30.350875854492188,
          29.510847091674805,
          31.406824111938477,
          32.19908905029297,
          31.02716827392578,
          31.18108558654785,
          30.545442581176758,
          30.564199447631836,
          31.448060989379883,
          30.744504928588867,
          29.96916961669922,
          29.508190155029297,
          31.052818298339844,
          30.52609634399414,
          30.305509567260742,
          29.91409683227539,
          30.1439208984375,
          31.11239242553711,
          31.165119171142578,
          29.96306610107422,
          31.067373275756836,
          31.1862735748291,
          30.24689292907715,
          31.003406524658203,
          31.13445472717285,
          31.012056350708008,
          31.148052215576172,
          30.933061599731445,
          30.073820114135742
         ]
        },
        {
         "marker": {
          "maxdisplayed": 10
         },
         "mode": "lines+markers",
         "name": "Trial25",
         "type": "scatter",
         "x": [
          5000
         ],
         "y": [
          30.652748107910156
         ]
        },
        {
         "marker": {
          "maxdisplayed": 10
         },
         "mode": "lines+markers",
         "name": "Trial26",
         "type": "scatter",
         "x": [
          5000,
          10000,
          15000,
          20000,
          25000,
          30000,
          35000,
          40000,
          45000,
          50000,
          55000,
          60000,
          65000,
          70000,
          75000,
          80000,
          85000,
          90000,
          95000,
          100000,
          105000,
          110000,
          115000,
          120000,
          125000,
          130000,
          135000,
          140000,
          145000,
          150000,
          155000,
          160000,
          165000,
          170000,
          175000,
          180000,
          185000,
          190000,
          195000,
          200000,
          205000,
          210000,
          215000,
          220000,
          225000,
          230000,
          235000,
          240000,
          245000,
          250000,
          255000,
          260000,
          265000,
          270000,
          275000,
          280000,
          285000,
          290000,
          295000,
          300000,
          305000,
          310000,
          315000,
          320000,
          325000,
          330000,
          335000,
          340000,
          345000,
          350000,
          355000,
          360000,
          365000,
          370000,
          375000,
          380000,
          385000,
          390000,
          395000,
          400000,
          405000,
          410000,
          415000,
          420000,
          425000,
          430000,
          435000,
          440000,
          445000,
          450000,
          455000,
          460000,
          465000,
          470000,
          475000,
          480000,
          485000,
          490000,
          495000,
          500000
         ],
         "y": [
          31.39983367919922,
          30.52141761779785,
          29.719167709350586,
          29.208354949951172,
          30.313581466674805,
          30.727256774902344,
          30.807565689086914,
          30.368257522583008,
          31.43236541748047,
          30.492172241210938,
          30.7640380859375,
          30.35381317138672,
          30.315942764282227,
          30.993385314941406,
          30.185739517211914,
          29.3614444732666,
          31.301374435424805,
          30.16506576538086,
          30.38143539428711,
          29.939481735229492,
          30.280433654785156,
          29.722492218017578,
          31.40201187133789,
          30.885046005249023,
          30.731172561645508,
          30.96556854248047,
          29.477439880371094,
          31.626392364501953,
          30.169309616088867,
          31.269235610961914,
          30.668298721313477,
          30.225181579589844,
          30.550683975219727,
          29.741348266601562,
          30.421247482299805,
          30.047191619873047,
          30.197153091430664,
          30.273170471191406,
          31.070911407470703,
          30.562278747558594,
          30.60199737548828,
          30.02548599243164,
          30.4538631439209,
          30.238134384155273,
          29.845809936523438,
          29.393596649169922,
          32.11140441894531,
          31.423261642456055,
          30.587080001831055,
          30.551979064941406,
          30.771160125732422,
          29.553682327270508,
          29.875205993652344,
          31.00823211669922,
          30.831809997558594,
          32.20465850830078,
          30.139028549194336,
          31.054492950439453,
          30.649045944213867,
          29.635604858398438,
          30.82361602783203,
          30.492176055908203,
          31.216035842895508,
          30.457719802856445,
          30.978456497192383,
          30.571151733398438,
          30.939367294311523,
          30.86408233642578,
          30.91299057006836,
          29.844789505004883,
          31.515710830688477,
          29.693178176879883,
          30.025362014770508,
          31.032899856567383,
          30.784528732299805,
          30.424253463745117,
          30.35077667236328,
          31.12212562561035,
          30.32177734375,
          31.469160079956055,
          30.036361694335938,
          30.257484436035156,
          30.658336639404297,
          30.881792068481445,
          30.87108612060547,
          31.044950485229492,
          29.4512882232666,
          30.15741729736328,
          32.039180755615234,
          30.92882537841797,
          30.951475143432617,
          30.225671768188477,
          30.563152313232422,
          30.891969680786133,
          30.294239044189453,
          29.9493408203125,
          30.880624771118164,
          29.56222152709961,
          31.011499404907227,
          30.522750854492188
         ]
        },
        {
         "marker": {
          "maxdisplayed": 10
         },
         "mode": "lines+markers",
         "name": "Trial27",
         "type": "scatter",
         "x": [
          5000
         ],
         "y": [
          29.5589656829834
         ]
        },
        {
         "marker": {
          "maxdisplayed": 10
         },
         "mode": "lines+markers",
         "name": "Trial28",
         "type": "scatter",
         "x": [
          5000,
          10000,
          15000,
          20000,
          25000,
          30000,
          35000,
          40000,
          45000,
          50000,
          55000,
          60000,
          65000,
          70000,
          75000,
          80000,
          85000,
          90000,
          95000,
          100000,
          105000,
          110000,
          115000,
          120000,
          125000,
          130000,
          135000,
          140000,
          145000,
          150000,
          155000,
          160000,
          165000,
          170000,
          175000,
          180000,
          185000,
          190000,
          195000,
          200000,
          205000,
          210000,
          215000,
          220000,
          225000,
          230000,
          235000,
          240000,
          245000,
          250000,
          255000,
          260000,
          265000,
          270000,
          275000,
          280000,
          285000,
          290000,
          295000,
          300000,
          305000,
          310000,
          315000,
          320000,
          325000,
          330000,
          335000,
          340000,
          345000,
          350000,
          355000,
          360000,
          365000,
          370000,
          375000,
          380000,
          385000,
          390000,
          395000,
          400000,
          405000,
          410000,
          415000,
          420000,
          425000,
          430000,
          435000,
          440000,
          445000,
          450000,
          455000,
          460000,
          465000,
          470000,
          475000,
          480000,
          485000,
          490000,
          495000,
          500000
         ],
         "y": [
          31.806926727294922,
          30.603849411010742,
          30.252107620239258,
          29.710607528686523,
          30.70752716064453,
          30.229284286499023,
          29.91802978515625,
          29.392601013183594,
          30.430709838867188,
          29.958436965942383,
          30.589567184448242,
          30.793428421020508,
          30.33068084716797,
          30.635339736938477,
          29.5612850189209,
          30.19244384765625,
          30.267812728881836,
          31.243972778320312,
          30.194337844848633,
          31.238187789916992,
          30.14950180053711,
          30.212411880493164,
          31.1411075592041,
          31.448686599731445,
          30.366701126098633,
          30.99854278564453,
          30.210681915283203,
          30.227380752563477,
          30.316940307617188,
          31.844228744506836,
          30.849742889404297,
          30.264934539794922,
          30.460493087768555,
          30.48846435546875,
          30.159399032592773,
          30.127342224121094,
          30.563232421875,
          30.321205139160156,
          30.225149154663086,
          30.981731414794922,
          29.732372283935547,
          31.252635955810547,
          31.189741134643555,
          30.947555541992188,
          30.796648025512695,
          31.618864059448242,
          30.532974243164062,
          31.14397430419922,
          30.317556381225586,
          29.836942672729492,
          31.090314865112305,
          31.642532348632812,
          30.639699935913086,
          30.644481658935547,
          31.689132690429688,
          30.387123107910156,
          30.299535751342773,
          30.92681884765625,
          31.958890914916992,
          30.055112838745117,
          30.328279495239258,
          30.103105545043945,
          30.48504638671875,
          30.246694564819336,
          30.76380157470703,
          30.651147842407227,
          30.951112747192383,
          31.09103012084961,
          30.18343734741211,
          30.37657928466797,
          30.581220626831055,
          30.886701583862305,
          30.158510208129883,
          31.06888198852539,
          30.303516387939453,
          30.165822982788086,
          30.055795669555664,
          30.97967529296875,
          29.968107223510742,
          30.53695297241211,
          31.09020233154297,
          30.167509078979492,
          31.390676498413086,
          31.26156234741211,
          31.346092224121094,
          31.171262741088867,
          31.021739959716797,
          30.999509811401367,
          30.240602493286133,
          31.031171798706055,
          30.753463745117188,
          30.85295867919922,
          30.44463539123535,
          31.455402374267578,
          30.329425811767578,
          30.674901962280273,
          30.135622024536133,
          29.89373207092285,
          29.88497543334961,
          30.962665557861328
         ]
        },
        {
         "marker": {
          "maxdisplayed": 10
         },
         "mode": "lines+markers",
         "name": "Trial29",
         "type": "scatter",
         "x": [
          5000
         ],
         "y": [
          29.446022033691406
         ]
        },
        {
         "marker": {
          "maxdisplayed": 10
         },
         "mode": "lines+markers",
         "name": "Trial30",
         "type": "scatter",
         "x": [
          5000
         ],
         "y": [
          30.544998168945312
         ]
        },
        {
         "marker": {
          "maxdisplayed": 10
         },
         "mode": "lines+markers",
         "name": "Trial31",
         "type": "scatter",
         "x": [
          5000
         ],
         "y": [
          29.4541072845459
         ]
        }
       ],
       "layout": {
        "showlegend": false,
        "template": {
         "data": {
          "bar": [
           {
            "error_x": {
             "color": "#2a3f5f"
            },
            "error_y": {
             "color": "#2a3f5f"
            },
            "marker": {
             "line": {
              "color": "#E5ECF6",
              "width": 0.5
             },
             "pattern": {
              "fillmode": "overlay",
              "size": 10,
              "solidity": 0.2
             }
            },
            "type": "bar"
           }
          ],
          "barpolar": [
           {
            "marker": {
             "line": {
              "color": "#E5ECF6",
              "width": 0.5
             },
             "pattern": {
              "fillmode": "overlay",
              "size": 10,
              "solidity": 0.2
             }
            },
            "type": "barpolar"
           }
          ],
          "carpet": [
           {
            "aaxis": {
             "endlinecolor": "#2a3f5f",
             "gridcolor": "white",
             "linecolor": "white",
             "minorgridcolor": "white",
             "startlinecolor": "#2a3f5f"
            },
            "baxis": {
             "endlinecolor": "#2a3f5f",
             "gridcolor": "white",
             "linecolor": "white",
             "minorgridcolor": "white",
             "startlinecolor": "#2a3f5f"
            },
            "type": "carpet"
           }
          ],
          "choropleth": [
           {
            "colorbar": {
             "outlinewidth": 0,
             "ticks": ""
            },
            "type": "choropleth"
           }
          ],
          "contour": [
           {
            "colorbar": {
             "outlinewidth": 0,
             "ticks": ""
            },
            "colorscale": [
             [
              0,
              "#0d0887"
             ],
             [
              0.1111111111111111,
              "#46039f"
             ],
             [
              0.2222222222222222,
              "#7201a8"
             ],
             [
              0.3333333333333333,
              "#9c179e"
             ],
             [
              0.4444444444444444,
              "#bd3786"
             ],
             [
              0.5555555555555556,
              "#d8576b"
             ],
             [
              0.6666666666666666,
              "#ed7953"
             ],
             [
              0.7777777777777778,
              "#fb9f3a"
             ],
             [
              0.8888888888888888,
              "#fdca26"
             ],
             [
              1,
              "#f0f921"
             ]
            ],
            "type": "contour"
           }
          ],
          "contourcarpet": [
           {
            "colorbar": {
             "outlinewidth": 0,
             "ticks": ""
            },
            "type": "contourcarpet"
           }
          ],
          "heatmap": [
           {
            "colorbar": {
             "outlinewidth": 0,
             "ticks": ""
            },
            "colorscale": [
             [
              0,
              "#0d0887"
             ],
             [
              0.1111111111111111,
              "#46039f"
             ],
             [
              0.2222222222222222,
              "#7201a8"
             ],
             [
              0.3333333333333333,
              "#9c179e"
             ],
             [
              0.4444444444444444,
              "#bd3786"
             ],
             [
              0.5555555555555556,
              "#d8576b"
             ],
             [
              0.6666666666666666,
              "#ed7953"
             ],
             [
              0.7777777777777778,
              "#fb9f3a"
             ],
             [
              0.8888888888888888,
              "#fdca26"
             ],
             [
              1,
              "#f0f921"
             ]
            ],
            "type": "heatmap"
           }
          ],
          "heatmapgl": [
           {
            "colorbar": {
             "outlinewidth": 0,
             "ticks": ""
            },
            "colorscale": [
             [
              0,
              "#0d0887"
             ],
             [
              0.1111111111111111,
              "#46039f"
             ],
             [
              0.2222222222222222,
              "#7201a8"
             ],
             [
              0.3333333333333333,
              "#9c179e"
             ],
             [
              0.4444444444444444,
              "#bd3786"
             ],
             [
              0.5555555555555556,
              "#d8576b"
             ],
             [
              0.6666666666666666,
              "#ed7953"
             ],
             [
              0.7777777777777778,
              "#fb9f3a"
             ],
             [
              0.8888888888888888,
              "#fdca26"
             ],
             [
              1,
              "#f0f921"
             ]
            ],
            "type": "heatmapgl"
           }
          ],
          "histogram": [
           {
            "marker": {
             "pattern": {
              "fillmode": "overlay",
              "size": 10,
              "solidity": 0.2
             }
            },
            "type": "histogram"
           }
          ],
          "histogram2d": [
           {
            "colorbar": {
             "outlinewidth": 0,
             "ticks": ""
            },
            "colorscale": [
             [
              0,
              "#0d0887"
             ],
             [
              0.1111111111111111,
              "#46039f"
             ],
             [
              0.2222222222222222,
              "#7201a8"
             ],
             [
              0.3333333333333333,
              "#9c179e"
             ],
             [
              0.4444444444444444,
              "#bd3786"
             ],
             [
              0.5555555555555556,
              "#d8576b"
             ],
             [
              0.6666666666666666,
              "#ed7953"
             ],
             [
              0.7777777777777778,
              "#fb9f3a"
             ],
             [
              0.8888888888888888,
              "#fdca26"
             ],
             [
              1,
              "#f0f921"
             ]
            ],
            "type": "histogram2d"
           }
          ],
          "histogram2dcontour": [
           {
            "colorbar": {
             "outlinewidth": 0,
             "ticks": ""
            },
            "colorscale": [
             [
              0,
              "#0d0887"
             ],
             [
              0.1111111111111111,
              "#46039f"
             ],
             [
              0.2222222222222222,
              "#7201a8"
             ],
             [
              0.3333333333333333,
              "#9c179e"
             ],
             [
              0.4444444444444444,
              "#bd3786"
             ],
             [
              0.5555555555555556,
              "#d8576b"
             ],
             [
              0.6666666666666666,
              "#ed7953"
             ],
             [
              0.7777777777777778,
              "#fb9f3a"
             ],
             [
              0.8888888888888888,
              "#fdca26"
             ],
             [
              1,
              "#f0f921"
             ]
            ],
            "type": "histogram2dcontour"
           }
          ],
          "mesh3d": [
           {
            "colorbar": {
             "outlinewidth": 0,
             "ticks": ""
            },
            "type": "mesh3d"
           }
          ],
          "parcoords": [
           {
            "line": {
             "colorbar": {
              "outlinewidth": 0,
              "ticks": ""
             }
            },
            "type": "parcoords"
           }
          ],
          "pie": [
           {
            "automargin": true,
            "type": "pie"
           }
          ],
          "scatter": [
           {
            "fillpattern": {
             "fillmode": "overlay",
             "size": 10,
             "solidity": 0.2
            },
            "type": "scatter"
           }
          ],
          "scatter3d": [
           {
            "line": {
             "colorbar": {
              "outlinewidth": 0,
              "ticks": ""
             }
            },
            "marker": {
             "colorbar": {
              "outlinewidth": 0,
              "ticks": ""
             }
            },
            "type": "scatter3d"
           }
          ],
          "scattercarpet": [
           {
            "marker": {
             "colorbar": {
              "outlinewidth": 0,
              "ticks": ""
             }
            },
            "type": "scattercarpet"
           }
          ],
          "scattergeo": [
           {
            "marker": {
             "colorbar": {
              "outlinewidth": 0,
              "ticks": ""
             }
            },
            "type": "scattergeo"
           }
          ],
          "scattergl": [
           {
            "marker": {
             "colorbar": {
              "outlinewidth": 0,
              "ticks": ""
             }
            },
            "type": "scattergl"
           }
          ],
          "scattermapbox": [
           {
            "marker": {
             "colorbar": {
              "outlinewidth": 0,
              "ticks": ""
             }
            },
            "type": "scattermapbox"
           }
          ],
          "scatterpolar": [
           {
            "marker": {
             "colorbar": {
              "outlinewidth": 0,
              "ticks": ""
             }
            },
            "type": "scatterpolar"
           }
          ],
          "scatterpolargl": [
           {
            "marker": {
             "colorbar": {
              "outlinewidth": 0,
              "ticks": ""
             }
            },
            "type": "scatterpolargl"
           }
          ],
          "scatterternary": [
           {
            "marker": {
             "colorbar": {
              "outlinewidth": 0,
              "ticks": ""
             }
            },
            "type": "scatterternary"
           }
          ],
          "surface": [
           {
            "colorbar": {
             "outlinewidth": 0,
             "ticks": ""
            },
            "colorscale": [
             [
              0,
              "#0d0887"
             ],
             [
              0.1111111111111111,
              "#46039f"
             ],
             [
              0.2222222222222222,
              "#7201a8"
             ],
             [
              0.3333333333333333,
              "#9c179e"
             ],
             [
              0.4444444444444444,
              "#bd3786"
             ],
             [
              0.5555555555555556,
              "#d8576b"
             ],
             [
              0.6666666666666666,
              "#ed7953"
             ],
             [
              0.7777777777777778,
              "#fb9f3a"
             ],
             [
              0.8888888888888888,
              "#fdca26"
             ],
             [
              1,
              "#f0f921"
             ]
            ],
            "type": "surface"
           }
          ],
          "table": [
           {
            "cells": {
             "fill": {
              "color": "#EBF0F8"
             },
             "line": {
              "color": "white"
             }
            },
            "header": {
             "fill": {
              "color": "#C8D4E3"
             },
             "line": {
              "color": "white"
             }
            },
            "type": "table"
           }
          ]
         },
         "layout": {
          "annotationdefaults": {
           "arrowcolor": "#2a3f5f",
           "arrowhead": 0,
           "arrowwidth": 1
          },
          "autotypenumbers": "strict",
          "coloraxis": {
           "colorbar": {
            "outlinewidth": 0,
            "ticks": ""
           }
          },
          "colorscale": {
           "diverging": [
            [
             0,
             "#8e0152"
            ],
            [
             0.1,
             "#c51b7d"
            ],
            [
             0.2,
             "#de77ae"
            ],
            [
             0.3,
             "#f1b6da"
            ],
            [
             0.4,
             "#fde0ef"
            ],
            [
             0.5,
             "#f7f7f7"
            ],
            [
             0.6,
             "#e6f5d0"
            ],
            [
             0.7,
             "#b8e186"
            ],
            [
             0.8,
             "#7fbc41"
            ],
            [
             0.9,
             "#4d9221"
            ],
            [
             1,
             "#276419"
            ]
           ],
           "sequential": [
            [
             0,
             "#0d0887"
            ],
            [
             0.1111111111111111,
             "#46039f"
            ],
            [
             0.2222222222222222,
             "#7201a8"
            ],
            [
             0.3333333333333333,
             "#9c179e"
            ],
            [
             0.4444444444444444,
             "#bd3786"
            ],
            [
             0.5555555555555556,
             "#d8576b"
            ],
            [
             0.6666666666666666,
             "#ed7953"
            ],
            [
             0.7777777777777778,
             "#fb9f3a"
            ],
            [
             0.8888888888888888,
             "#fdca26"
            ],
            [
             1,
             "#f0f921"
            ]
           ],
           "sequentialminus": [
            [
             0,
             "#0d0887"
            ],
            [
             0.1111111111111111,
             "#46039f"
            ],
            [
             0.2222222222222222,
             "#7201a8"
            ],
            [
             0.3333333333333333,
             "#9c179e"
            ],
            [
             0.4444444444444444,
             "#bd3786"
            ],
            [
             0.5555555555555556,
             "#d8576b"
            ],
            [
             0.6666666666666666,
             "#ed7953"
            ],
            [
             0.7777777777777778,
             "#fb9f3a"
            ],
            [
             0.8888888888888888,
             "#fdca26"
            ],
            [
             1,
             "#f0f921"
            ]
           ]
          },
          "colorway": [
           "#636efa",
           "#EF553B",
           "#00cc96",
           "#ab63fa",
           "#FFA15A",
           "#19d3f3",
           "#FF6692",
           "#B6E880",
           "#FF97FF",
           "#FECB52"
          ],
          "font": {
           "color": "#2a3f5f"
          },
          "geo": {
           "bgcolor": "white",
           "lakecolor": "white",
           "landcolor": "#E5ECF6",
           "showlakes": true,
           "showland": true,
           "subunitcolor": "white"
          },
          "hoverlabel": {
           "align": "left"
          },
          "hovermode": "closest",
          "mapbox": {
           "style": "light"
          },
          "paper_bgcolor": "white",
          "plot_bgcolor": "#E5ECF6",
          "polar": {
           "angularaxis": {
            "gridcolor": "white",
            "linecolor": "white",
            "ticks": ""
           },
           "bgcolor": "#E5ECF6",
           "radialaxis": {
            "gridcolor": "white",
            "linecolor": "white",
            "ticks": ""
           }
          },
          "scene": {
           "xaxis": {
            "backgroundcolor": "#E5ECF6",
            "gridcolor": "white",
            "gridwidth": 2,
            "linecolor": "white",
            "showbackground": true,
            "ticks": "",
            "zerolinecolor": "white"
           },
           "yaxis": {
            "backgroundcolor": "#E5ECF6",
            "gridcolor": "white",
            "gridwidth": 2,
            "linecolor": "white",
            "showbackground": true,
            "ticks": "",
            "zerolinecolor": "white"
           },
           "zaxis": {
            "backgroundcolor": "#E5ECF6",
            "gridcolor": "white",
            "gridwidth": 2,
            "linecolor": "white",
            "showbackground": true,
            "ticks": "",
            "zerolinecolor": "white"
           }
          },
          "shapedefaults": {
           "line": {
            "color": "#2a3f5f"
           }
          },
          "ternary": {
           "aaxis": {
            "gridcolor": "white",
            "linecolor": "white",
            "ticks": ""
           },
           "baxis": {
            "gridcolor": "white",
            "linecolor": "white",
            "ticks": ""
           },
           "bgcolor": "#E5ECF6",
           "caxis": {
            "gridcolor": "white",
            "linecolor": "white",
            "ticks": ""
           }
          },
          "title": {
           "x": 0.05
          },
          "xaxis": {
           "automargin": true,
           "gridcolor": "white",
           "linecolor": "white",
           "ticks": "",
           "title": {
            "standoff": 15
           },
           "zerolinecolor": "white",
           "zerolinewidth": 2
          },
          "yaxis": {
           "automargin": true,
           "gridcolor": "white",
           "linecolor": "white",
           "ticks": "",
           "title": {
            "standoff": 15
           },
           "zerolinecolor": "white",
           "zerolinewidth": 2
          }
         }
        },
        "title": {
         "text": "Intermediate Values Plot"
        },
        "xaxis": {
         "title": {
          "text": "Step"
         }
        },
        "yaxis": {
         "title": {
          "text": "Intermediate Value"
         }
        }
       }
      },
      "text/html": [
       "<div>                            <div id=\"5deb6207-6e70-48e3-ada3-b18224756bb0\" class=\"plotly-graph-div\" style=\"height:525px; width:100%;\"></div>            <script type=\"text/javascript\">                require([\"plotly\"], function(Plotly) {                    window.PLOTLYENV=window.PLOTLYENV || {};                                    if (document.getElementById(\"5deb6207-6e70-48e3-ada3-b18224756bb0\")) {                    Plotly.newPlot(                        \"5deb6207-6e70-48e3-ada3-b18224756bb0\",                        [{\"marker\":{\"maxdisplayed\":10},\"mode\":\"lines+markers\",\"name\":\"Trial0\",\"x\":[5000,10000,15000,20000,25000,30000,35000,40000,45000,50000,55000,60000,65000,70000,75000,80000,85000,90000,95000,100000,105000,110000,115000,120000,125000,130000,135000,140000,145000,150000,155000,160000,165000,170000,175000,180000,185000,190000,195000,200000,205000,210000,215000,220000,225000,230000,235000,240000,245000,250000,255000,260000,265000,270000,275000,280000,285000,290000,295000,300000,305000,310000,315000,320000,325000,330000,335000,340000,345000,350000,355000,360000,365000,370000,375000,380000,385000,390000,395000,400000,405000,410000,415000,420000,425000,430000,435000,440000,445000,450000,455000,460000,465000,470000,475000,480000,485000,490000,495000,500000],\"y\":[28.9769229888916,30.9882755279541,30.691261291503906,31.029739379882812,30.98751449584961,30.070755004882812,30.105274200439453,30.69568634033203,30.721548080444336,29.37969970703125,30.641725540161133,29.968164443969727,30.855302810668945,30.051740646362305,29.930335998535156,29.786849975585938,31.962427139282227,29.914968490600586,31.13109588623047,31.059093475341797,31.03107452392578,30.794055938720703,31.631235122680664,31.118589401245117,29.773828506469727,32.006675720214844,30.535179138183594,29.647314071655273,30.921680450439453,30.89288902282715,31.414033889770508,30.764850616455078,30.7270450592041,31.259611129760742,30.42819595336914,31.247303009033203,30.43429183959961,31.69298553466797,30.23220443725586,31.375070571899414,31.208093643188477,30.227130889892578,32.386146545410156,31.45693588256836,31.067970275878906,30.195026397705078,30.632596969604492,29.729843139648438,30.57579803466797,30.130224227905273,29.065563201904297,31.111108779907227,30.31789779663086,30.7456111907959,31.126176834106445,30.46385955810547,30.407167434692383,30.76485824584961,30.244911193847656,29.786558151245117,31.507169723510742,30.57299041748047,32.38322830200195,30.442672729492188,30.99944305419922,30.6696720123291,29.51125717163086,30.336864471435547,29.7486572265625,29.9140567779541,30.497386932373047,31.039445877075195,31.663040161132812,30.934797286987305,29.969093322753906,31.458040237426758,30.34625816345215,31.56561279296875,30.697938919067383,29.444368362426758,30.454566955566406,30.676767349243164,30.042522430419922,30.808238983154297,30.258939743041992,31.25008773803711,30.846227645874023,30.21112632751465,30.700620651245117,30.22881507873535,31.321002960205078,31.548215866088867,30.28496551513672,30.824796676635742,29.65331268310547,30.355775833129883,30.066242218017578,30.384998321533203,29.981428146362305,30.995040893554688],\"type\":\"scatter\"},{\"marker\":{\"maxdisplayed\":10},\"mode\":\"lines+markers\",\"name\":\"Trial1\",\"x\":[5000,10000,15000,20000,25000,30000,35000,40000,45000,50000,55000,60000,65000,70000,75000,80000,85000,90000,95000,100000,105000,110000,115000,120000,125000,130000,135000,140000,145000,150000,155000,160000,165000,170000,175000,180000,185000,190000,195000,200000,205000,210000,215000,220000,225000,230000,235000,240000,245000,250000,255000,260000,265000,270000,275000,280000,285000,290000,295000,300000,305000,310000,315000,320000,325000,330000,335000,340000,345000,350000,355000,360000,365000,370000,375000,380000,385000,390000,395000,400000,405000,410000,415000,420000,425000,430000,435000,440000,445000,450000,455000,460000,465000,470000,475000,480000,485000,490000,495000,500000],\"y\":[29.743379592895508,30.4657039642334,31.25536346435547,30.916980743408203,30.812538146972656,29.81316375732422,30.465059280395508,31.145654678344727,30.187572479248047,29.821701049804688,31.092243194580078,30.123762130737305,29.574787139892578,31.078092575073242,29.815309524536133,29.538240432739258,28.832563400268555,30.47728729248047,29.821189880371094,30.785842895507812,30.24542808532715,29.839599609375,30.83642578125,30.343599319458008,29.904823303222656,30.058494567871094,29.99160385131836,29.393085479736328,30.293258666992188,30.150888442993164,30.251249313354492,30.633800506591797,29.973411560058594,30.291648864746094,30.064247131347656,30.0169734954834,31.363073348999023,30.709768295288086,31.448137283325195,30.273561477661133,29.271509170532227,30.62586212158203,30.91791534423828,30.513896942138672,31.63983917236328,30.10186767578125,30.41534996032715,30.852807998657227,30.311874389648438,30.50375747680664,29.880565643310547,30.490877151489258,32.280555725097656,31.572702407836914,30.158323287963867,29.750293731689453,29.83531951904297,30.312776565551758,30.029829025268555,30.805522918701172,31.074024200439453,29.15886878967285,30.581520080566406,30.486305236816406,31.45012855529785,30.840774536132812,30.47362518310547,30.417312622070312,30.264074325561523,30.499319076538086,30.31305694580078,30.48050308227539,29.728622436523438,30.737892150878906,31.43535614013672,31.443410873413086,30.862211227416992,30.481889724731445,30.089946746826172,31.31222152709961,31.302194595336914,30.901756286621094,31.127683639526367,30.174123764038086,29.872520446777344,30.1467227935791,31.012794494628906,29.68914031982422,30.587717056274414,30.077917098999023,29.860509872436523,30.41442108154297,30.374004364013672,29.930044174194336,30.284936904907227,30.705829620361328,30.80550765991211,29.728233337402344,30.568815231323242,29.754436492919922],\"type\":\"scatter\"},{\"marker\":{\"maxdisplayed\":10},\"mode\":\"lines+markers\",\"name\":\"Trial2\",\"x\":[5000,10000,15000,20000,25000,30000,35000,40000,45000,50000,55000,60000,65000,70000,75000,80000,85000,90000,95000,100000,105000,110000,115000,120000,125000,130000,135000,140000,145000,150000,155000,160000,165000,170000,175000,180000,185000,190000,195000,200000,205000,210000,215000,220000,225000,230000,235000,240000,245000,250000,255000,260000,265000,270000,275000,280000,285000,290000,295000,300000,305000,310000,315000,320000,325000,330000,335000,340000,345000,350000,355000,360000,365000,370000,375000,380000,385000,390000,395000,400000,405000,410000,415000,420000,425000,430000,435000,440000,445000,450000,455000,460000,465000,470000,475000,480000,485000,490000,495000,500000],\"y\":[30.05416488647461,29.492938995361328,30.680788040161133,30.439882278442383,30.722431182861328,30.784896850585938,29.90472984313965,29.959060668945312,29.961702346801758,30.174161911010742,31.455154418945312,30.13774871826172,30.106975555419922,30.394102096557617,30.19342803955078,29.97555160522461,30.241374969482422,30.360456466674805,29.39751625061035,30.16167449951172,31.5753231048584,29.299097061157227,30.76113510131836,29.922069549560547,30.7286376953125,30.337928771972656,31.112995147705078,30.015113830566406,30.512197494506836,30.863401412963867,30.249544143676758,30.825721740722656,30.184595108032227,31.202369689941406,29.69461441040039,30.196718215942383,30.518817901611328,31.419912338256836,30.80704116821289,29.844419479370117,31.17516326904297,30.32860565185547,30.863271713256836,31.185590744018555,30.798131942749023,31.39224624633789,29.94597625732422,30.476865768432617,30.644424438476562,30.657644271850586,29.58914566040039,29.808549880981445,30.68227767944336,29.546537399291992,31.28866958618164,29.65863800048828,30.26325225830078,30.707067489624023,31.09459686279297,30.623903274536133,29.826322555541992,30.278528213500977,31.37466049194336,30.547788619995117,31.038719177246094,30.284608840942383,29.903850555419922,29.966232299804688,30.31951332092285,29.884328842163086,30.708276748657227,29.724088668823242,30.72875213623047,30.807331085205078,31.199386596679688,30.806171417236328,30.591835021972656,31.126117706298828,29.158647537231445,31.38510513305664,31.045137405395508,30.409263610839844,30.063581466674805,30.172496795654297,30.084636688232422,29.929275512695312,30.67684555053711,30.505229949951172,30.470653533935547,31.41992950439453,29.761030197143555,31.119678497314453,29.564594268798828,30.614328384399414,30.923538208007812,29.615123748779297,30.076793670654297,29.2977352142334,30.868976593017578,29.71807861328125],\"type\":\"scatter\"},{\"marker\":{\"maxdisplayed\":10},\"mode\":\"lines+markers\",\"name\":\"Trial3\",\"x\":[5000,10000,15000,20000,25000,30000,35000,40000,45000,50000,55000,60000,65000,70000,75000,80000,85000,90000,95000,100000,105000,110000,115000,120000,125000,130000,135000,140000,145000,150000,155000,160000,165000,170000,175000,180000,185000,190000,195000,200000,205000,210000,215000,220000,225000,230000,235000,240000,245000,250000,255000,260000,265000,270000,275000,280000,285000,290000,295000,300000,305000,310000,315000,320000,325000,330000,335000,340000,345000,350000,355000,360000,365000,370000,375000,380000,385000,390000,395000,400000,405000,410000,415000,420000,425000,430000,435000,440000,445000,450000,455000,460000,465000,470000,475000,480000,485000,490000,495000,500000],\"y\":[30.343339920043945,30.955162048339844,31.028457641601562,30.421735763549805,31.181386947631836,29.362133026123047,30.93561553955078,31.033700942993164,29.971397399902344,30.491037368774414,30.464624404907227,30.514177322387695,31.086265563964844,30.380996704101562,30.893047332763672,30.824872970581055,30.486467361450195,29.98186683654785,30.95604705810547,30.827817916870117,30.557870864868164,29.903907775878906,30.840953826904297,30.163400650024414,30.74683380126953,30.696279525756836,31.154281616210938,30.744522094726562,29.680614471435547,31.93163299560547,30.480119705200195,30.16468048095703,30.808547973632812,31.508625030517578,30.13901138305664,32.159698486328125,30.83401870727539,30.883678436279297,31.10455322265625,31.420629501342773,31.146562576293945,30.008346557617188,30.408876419067383,30.540176391601562,29.70769500732422,30.538976669311523,30.976417541503906,29.80062484741211,30.85400390625,32.05399703979492,29.411113739013672,30.352577209472656,29.746685028076172,31.152053833007812,31.82998275756836,30.21329116821289,30.557504653930664,30.806983947753906,31.697572708129883,29.74306869506836,29.701522827148438,30.852943420410156,30.32089614868164,30.985916137695312,31.04226303100586,31.329347610473633,31.177709579467773,30.196853637695312,31.36517906188965,31.03298568725586,30.619098663330078,30.011085510253906,29.544649124145508,30.170244216918945,30.875648498535156,30.597984313964844,30.652559280395508,31.080455780029297,30.080219268798828,30.277124404907227,29.160581588745117,30.181129455566406,29.670862197875977,30.84151840209961,30.46837615966797,29.720029830932617,31.011415481567383,30.57585906982422,30.72458267211914,29.738046646118164,30.979013442993164,30.751916885375977,29.90111541748047,30.734874725341797,30.4520263671875,30.505319595336914,30.6206111907959,31.04730796813965,28.975088119506836,31.183433532714844],\"type\":\"scatter\"},{\"marker\":{\"maxdisplayed\":10},\"mode\":\"lines+markers\",\"name\":\"Trial4\",\"x\":[5000,10000,15000,20000,25000,30000,35000,40000,45000,50000,55000,60000,65000,70000,75000,80000,85000,90000,95000,100000,105000,110000,115000,120000,125000,130000,135000,140000,145000,150000,155000,160000,165000,170000,175000,180000,185000,190000,195000,200000,205000,210000,215000,220000,225000,230000,235000,240000,245000,250000,255000,260000,265000,270000,275000,280000,285000,290000,295000,300000,305000,310000,315000,320000,325000,330000,335000,340000,345000,350000,355000,360000,365000,370000,375000,380000,385000,390000,395000,400000,405000,410000,415000,420000,425000,430000,435000,440000,445000,450000,455000,460000,465000,470000,475000,480000,485000,490000,495000,500000],\"y\":[29.7507381439209,31.108932495117188,30.45834732055664,31.355056762695312,29.96379852294922,30.703025817871094,30.35230255126953,30.192665100097656,29.723039627075195,29.9153995513916,30.821449279785156,30.65127944946289,31.060876846313477,31.52508544921875,30.87207794189453,31.021469116210938,31.15127182006836,30.301406860351562,30.843469619750977,31.41301918029785,30.04938507080078,30.973432540893555,29.766036987304688,30.87122344970703,29.66671371459961,30.619951248168945,30.609426498413086,30.359416961669922,31.257719039916992,30.36309051513672,31.239961624145508,30.632118225097656,30.584068298339844,31.081260681152344,31.628551483154297,30.720176696777344,30.973739624023438,30.727319717407227,30.240129470825195,30.853557586669922,30.456289291381836,30.321792602539062,30.78310775756836,30.74139976501465,30.607032775878906,32.03202819824219,31.1220645904541,31.669565200805664,30.451309204101562,30.59610366821289,31.102327346801758,30.359943389892578,30.035167694091797,30.0616455078125,30.80622100830078,31.084396362304688,30.28680992126465,30.27733612060547,29.967609405517578,30.962312698364258,31.222745895385742,31.213333129882812,30.555410385131836,30.24614715576172,30.16631317138672,30.634511947631836,30.541393280029297,32.23589324951172,30.657533645629883,30.849939346313477,30.854595184326172,31.234542846679688,30.71225357055664,29.751935958862305,31.099023818969727,30.910375595092773,29.77835464477539,31.034151077270508,30.44823455810547,30.7182674407959,30.636869430541992,30.949565887451172,31.312002182006836,30.37323570251465,31.05046844482422,30.624380111694336,30.592979431152344,29.825450897216797,31.11865997314453,30.9997501373291,30.186540603637695,32.14666748046875,30.20256996154785,31.099281311035156,29.762754440307617,31.06240463256836,30.441783905029297,31.172292709350586,31.931495666503906,30.960372924804688],\"type\":\"scatter\"},{\"marker\":{\"maxdisplayed\":10},\"mode\":\"lines+markers\",\"name\":\"Trial5\",\"x\":[5000],\"y\":[29.66839599609375],\"type\":\"scatter\"},{\"marker\":{\"maxdisplayed\":10},\"mode\":\"lines+markers\",\"name\":\"Trial6\",\"x\":[5000,10000,15000,20000,25000,30000,35000,40000,45000,50000,55000,60000,65000,70000,75000,80000,85000,90000,95000,100000,105000,110000,115000,120000,125000,130000,135000,140000,145000,150000,155000,160000,165000,170000,175000,180000,185000,190000,195000,200000,205000,210000,215000,220000,225000,230000,235000,240000,245000,250000,255000,260000,265000,270000,275000,280000,285000,290000,295000,300000,305000,310000,315000,320000,325000,330000,335000,340000,345000,350000,355000,360000,365000,370000,375000,380000,385000,390000,395000,400000,405000,410000,415000,420000,425000,430000,435000,440000,445000,450000,455000,460000,465000,470000,475000,480000,485000,490000,495000,500000],\"y\":[31.117759704589844,30.48119354248047,30.43939208984375,29.07384490966797,31.151748657226562,30.365808486938477,30.501665115356445,30.420011520385742,30.632097244262695,30.363611221313477,30.606325149536133,30.667768478393555,29.72955322265625,31.092153549194336,30.823427200317383,31.2672061920166,30.177431106567383,30.368026733398438,29.979114532470703,29.258512496948242,30.671552658081055,29.710172653198242,30.418180465698242,31.288740158081055,29.26620101928711,30.680063247680664,32.5358772277832,30.152809143066406,30.19974136352539,29.552263259887695,29.712303161621094,29.808452606201172,29.669076919555664,31.333284378051758,31.48674964904785,31.774402618408203,30.139711380004883,29.964296340942383,30.694368362426758,30.134109497070312,30.351757049560547,30.74563980102539,30.276662826538086,31.07839584350586,30.726163864135742,30.843420028686523,31.363452911376953,29.599660873413086,30.004638671875,30.654176712036133,31.135480880737305,30.966419219970703,29.452871322631836,30.859725952148438,31.520286560058594,31.10883140563965,31.09288787841797,30.723012924194336,29.660106658935547,30.069272994995117,30.63420867919922,30.183401107788086,31.672649383544922,30.41912841796875,30.587648391723633,30.14773941040039,32.20814895629883,29.522926330566406,30.29538345336914,29.887134552001953,30.065244674682617,30.952136993408203,30.86651039123535,31.368040084838867,31.407438278198242,30.658710479736328,31.113142013549805,29.772235870361328,29.937175750732422,29.508586883544922,31.763242721557617,30.330078125,30.193744659423828,30.999624252319336,31.011341094970703,30.07680892944336,30.70746612548828,30.942611694335938,30.704103469848633,30.58798599243164,30.676498413085938,31.471418380737305,29.826831817626953,31.26813316345215,30.318513870239258,29.21487808227539,31.246845245361328,30.762855529785156,30.31214141845703,29.47213363647461],\"type\":\"scatter\"},{\"marker\":{\"maxdisplayed\":10},\"mode\":\"lines+markers\",\"name\":\"Trial7\",\"x\":[5000,10000,15000,20000,25000,30000,35000,40000,45000,50000,55000,60000,65000,70000,75000,80000,85000,90000,95000,100000,105000,110000,115000,120000,125000,130000,135000,140000,145000,150000,155000,160000,165000,170000,175000,180000,185000,190000,195000,200000,205000,210000,215000,220000,225000,230000,235000,240000,245000,250000,255000,260000,265000,270000,275000,280000,285000,290000,295000,300000,305000,310000,315000,320000,325000,330000,335000,340000,345000,350000,355000,360000,365000,370000,375000,380000,385000,390000,395000,400000,405000,410000,415000,420000,425000,430000,435000,440000,445000,450000,455000,460000,465000,470000,475000,480000,485000,490000,495000,500000],\"y\":[31.083494186401367,30.488420486450195,29.640256881713867,30.37763214111328,31.147991180419922,29.87347984313965,30.784276962280273,30.3475284576416,30.647777557373047,29.634889602661133,30.93627166748047,29.866619110107422,30.890722274780273,31.09735679626465,30.149673461914062,31.03502655029297,31.122482299804688,31.90618324279785,30.6260986328125,30.647781372070312,29.969894409179688,29.37084197998047,30.86395835876465,30.400697708129883,30.255857467651367,30.631216049194336,30.10295867919922,30.20278549194336,30.45984649658203,30.975265502929688,31.0406436920166,30.574216842651367,30.92139434814453,30.46759796142578,30.309404373168945,29.60796546936035,30.71950912475586,30.680883407592773,30.53955078125,30.965898513793945,31.016756057739258,31.15826416015625,30.16387176513672,31.16832733154297,30.225507736206055,31.123668670654297,29.720151901245117,30.337705612182617,29.840784072875977,31.40384292602539,31.5516300201416,30.31344223022461,29.548532485961914,31.134666442871094,30.05487823486328,30.680265426635742,31.22885513305664,31.566328048706055,30.4279727935791,30.830581665039062,30.533653259277344,29.202856063842773,30.731462478637695,30.479555130004883,31.27823257446289,30.073518753051758,30.393798828125,30.866783142089844,30.8616943359375,30.298337936401367,31.275104522705078,30.932092666625977,30.86288833618164,31.121118545532227,29.52581024169922,30.26076889038086,29.39203643798828,30.147764205932617,31.07160186767578,30.117727279663086,29.920698165893555,30.353900909423828,30.84832763671875,30.780956268310547,30.784584045410156,29.5349178314209,30.78143310546875,31.020488739013672,31.010995864868164,30.717844009399414,30.56940269470215,31.003053665161133,31.099609375,30.697702407836914,31.164384841918945,29.99532699584961,30.2503662109375,31.070283889770508,30.370494842529297,30.76321029663086],\"type\":\"scatter\"},{\"marker\":{\"maxdisplayed\":10},\"mode\":\"lines+markers\",\"name\":\"Trial8\",\"x\":[5000,10000,15000,20000,25000,30000,35000,40000,45000,50000,55000,60000,65000,70000,75000,80000,85000,90000,95000,100000,105000,110000,115000,120000,125000,130000,135000,140000,145000,150000,155000,160000,165000,170000,175000,180000,185000,190000,195000,200000,205000,210000,215000,220000,225000,230000,235000,240000,245000,250000,255000,260000,265000,270000,275000,280000,285000,290000,295000,300000,305000,310000,315000,320000,325000,330000,335000,340000,345000,350000,355000,360000,365000,370000,375000,380000,385000,390000,395000,400000,405000,410000,415000,420000,425000,430000,435000,440000,445000,450000,455000,460000,465000,470000,475000,480000,485000,490000,495000,500000],\"y\":[30.97339630126953,30.205228805541992,30.25571060180664,29.747486114501953,31.170581817626953,30.211824417114258,31.41329574584961,29.880691528320312,29.9904842376709,30.838621139526367,29.560928344726562,29.94214630126953,30.5817813873291,30.887834548950195,30.326093673706055,30.925012588500977,30.16460418701172,30.422229766845703,29.649995803833008,30.552261352539062,30.682649612426758,29.870546340942383,30.270977020263672,30.694833755493164,30.238203048706055,30.432714462280273,30.351089477539062,30.243974685668945,30.01209259033203,30.386075973510742,31.445646286010742,31.321279525756836,30.52713394165039,30.1069393157959,30.836204528808594,29.362472534179688,29.705860137939453,30.2641658782959,29.835960388183594,29.949878692626953,30.09332275390625,30.673559188842773,29.843067169189453,30.067956924438477,30.64618492126465,30.645036697387695,31.163658142089844,30.186349868774414,30.497943878173828,30.998634338378906,29.787965774536133,30.257034301757812,31.245864868164062,31.208904266357422,31.319765090942383,30.4110050201416,30.35663604736328,31.317951202392578,30.338598251342773,29.575345993041992,30.177156448364258,30.620311737060547,30.023256301879883,30.176898956298828,30.4935359954834,29.845653533935547,30.251480102539062,30.596731185913086,29.93238067626953,30.297119140625,31.389562606811523,30.065427780151367,29.836681365966797,30.016958236694336,29.54932403564453,31.1118106842041,30.584196090698242,30.108083724975586,31.120040893554688,30.851655960083008,30.340391159057617,29.860797882080078,30.181798934936523,29.96612548828125,30.189210891723633,30.358633041381836,30.928251266479492,30.295116424560547,30.208417892456055,30.864797592163086,29.855802536010742,30.03972816467285,31.471403121948242,29.623497009277344,29.755630493164062,31.119108200073242,30.595701217651367,29.68844985961914,32.04349136352539,30.543872833251953],\"type\":\"scatter\"},{\"marker\":{\"maxdisplayed\":10},\"mode\":\"lines+markers\",\"name\":\"Trial9\",\"x\":[5000],\"y\":[30.061878204345703],\"type\":\"scatter\"},{\"marker\":{\"maxdisplayed\":10},\"mode\":\"lines+markers\",\"name\":\"Trial10\",\"x\":[5000,10000,15000,20000,25000,30000,35000,40000,45000,50000,55000,60000,65000,70000,75000,80000,85000,90000,95000,100000,105000,110000,115000,120000,125000,130000,135000,140000,145000,150000,155000,160000,165000,170000,175000,180000,185000,190000,195000,200000,205000,210000,215000,220000,225000,230000,235000,240000,245000,250000,255000,260000,265000,270000,275000,280000,285000,290000,295000,300000,305000,310000,315000,320000,325000,330000,335000,340000,345000,350000,355000,360000,365000,370000,375000,380000,385000,390000,395000,400000,405000,410000,415000,420000,425000,430000,435000,440000,445000,450000,455000,460000,465000,470000,475000,480000,485000,490000,495000,500000],\"y\":[31.311731338500977,31.609384536743164,31.096036911010742,30.864072799682617,30.63668441772461,29.667217254638672,29.609912872314453,30.9359073638916,30.160301208496094,30.586685180664062,30.74297523498535,30.670732498168945,30.696496963500977,30.441909790039062,31.9158992767334,30.330183029174805,31.14101791381836,29.574899673461914,29.98248291015625,31.030996322631836,30.326698303222656,30.2200870513916,30.929075241088867,30.452856063842773,30.838333129882812,29.548381805419922,29.467731475830078,30.168689727783203,30.659278869628906,31.548383712768555,30.325593948364258,31.242919921875,29.912885665893555,30.597959518432617,30.92078399658203,30.162538528442383,30.78302764892578,30.411365509033203,31.137269973754883,29.900827407836914,30.150156021118164,29.422813415527344,30.623092651367188,31.66342544555664,30.266813278198242,30.39523696899414,29.758527755737305,30.958473205566406,29.889816284179688,30.575733184814453,31.177536010742188,32.108726501464844,30.542539596557617,31.28783416748047,31.282577514648438,30.62411880493164,30.053613662719727,30.886293411254883,30.852418899536133,31.2391357421875,30.375469207763672,31.612464904785156,31.3773136138916,31.129377365112305,31.087270736694336,30.017963409423828,30.029542922973633,30.062665939331055,31.267568588256836,31.05200958251953,30.1280574798584,29.828388214111328,30.60366439819336,30.737159729003906,31.407054901123047,30.52899742126465,29.635400772094727,29.618539810180664,30.414756774902344,30.833009719848633,29.760456085205078,31.16299819946289,30.320690155029297,31.58572769165039,30.365222930908203,30.266538619995117,29.99040985107422,30.365089416503906,31.03201675415039,30.618797302246094,31.126821517944336,30.452655792236328,29.79720687866211,30.61444091796875,29.71441650390625,30.73577117919922,29.370590209960938,30.875225067138672,31.497804641723633,30.552230834960938],\"type\":\"scatter\"},{\"marker\":{\"maxdisplayed\":10},\"mode\":\"lines+markers\",\"name\":\"Trial11\",\"x\":[5000],\"y\":[30.04815673828125],\"type\":\"scatter\"},{\"marker\":{\"maxdisplayed\":10},\"mode\":\"lines+markers\",\"name\":\"Trial12\",\"x\":[5000],\"y\":[30.147903442382812],\"type\":\"scatter\"},{\"marker\":{\"maxdisplayed\":10},\"mode\":\"lines+markers\",\"name\":\"Trial13\",\"x\":[5000,10000,15000,20000,25000,30000,35000,40000,45000,50000,55000,60000,65000,70000,75000,80000,85000,90000,95000,100000,105000,110000,115000,120000,125000,130000,135000,140000,145000,150000,155000,160000,165000,170000,175000,180000,185000,190000,195000,200000,205000,210000,215000,220000,225000,230000,235000,240000,245000,250000,255000,260000,265000,270000,275000,280000,285000,290000,295000,300000,305000,310000,315000,320000,325000,330000,335000,340000,345000,350000,355000,360000,365000,370000,375000,380000,385000,390000,395000,400000,405000,410000,415000,420000,425000,430000,435000,440000,445000,450000,455000,460000,465000,470000,475000,480000,485000,490000,495000,500000],\"y\":[31.063722610473633,30.607872009277344,29.761457443237305,30.518770217895508,30.2459716796875,30.969768524169922,30.536890029907227,30.835460662841797,30.893150329589844,30.349946975708008,31.6199893951416,30.49616050720215,30.444242477416992,31.326818466186523,30.1580753326416,31.40532875061035,30.689796447753906,31.22711944580078,30.11064910888672,30.6303768157959,30.56914710998535,29.2457275390625,30.931142807006836,29.902393341064453,30.374256134033203,29.889137268066406,30.666536331176758,29.852401733398438,29.85181427001953,30.025062561035156,29.63275146484375,30.398841857910156,30.0214900970459,30.785497665405273,29.725488662719727,30.04650115966797,30.9725341796875,30.330829620361328,30.37493324279785,30.127988815307617,31.00213623046875,30.786584854125977,29.92449378967285,30.080585479736328,30.155567169189453,31.135879516601562,30.417404174804688,31.426973342895508,30.43072509765625,30.71677017211914,31.143320083618164,30.935338973999023,30.40679931640625,30.632295608520508,31.183815002441406,30.136249542236328,30.0886287689209,30.19174575805664,32.46018600463867,30.286954879760742,31.188528060913086,31.009624481201172,30.647842407226562,30.011459350585938,30.360048294067383,30.188039779663086,30.265365600585938,30.92791748046875,31.101673126220703,30.413352966308594,30.50177574157715,31.073442459106445,31.020130157470703,30.807119369506836,29.939729690551758,30.611892700195312,31.28366470336914,30.330053329467773,29.928735733032227,29.660964965820312,30.553970336914062,29.35901641845703,30.369966506958008,30.779733657836914,30.63361358642578,30.646682739257812,30.382402420043945,31.268299102783203,30.213472366333008,30.286725997924805,31.531766891479492,30.80096435546875,30.025461196899414,31.25774383544922,29.53417205810547,30.4163818359375,30.267465591430664,31.196144104003906,31.574199676513672,30.690353393554688],\"type\":\"scatter\"},{\"marker\":{\"maxdisplayed\":10},\"mode\":\"lines+markers\",\"name\":\"Trial14\",\"x\":[5000],\"y\":[29.30731773376465],\"type\":\"scatter\"},{\"marker\":{\"maxdisplayed\":10},\"mode\":\"lines+markers\",\"name\":\"Trial15\",\"x\":[5000],\"y\":[30.614011764526367],\"type\":\"scatter\"},{\"marker\":{\"maxdisplayed\":10},\"mode\":\"lines+markers\",\"name\":\"Trial16\",\"x\":[5000,10000,15000,20000,25000],\"y\":[30.867136001586914,30.792612075805664,30.717771530151367,29.296018600463867,30.207630157470703],\"type\":\"scatter\"},{\"marker\":{\"maxdisplayed\":10},\"mode\":\"lines+markers\",\"name\":\"Trial17\",\"x\":[5000],\"y\":[29.67272186279297],\"type\":\"scatter\"},{\"marker\":{\"maxdisplayed\":10},\"mode\":\"lines+markers\",\"name\":\"Trial18\",\"x\":[5000],\"y\":[30.0765380859375],\"type\":\"scatter\"},{\"marker\":{\"maxdisplayed\":10},\"mode\":\"lines+markers\",\"name\":\"Trial19\",\"x\":[5000],\"y\":[30.493722915649414],\"type\":\"scatter\"},{\"marker\":{\"maxdisplayed\":10},\"mode\":\"lines+markers\",\"name\":\"Trial20\",\"x\":[5000],\"y\":[29.9251766204834],\"type\":\"scatter\"},{\"marker\":{\"maxdisplayed\":10},\"mode\":\"lines+markers\",\"name\":\"Trial21\",\"x\":[5000],\"y\":[30.004671096801758],\"type\":\"scatter\"},{\"marker\":{\"maxdisplayed\":10},\"mode\":\"lines+markers\",\"name\":\"Trial22\",\"x\":[5000],\"y\":[29.944639205932617],\"type\":\"scatter\"},{\"marker\":{\"maxdisplayed\":10},\"mode\":\"lines+markers\",\"name\":\"Trial23\",\"x\":[5000],\"y\":[29.929834365844727],\"type\":\"scatter\"},{\"marker\":{\"maxdisplayed\":10},\"mode\":\"lines+markers\",\"name\":\"Trial24\",\"x\":[5000,10000,15000,20000,25000,30000,35000,40000,45000,50000,55000,60000,65000,70000,75000,80000,85000,90000,95000,100000,105000,110000,115000,120000,125000,130000,135000,140000,145000,150000,155000,160000,165000,170000,175000,180000,185000,190000,195000,200000,205000,210000,215000,220000,225000,230000,235000,240000,245000,250000,255000,260000,265000,270000,275000,280000,285000,290000,295000,300000,305000,310000,315000,320000,325000,330000,335000,340000,345000,350000,355000,360000,365000,370000,375000,380000,385000,390000,395000,400000,405000,410000,415000,420000,425000,430000,435000,440000,445000,450000,455000,460000,465000,470000,475000,480000,485000,490000,495000,500000],\"y\":[30.802061080932617,29.96762466430664,29.34942626953125,31.520606994628906,30.407316207885742,30.664506912231445,31.66535186767578,30.187206268310547,30.665361404418945,30.951072692871094,31.81512451171875,30.328838348388672,30.39227294921875,29.992725372314453,31.046123504638672,31.6680965423584,29.910192489624023,30.45331382751465,30.51384925842285,29.738370895385742,30.428422927856445,30.928049087524414,31.605695724487305,30.739501953125,30.23233413696289,31.46428680419922,30.46044158935547,30.346820831298828,30.094507217407227,30.924814224243164,30.93890953063965,30.475553512573242,30.64374542236328,30.37993621826172,30.69098472595215,30.360239028930664,30.63943862915039,30.25560760498047,29.879867553710938,30.330032348632812,31.571725845336914,30.945810317993164,31.64868927001953,31.031373977661133,30.268476486206055,29.9249210357666,30.380329132080078,29.701894760131836,29.918109893798828,30.11571502685547,31.182754516601562,30.773473739624023,31.940298080444336,30.592668533325195,30.15399932861328,29.774126052856445,31.534536361694336,30.3271484375,31.641986846923828,30.894880294799805,30.231801986694336,30.304460525512695,30.436830520629883,30.820667266845703,29.691688537597656,30.281696319580078,31.340862274169922,30.484054565429688,30.313772201538086,29.59381103515625,30.323993682861328,30.350875854492188,29.510847091674805,31.406824111938477,32.19908905029297,31.02716827392578,31.18108558654785,30.545442581176758,30.564199447631836,31.448060989379883,30.744504928588867,29.96916961669922,29.508190155029297,31.052818298339844,30.52609634399414,30.305509567260742,29.91409683227539,30.1439208984375,31.11239242553711,31.165119171142578,29.96306610107422,31.067373275756836,31.1862735748291,30.24689292907715,31.003406524658203,31.13445472717285,31.012056350708008,31.148052215576172,30.933061599731445,30.073820114135742],\"type\":\"scatter\"},{\"marker\":{\"maxdisplayed\":10},\"mode\":\"lines+markers\",\"name\":\"Trial25\",\"x\":[5000],\"y\":[30.652748107910156],\"type\":\"scatter\"},{\"marker\":{\"maxdisplayed\":10},\"mode\":\"lines+markers\",\"name\":\"Trial26\",\"x\":[5000,10000,15000,20000,25000,30000,35000,40000,45000,50000,55000,60000,65000,70000,75000,80000,85000,90000,95000,100000,105000,110000,115000,120000,125000,130000,135000,140000,145000,150000,155000,160000,165000,170000,175000,180000,185000,190000,195000,200000,205000,210000,215000,220000,225000,230000,235000,240000,245000,250000,255000,260000,265000,270000,275000,280000,285000,290000,295000,300000,305000,310000,315000,320000,325000,330000,335000,340000,345000,350000,355000,360000,365000,370000,375000,380000,385000,390000,395000,400000,405000,410000,415000,420000,425000,430000,435000,440000,445000,450000,455000,460000,465000,470000,475000,480000,485000,490000,495000,500000],\"y\":[31.39983367919922,30.52141761779785,29.719167709350586,29.208354949951172,30.313581466674805,30.727256774902344,30.807565689086914,30.368257522583008,31.43236541748047,30.492172241210938,30.7640380859375,30.35381317138672,30.315942764282227,30.993385314941406,30.185739517211914,29.3614444732666,31.301374435424805,30.16506576538086,30.38143539428711,29.939481735229492,30.280433654785156,29.722492218017578,31.40201187133789,30.885046005249023,30.731172561645508,30.96556854248047,29.477439880371094,31.626392364501953,30.169309616088867,31.269235610961914,30.668298721313477,30.225181579589844,30.550683975219727,29.741348266601562,30.421247482299805,30.047191619873047,30.197153091430664,30.273170471191406,31.070911407470703,30.562278747558594,30.60199737548828,30.02548599243164,30.4538631439209,30.238134384155273,29.845809936523438,29.393596649169922,32.11140441894531,31.423261642456055,30.587080001831055,30.551979064941406,30.771160125732422,29.553682327270508,29.875205993652344,31.00823211669922,30.831809997558594,32.20465850830078,30.139028549194336,31.054492950439453,30.649045944213867,29.635604858398438,30.82361602783203,30.492176055908203,31.216035842895508,30.457719802856445,30.978456497192383,30.571151733398438,30.939367294311523,30.86408233642578,30.91299057006836,29.844789505004883,31.515710830688477,29.693178176879883,30.025362014770508,31.032899856567383,30.784528732299805,30.424253463745117,30.35077667236328,31.12212562561035,30.32177734375,31.469160079956055,30.036361694335938,30.257484436035156,30.658336639404297,30.881792068481445,30.87108612060547,31.044950485229492,29.4512882232666,30.15741729736328,32.039180755615234,30.92882537841797,30.951475143432617,30.225671768188477,30.563152313232422,30.891969680786133,30.294239044189453,29.9493408203125,30.880624771118164,29.56222152709961,31.011499404907227,30.522750854492188],\"type\":\"scatter\"},{\"marker\":{\"maxdisplayed\":10},\"mode\":\"lines+markers\",\"name\":\"Trial27\",\"x\":[5000],\"y\":[29.5589656829834],\"type\":\"scatter\"},{\"marker\":{\"maxdisplayed\":10},\"mode\":\"lines+markers\",\"name\":\"Trial28\",\"x\":[5000,10000,15000,20000,25000,30000,35000,40000,45000,50000,55000,60000,65000,70000,75000,80000,85000,90000,95000,100000,105000,110000,115000,120000,125000,130000,135000,140000,145000,150000,155000,160000,165000,170000,175000,180000,185000,190000,195000,200000,205000,210000,215000,220000,225000,230000,235000,240000,245000,250000,255000,260000,265000,270000,275000,280000,285000,290000,295000,300000,305000,310000,315000,320000,325000,330000,335000,340000,345000,350000,355000,360000,365000,370000,375000,380000,385000,390000,395000,400000,405000,410000,415000,420000,425000,430000,435000,440000,445000,450000,455000,460000,465000,470000,475000,480000,485000,490000,495000,500000],\"y\":[31.806926727294922,30.603849411010742,30.252107620239258,29.710607528686523,30.70752716064453,30.229284286499023,29.91802978515625,29.392601013183594,30.430709838867188,29.958436965942383,30.589567184448242,30.793428421020508,30.33068084716797,30.635339736938477,29.5612850189209,30.19244384765625,30.267812728881836,31.243972778320312,30.194337844848633,31.238187789916992,30.14950180053711,30.212411880493164,31.1411075592041,31.448686599731445,30.366701126098633,30.99854278564453,30.210681915283203,30.227380752563477,30.316940307617188,31.844228744506836,30.849742889404297,30.264934539794922,30.460493087768555,30.48846435546875,30.159399032592773,30.127342224121094,30.563232421875,30.321205139160156,30.225149154663086,30.981731414794922,29.732372283935547,31.252635955810547,31.189741134643555,30.947555541992188,30.796648025512695,31.618864059448242,30.532974243164062,31.14397430419922,30.317556381225586,29.836942672729492,31.090314865112305,31.642532348632812,30.639699935913086,30.644481658935547,31.689132690429688,30.387123107910156,30.299535751342773,30.92681884765625,31.958890914916992,30.055112838745117,30.328279495239258,30.103105545043945,30.48504638671875,30.246694564819336,30.76380157470703,30.651147842407227,30.951112747192383,31.09103012084961,30.18343734741211,30.37657928466797,30.581220626831055,30.886701583862305,30.158510208129883,31.06888198852539,30.303516387939453,30.165822982788086,30.055795669555664,30.97967529296875,29.968107223510742,30.53695297241211,31.09020233154297,30.167509078979492,31.390676498413086,31.26156234741211,31.346092224121094,31.171262741088867,31.021739959716797,30.999509811401367,30.240602493286133,31.031171798706055,30.753463745117188,30.85295867919922,30.44463539123535,31.455402374267578,30.329425811767578,30.674901962280273,30.135622024536133,29.89373207092285,29.88497543334961,30.962665557861328],\"type\":\"scatter\"},{\"marker\":{\"maxdisplayed\":10},\"mode\":\"lines+markers\",\"name\":\"Trial29\",\"x\":[5000],\"y\":[29.446022033691406],\"type\":\"scatter\"},{\"marker\":{\"maxdisplayed\":10},\"mode\":\"lines+markers\",\"name\":\"Trial30\",\"x\":[5000],\"y\":[30.544998168945312],\"type\":\"scatter\"},{\"marker\":{\"maxdisplayed\":10},\"mode\":\"lines+markers\",\"name\":\"Trial31\",\"x\":[5000],\"y\":[29.4541072845459],\"type\":\"scatter\"}],                        {\"showlegend\":false,\"title\":{\"text\":\"Intermediate Values Plot\"},\"xaxis\":{\"title\":{\"text\":\"Step\"}},\"yaxis\":{\"title\":{\"text\":\"Intermediate Value\"}},\"template\":{\"data\":{\"histogram2dcontour\":[{\"type\":\"histogram2dcontour\",\"colorbar\":{\"outlinewidth\":0,\"ticks\":\"\"},\"colorscale\":[[0.0,\"#0d0887\"],[0.1111111111111111,\"#46039f\"],[0.2222222222222222,\"#7201a8\"],[0.3333333333333333,\"#9c179e\"],[0.4444444444444444,\"#bd3786\"],[0.5555555555555556,\"#d8576b\"],[0.6666666666666666,\"#ed7953\"],[0.7777777777777778,\"#fb9f3a\"],[0.8888888888888888,\"#fdca26\"],[1.0,\"#f0f921\"]]}],\"choropleth\":[{\"type\":\"choropleth\",\"colorbar\":{\"outlinewidth\":0,\"ticks\":\"\"}}],\"histogram2d\":[{\"type\":\"histogram2d\",\"colorbar\":{\"outlinewidth\":0,\"ticks\":\"\"},\"colorscale\":[[0.0,\"#0d0887\"],[0.1111111111111111,\"#46039f\"],[0.2222222222222222,\"#7201a8\"],[0.3333333333333333,\"#9c179e\"],[0.4444444444444444,\"#bd3786\"],[0.5555555555555556,\"#d8576b\"],[0.6666666666666666,\"#ed7953\"],[0.7777777777777778,\"#fb9f3a\"],[0.8888888888888888,\"#fdca26\"],[1.0,\"#f0f921\"]]}],\"heatmap\":[{\"type\":\"heatmap\",\"colorbar\":{\"outlinewidth\":0,\"ticks\":\"\"},\"colorscale\":[[0.0,\"#0d0887\"],[0.1111111111111111,\"#46039f\"],[0.2222222222222222,\"#7201a8\"],[0.3333333333333333,\"#9c179e\"],[0.4444444444444444,\"#bd3786\"],[0.5555555555555556,\"#d8576b\"],[0.6666666666666666,\"#ed7953\"],[0.7777777777777778,\"#fb9f3a\"],[0.8888888888888888,\"#fdca26\"],[1.0,\"#f0f921\"]]}],\"heatmapgl\":[{\"type\":\"heatmapgl\",\"colorbar\":{\"outlinewidth\":0,\"ticks\":\"\"},\"colorscale\":[[0.0,\"#0d0887\"],[0.1111111111111111,\"#46039f\"],[0.2222222222222222,\"#7201a8\"],[0.3333333333333333,\"#9c179e\"],[0.4444444444444444,\"#bd3786\"],[0.5555555555555556,\"#d8576b\"],[0.6666666666666666,\"#ed7953\"],[0.7777777777777778,\"#fb9f3a\"],[0.8888888888888888,\"#fdca26\"],[1.0,\"#f0f921\"]]}],\"contourcarpet\":[{\"type\":\"contourcarpet\",\"colorbar\":{\"outlinewidth\":0,\"ticks\":\"\"}}],\"contour\":[{\"type\":\"contour\",\"colorbar\":{\"outlinewidth\":0,\"ticks\":\"\"},\"colorscale\":[[0.0,\"#0d0887\"],[0.1111111111111111,\"#46039f\"],[0.2222222222222222,\"#7201a8\"],[0.3333333333333333,\"#9c179e\"],[0.4444444444444444,\"#bd3786\"],[0.5555555555555556,\"#d8576b\"],[0.6666666666666666,\"#ed7953\"],[0.7777777777777778,\"#fb9f3a\"],[0.8888888888888888,\"#fdca26\"],[1.0,\"#f0f921\"]]}],\"surface\":[{\"type\":\"surface\",\"colorbar\":{\"outlinewidth\":0,\"ticks\":\"\"},\"colorscale\":[[0.0,\"#0d0887\"],[0.1111111111111111,\"#46039f\"],[0.2222222222222222,\"#7201a8\"],[0.3333333333333333,\"#9c179e\"],[0.4444444444444444,\"#bd3786\"],[0.5555555555555556,\"#d8576b\"],[0.6666666666666666,\"#ed7953\"],[0.7777777777777778,\"#fb9f3a\"],[0.8888888888888888,\"#fdca26\"],[1.0,\"#f0f921\"]]}],\"mesh3d\":[{\"type\":\"mesh3d\",\"colorbar\":{\"outlinewidth\":0,\"ticks\":\"\"}}],\"scatter\":[{\"fillpattern\":{\"fillmode\":\"overlay\",\"size\":10,\"solidity\":0.2},\"type\":\"scatter\"}],\"parcoords\":[{\"type\":\"parcoords\",\"line\":{\"colorbar\":{\"outlinewidth\":0,\"ticks\":\"\"}}}],\"scatterpolargl\":[{\"type\":\"scatterpolargl\",\"marker\":{\"colorbar\":{\"outlinewidth\":0,\"ticks\":\"\"}}}],\"bar\":[{\"error_x\":{\"color\":\"#2a3f5f\"},\"error_y\":{\"color\":\"#2a3f5f\"},\"marker\":{\"line\":{\"color\":\"#E5ECF6\",\"width\":0.5},\"pattern\":{\"fillmode\":\"overlay\",\"size\":10,\"solidity\":0.2}},\"type\":\"bar\"}],\"scattergeo\":[{\"type\":\"scattergeo\",\"marker\":{\"colorbar\":{\"outlinewidth\":0,\"ticks\":\"\"}}}],\"scatterpolar\":[{\"type\":\"scatterpolar\",\"marker\":{\"colorbar\":{\"outlinewidth\":0,\"ticks\":\"\"}}}],\"histogram\":[{\"marker\":{\"pattern\":{\"fillmode\":\"overlay\",\"size\":10,\"solidity\":0.2}},\"type\":\"histogram\"}],\"scattergl\":[{\"type\":\"scattergl\",\"marker\":{\"colorbar\":{\"outlinewidth\":0,\"ticks\":\"\"}}}],\"scatter3d\":[{\"type\":\"scatter3d\",\"line\":{\"colorbar\":{\"outlinewidth\":0,\"ticks\":\"\"}},\"marker\":{\"colorbar\":{\"outlinewidth\":0,\"ticks\":\"\"}}}],\"scattermapbox\":[{\"type\":\"scattermapbox\",\"marker\":{\"colorbar\":{\"outlinewidth\":0,\"ticks\":\"\"}}}],\"scatterternary\":[{\"type\":\"scatterternary\",\"marker\":{\"colorbar\":{\"outlinewidth\":0,\"ticks\":\"\"}}}],\"scattercarpet\":[{\"type\":\"scattercarpet\",\"marker\":{\"colorbar\":{\"outlinewidth\":0,\"ticks\":\"\"}}}],\"carpet\":[{\"aaxis\":{\"endlinecolor\":\"#2a3f5f\",\"gridcolor\":\"white\",\"linecolor\":\"white\",\"minorgridcolor\":\"white\",\"startlinecolor\":\"#2a3f5f\"},\"baxis\":{\"endlinecolor\":\"#2a3f5f\",\"gridcolor\":\"white\",\"linecolor\":\"white\",\"minorgridcolor\":\"white\",\"startlinecolor\":\"#2a3f5f\"},\"type\":\"carpet\"}],\"table\":[{\"cells\":{\"fill\":{\"color\":\"#EBF0F8\"},\"line\":{\"color\":\"white\"}},\"header\":{\"fill\":{\"color\":\"#C8D4E3\"},\"line\":{\"color\":\"white\"}},\"type\":\"table\"}],\"barpolar\":[{\"marker\":{\"line\":{\"color\":\"#E5ECF6\",\"width\":0.5},\"pattern\":{\"fillmode\":\"overlay\",\"size\":10,\"solidity\":0.2}},\"type\":\"barpolar\"}],\"pie\":[{\"automargin\":true,\"type\":\"pie\"}]},\"layout\":{\"autotypenumbers\":\"strict\",\"colorway\":[\"#636efa\",\"#EF553B\",\"#00cc96\",\"#ab63fa\",\"#FFA15A\",\"#19d3f3\",\"#FF6692\",\"#B6E880\",\"#FF97FF\",\"#FECB52\"],\"font\":{\"color\":\"#2a3f5f\"},\"hovermode\":\"closest\",\"hoverlabel\":{\"align\":\"left\"},\"paper_bgcolor\":\"white\",\"plot_bgcolor\":\"#E5ECF6\",\"polar\":{\"bgcolor\":\"#E5ECF6\",\"angularaxis\":{\"gridcolor\":\"white\",\"linecolor\":\"white\",\"ticks\":\"\"},\"radialaxis\":{\"gridcolor\":\"white\",\"linecolor\":\"white\",\"ticks\":\"\"}},\"ternary\":{\"bgcolor\":\"#E5ECF6\",\"aaxis\":{\"gridcolor\":\"white\",\"linecolor\":\"white\",\"ticks\":\"\"},\"baxis\":{\"gridcolor\":\"white\",\"linecolor\":\"white\",\"ticks\":\"\"},\"caxis\":{\"gridcolor\":\"white\",\"linecolor\":\"white\",\"ticks\":\"\"}},\"coloraxis\":{\"colorbar\":{\"outlinewidth\":0,\"ticks\":\"\"}},\"colorscale\":{\"sequential\":[[0.0,\"#0d0887\"],[0.1111111111111111,\"#46039f\"],[0.2222222222222222,\"#7201a8\"],[0.3333333333333333,\"#9c179e\"],[0.4444444444444444,\"#bd3786\"],[0.5555555555555556,\"#d8576b\"],[0.6666666666666666,\"#ed7953\"],[0.7777777777777778,\"#fb9f3a\"],[0.8888888888888888,\"#fdca26\"],[1.0,\"#f0f921\"]],\"sequentialminus\":[[0.0,\"#0d0887\"],[0.1111111111111111,\"#46039f\"],[0.2222222222222222,\"#7201a8\"],[0.3333333333333333,\"#9c179e\"],[0.4444444444444444,\"#bd3786\"],[0.5555555555555556,\"#d8576b\"],[0.6666666666666666,\"#ed7953\"],[0.7777777777777778,\"#fb9f3a\"],[0.8888888888888888,\"#fdca26\"],[1.0,\"#f0f921\"]],\"diverging\":[[0,\"#8e0152\"],[0.1,\"#c51b7d\"],[0.2,\"#de77ae\"],[0.3,\"#f1b6da\"],[0.4,\"#fde0ef\"],[0.5,\"#f7f7f7\"],[0.6,\"#e6f5d0\"],[0.7,\"#b8e186\"],[0.8,\"#7fbc41\"],[0.9,\"#4d9221\"],[1,\"#276419\"]]},\"xaxis\":{\"gridcolor\":\"white\",\"linecolor\":\"white\",\"ticks\":\"\",\"title\":{\"standoff\":15},\"zerolinecolor\":\"white\",\"automargin\":true,\"zerolinewidth\":2},\"yaxis\":{\"gridcolor\":\"white\",\"linecolor\":\"white\",\"ticks\":\"\",\"title\":{\"standoff\":15},\"zerolinecolor\":\"white\",\"automargin\":true,\"zerolinewidth\":2},\"scene\":{\"xaxis\":{\"backgroundcolor\":\"#E5ECF6\",\"gridcolor\":\"white\",\"linecolor\":\"white\",\"showbackground\":true,\"ticks\":\"\",\"zerolinecolor\":\"white\",\"gridwidth\":2},\"yaxis\":{\"backgroundcolor\":\"#E5ECF6\",\"gridcolor\":\"white\",\"linecolor\":\"white\",\"showbackground\":true,\"ticks\":\"\",\"zerolinecolor\":\"white\",\"gridwidth\":2},\"zaxis\":{\"backgroundcolor\":\"#E5ECF6\",\"gridcolor\":\"white\",\"linecolor\":\"white\",\"showbackground\":true,\"ticks\":\"\",\"zerolinecolor\":\"white\",\"gridwidth\":2}},\"shapedefaults\":{\"line\":{\"color\":\"#2a3f5f\"}},\"annotationdefaults\":{\"arrowcolor\":\"#2a3f5f\",\"arrowhead\":0,\"arrowwidth\":1},\"geo\":{\"bgcolor\":\"white\",\"landcolor\":\"#E5ECF6\",\"subunitcolor\":\"white\",\"showland\":true,\"showlakes\":true,\"lakecolor\":\"white\"},\"title\":{\"x\":0.05},\"mapbox\":{\"style\":\"light\"}}}},                        {\"responsive\": true}                    ).then(function(){\n",
       "                            \n",
       "var gd = document.getElementById('5deb6207-6e70-48e3-ada3-b18224756bb0');\n",
       "var x = new MutationObserver(function (mutations, observer) {{\n",
       "        var display = window.getComputedStyle(gd).display;\n",
       "        if (!display || display === 'none') {{\n",
       "            console.log([gd, 'removed!']);\n",
       "            Plotly.purge(gd);\n",
       "            observer.disconnect();\n",
       "        }}\n",
       "}});\n",
       "\n",
       "// Listen for the removal of the full notebook cells\n",
       "var notebookContainer = gd.closest('#notebook-container');\n",
       "if (notebookContainer) {{\n",
       "    x.observe(notebookContainer, {childList: true});\n",
       "}}\n",
       "\n",
       "// Listen for the clearing of the current output cell\n",
       "var outputEl = gd.closest('.output');\n",
       "if (outputEl) {{\n",
       "    x.observe(outputEl, {childList: true});\n",
       "}}\n",
       "\n",
       "                        })                };                });            </script>        </div>"
      ]
     },
     "metadata": {},
     "output_type": "display_data"
    }
   ],
   "source": [
    "fig = optuna.visualization.plot_intermediate_values(study)\n",
    "fig.show()"
   ]
  },
  {
   "cell_type": "code",
   "execution_count": 11,
   "id": "100700a8",
   "metadata": {
    "ExecuteTime": {
     "end_time": "2022-10-07T09:08:02.716726Z",
     "start_time": "2022-10-07T09:08:02.707198Z"
    },
    "scrolled": false
   },
   "outputs": [
    {
     "data": {
      "text/html": [
       "<div>\n",
       "<style scoped>\n",
       "    .dataframe tbody tr th:only-of-type {\n",
       "        vertical-align: middle;\n",
       "    }\n",
       "\n",
       "    .dataframe tbody tr th {\n",
       "        vertical-align: top;\n",
       "    }\n",
       "\n",
       "    .dataframe thead th {\n",
       "        text-align: right;\n",
       "    }\n",
       "</style>\n",
       "<table border=\"1\" class=\"dataframe\">\n",
       "  <thead>\n",
       "    <tr style=\"text-align: right;\">\n",
       "      <th></th>\n",
       "      <th>number</th>\n",
       "      <th>value</th>\n",
       "      <th>datetime_start</th>\n",
       "      <th>datetime_complete</th>\n",
       "      <th>duration</th>\n",
       "      <th>params_FEAT_WEIGHT</th>\n",
       "      <th>params_LAMBDA</th>\n",
       "      <th>params_LR</th>\n",
       "      <th>params_TASK_WEIGHT</th>\n",
       "      <th>state</th>\n",
       "    </tr>\n",
       "  </thead>\n",
       "  <tbody>\n",
       "    <tr>\n",
       "      <th>0</th>\n",
       "      <td>0</td>\n",
       "      <td>32.386147</td>\n",
       "      <td>2022-10-05 10:58:15.802481</td>\n",
       "      <td>2022-10-05 13:18:04.994495</td>\n",
       "      <td>0 days 02:19:49.192014</td>\n",
       "      <td>1.00</td>\n",
       "      <td>0.25</td>\n",
       "      <td>0.00010</td>\n",
       "      <td>1.00</td>\n",
       "      <td>COMPLETE</td>\n",
       "    </tr>\n",
       "    <tr>\n",
       "      <th>1</th>\n",
       "      <td>1</td>\n",
       "      <td>32.280556</td>\n",
       "      <td>2022-10-05 13:18:04.996032</td>\n",
       "      <td>2022-10-05 15:57:02.205717</td>\n",
       "      <td>0 days 02:38:57.209685</td>\n",
       "      <td>10.00</td>\n",
       "      <td>0.25</td>\n",
       "      <td>0.00010</td>\n",
       "      <td>10.00</td>\n",
       "      <td>COMPLETE</td>\n",
       "    </tr>\n",
       "    <tr>\n",
       "      <th>2</th>\n",
       "      <td>2</td>\n",
       "      <td>31.575323</td>\n",
       "      <td>2022-10-05 15:57:02.207259</td>\n",
       "      <td>2022-10-05 18:35:43.868370</td>\n",
       "      <td>0 days 02:38:41.661111</td>\n",
       "      <td>10.00</td>\n",
       "      <td>0.10</td>\n",
       "      <td>0.00005</td>\n",
       "      <td>0.10</td>\n",
       "      <td>COMPLETE</td>\n",
       "    </tr>\n",
       "    <tr>\n",
       "      <th>3</th>\n",
       "      <td>3</td>\n",
       "      <td>32.159698</td>\n",
       "      <td>2022-10-05 18:35:43.894494</td>\n",
       "      <td>2022-10-05 21:14:29.692959</td>\n",
       "      <td>0 days 02:38:45.798465</td>\n",
       "      <td>0.01</td>\n",
       "      <td>0.25</td>\n",
       "      <td>0.00005</td>\n",
       "      <td>10.00</td>\n",
       "      <td>COMPLETE</td>\n",
       "    </tr>\n",
       "    <tr>\n",
       "      <th>4</th>\n",
       "      <td>4</td>\n",
       "      <td>32.235893</td>\n",
       "      <td>2022-10-05 21:14:29.715347</td>\n",
       "      <td>2022-10-05 23:52:14.860485</td>\n",
       "      <td>0 days 02:37:45.145138</td>\n",
       "      <td>0.01</td>\n",
       "      <td>0.10</td>\n",
       "      <td>0.00005</td>\n",
       "      <td>0.01</td>\n",
       "      <td>COMPLETE</td>\n",
       "    </tr>\n",
       "    <tr>\n",
       "      <th>5</th>\n",
       "      <td>5</td>\n",
       "      <td>29.668396</td>\n",
       "      <td>2022-10-05 23:52:14.862658</td>\n",
       "      <td>2022-10-05 23:53:52.181705</td>\n",
       "      <td>0 days 00:01:37.319047</td>\n",
       "      <td>0.10</td>\n",
       "      <td>0.25</td>\n",
       "      <td>0.00005</td>\n",
       "      <td>1.00</td>\n",
       "      <td>PRUNED</td>\n",
       "    </tr>\n",
       "    <tr>\n",
       "      <th>6</th>\n",
       "      <td>6</td>\n",
       "      <td>32.535877</td>\n",
       "      <td>2022-10-05 23:53:52.191298</td>\n",
       "      <td>2022-10-06 02:32:38.072358</td>\n",
       "      <td>0 days 02:38:45.881060</td>\n",
       "      <td>0.10</td>\n",
       "      <td>0.10</td>\n",
       "      <td>0.00010</td>\n",
       "      <td>0.01</td>\n",
       "      <td>COMPLETE</td>\n",
       "    </tr>\n",
       "    <tr>\n",
       "      <th>7</th>\n",
       "      <td>7</td>\n",
       "      <td>31.906183</td>\n",
       "      <td>2022-10-06 02:32:38.074750</td>\n",
       "      <td>2022-10-06 05:11:15.106937</td>\n",
       "      <td>0 days 02:38:37.032187</td>\n",
       "      <td>1.00</td>\n",
       "      <td>0.25</td>\n",
       "      <td>0.00005</td>\n",
       "      <td>1.00</td>\n",
       "      <td>COMPLETE</td>\n",
       "    </tr>\n",
       "    <tr>\n",
       "      <th>8</th>\n",
       "      <td>8</td>\n",
       "      <td>32.043491</td>\n",
       "      <td>2022-10-06 05:11:15.109717</td>\n",
       "      <td>2022-10-06 07:50:13.689903</td>\n",
       "      <td>0 days 02:38:58.580186</td>\n",
       "      <td>10.00</td>\n",
       "      <td>0.10</td>\n",
       "      <td>0.00010</td>\n",
       "      <td>1.00</td>\n",
       "      <td>COMPLETE</td>\n",
       "    </tr>\n",
       "    <tr>\n",
       "      <th>9</th>\n",
       "      <td>9</td>\n",
       "      <td>30.061878</td>\n",
       "      <td>2022-10-06 07:50:13.692925</td>\n",
       "      <td>2022-10-06 07:51:50.692165</td>\n",
       "      <td>0 days 00:01:36.999240</td>\n",
       "      <td>1.00</td>\n",
       "      <td>0.25</td>\n",
       "      <td>0.00005</td>\n",
       "      <td>10.00</td>\n",
       "      <td>PRUNED</td>\n",
       "    </tr>\n",
       "    <tr>\n",
       "      <th>10</th>\n",
       "      <td>10</td>\n",
       "      <td>32.108727</td>\n",
       "      <td>2022-10-06 07:51:50.696321</td>\n",
       "      <td>2022-10-06 10:30:45.255083</td>\n",
       "      <td>0 days 02:38:54.558762</td>\n",
       "      <td>0.10</td>\n",
       "      <td>0.10</td>\n",
       "      <td>0.00010</td>\n",
       "      <td>0.01</td>\n",
       "      <td>COMPLETE</td>\n",
       "    </tr>\n",
       "    <tr>\n",
       "      <th>11</th>\n",
       "      <td>11</td>\n",
       "      <td>30.048157</td>\n",
       "      <td>2022-10-06 10:30:45.258354</td>\n",
       "      <td>2022-10-06 10:32:23.089247</td>\n",
       "      <td>0 days 00:01:37.830893</td>\n",
       "      <td>0.10</td>\n",
       "      <td>0.10</td>\n",
       "      <td>0.00010</td>\n",
       "      <td>0.01</td>\n",
       "      <td>PRUNED</td>\n",
       "    </tr>\n",
       "    <tr>\n",
       "      <th>12</th>\n",
       "      <td>12</td>\n",
       "      <td>30.147903</td>\n",
       "      <td>2022-10-06 10:32:23.095056</td>\n",
       "      <td>2022-10-06 10:34:02.117386</td>\n",
       "      <td>0 days 00:01:39.022330</td>\n",
       "      <td>1.00</td>\n",
       "      <td>0.25</td>\n",
       "      <td>0.00010</td>\n",
       "      <td>0.10</td>\n",
       "      <td>PRUNED</td>\n",
       "    </tr>\n",
       "    <tr>\n",
       "      <th>13</th>\n",
       "      <td>13</td>\n",
       "      <td>32.460186</td>\n",
       "      <td>2022-10-06 10:34:02.121418</td>\n",
       "      <td>2022-10-06 13:12:11.004390</td>\n",
       "      <td>0 days 02:38:08.882972</td>\n",
       "      <td>0.10</td>\n",
       "      <td>0.10</td>\n",
       "      <td>0.00010</td>\n",
       "      <td>0.01</td>\n",
       "      <td>COMPLETE</td>\n",
       "    </tr>\n",
       "    <tr>\n",
       "      <th>14</th>\n",
       "      <td>14</td>\n",
       "      <td>29.307318</td>\n",
       "      <td>2022-10-06 13:12:11.008098</td>\n",
       "      <td>2022-10-06 13:13:47.859042</td>\n",
       "      <td>0 days 00:01:36.850944</td>\n",
       "      <td>0.10</td>\n",
       "      <td>0.10</td>\n",
       "      <td>0.00010</td>\n",
       "      <td>0.01</td>\n",
       "      <td>PRUNED</td>\n",
       "    </tr>\n",
       "    <tr>\n",
       "      <th>15</th>\n",
       "      <td>15</td>\n",
       "      <td>30.614012</td>\n",
       "      <td>2022-10-06 13:13:47.865191</td>\n",
       "      <td>2022-10-06 13:15:25.369677</td>\n",
       "      <td>0 days 00:01:37.504486</td>\n",
       "      <td>0.10</td>\n",
       "      <td>0.10</td>\n",
       "      <td>0.00010</td>\n",
       "      <td>0.01</td>\n",
       "      <td>PRUNED</td>\n",
       "    </tr>\n",
       "    <tr>\n",
       "      <th>16</th>\n",
       "      <td>16</td>\n",
       "      <td>30.207630</td>\n",
       "      <td>2022-10-06 13:15:25.376865</td>\n",
       "      <td>2022-10-06 13:23:23.624403</td>\n",
       "      <td>0 days 00:07:58.247538</td>\n",
       "      <td>0.10</td>\n",
       "      <td>0.10</td>\n",
       "      <td>0.00010</td>\n",
       "      <td>0.01</td>\n",
       "      <td>PRUNED</td>\n",
       "    </tr>\n",
       "    <tr>\n",
       "      <th>17</th>\n",
       "      <td>17</td>\n",
       "      <td>29.672722</td>\n",
       "      <td>2022-10-06 13:23:23.630787</td>\n",
       "      <td>2022-10-06 13:24:59.974437</td>\n",
       "      <td>0 days 00:01:36.343650</td>\n",
       "      <td>0.10</td>\n",
       "      <td>0.10</td>\n",
       "      <td>0.00010</td>\n",
       "      <td>0.01</td>\n",
       "      <td>PRUNED</td>\n",
       "    </tr>\n",
       "    <tr>\n",
       "      <th>18</th>\n",
       "      <td>18</td>\n",
       "      <td>30.076538</td>\n",
       "      <td>2022-10-06 13:24:59.981052</td>\n",
       "      <td>2022-10-06 13:26:37.130889</td>\n",
       "      <td>0 days 00:01:37.149837</td>\n",
       "      <td>0.10</td>\n",
       "      <td>0.10</td>\n",
       "      <td>0.00010</td>\n",
       "      <td>0.01</td>\n",
       "      <td>PRUNED</td>\n",
       "    </tr>\n",
       "    <tr>\n",
       "      <th>19</th>\n",
       "      <td>19</td>\n",
       "      <td>30.493723</td>\n",
       "      <td>2022-10-06 13:26:37.136288</td>\n",
       "      <td>2022-10-06 13:28:13.913089</td>\n",
       "      <td>0 days 00:01:36.776801</td>\n",
       "      <td>0.01</td>\n",
       "      <td>0.10</td>\n",
       "      <td>0.00010</td>\n",
       "      <td>0.10</td>\n",
       "      <td>PRUNED</td>\n",
       "    </tr>\n",
       "    <tr>\n",
       "      <th>20</th>\n",
       "      <td>20</td>\n",
       "      <td>29.925177</td>\n",
       "      <td>2022-10-06 13:28:13.919427</td>\n",
       "      <td>2022-10-06 13:29:51.722079</td>\n",
       "      <td>0 days 00:01:37.802652</td>\n",
       "      <td>0.10</td>\n",
       "      <td>0.10</td>\n",
       "      <td>0.00010</td>\n",
       "      <td>0.01</td>\n",
       "      <td>PRUNED</td>\n",
       "    </tr>\n",
       "    <tr>\n",
       "      <th>21</th>\n",
       "      <td>21</td>\n",
       "      <td>30.004671</td>\n",
       "      <td>2022-10-06 13:29:51.727348</td>\n",
       "      <td>2022-10-06 13:31:30.552259</td>\n",
       "      <td>0 days 00:01:38.824911</td>\n",
       "      <td>1.00</td>\n",
       "      <td>0.25</td>\n",
       "      <td>0.00010</td>\n",
       "      <td>1.00</td>\n",
       "      <td>PRUNED</td>\n",
       "    </tr>\n",
       "    <tr>\n",
       "      <th>22</th>\n",
       "      <td>22</td>\n",
       "      <td>29.944639</td>\n",
       "      <td>2022-10-06 13:31:30.565063</td>\n",
       "      <td>2022-10-06 13:33:07.613252</td>\n",
       "      <td>0 days 00:01:37.048189</td>\n",
       "      <td>1.00</td>\n",
       "      <td>0.25</td>\n",
       "      <td>0.00010</td>\n",
       "      <td>1.00</td>\n",
       "      <td>PRUNED</td>\n",
       "    </tr>\n",
       "    <tr>\n",
       "      <th>23</th>\n",
       "      <td>23</td>\n",
       "      <td>29.929834</td>\n",
       "      <td>2022-10-06 13:33:07.620367</td>\n",
       "      <td>2022-10-06 13:34:45.127197</td>\n",
       "      <td>0 days 00:01:37.506830</td>\n",
       "      <td>1.00</td>\n",
       "      <td>0.25</td>\n",
       "      <td>0.00010</td>\n",
       "      <td>1.00</td>\n",
       "      <td>PRUNED</td>\n",
       "    </tr>\n",
       "    <tr>\n",
       "      <th>24</th>\n",
       "      <td>24</td>\n",
       "      <td>32.199089</td>\n",
       "      <td>2022-10-06 13:34:45.134074</td>\n",
       "      <td>2022-10-06 16:12:58.549721</td>\n",
       "      <td>0 days 02:38:13.415647</td>\n",
       "      <td>0.10</td>\n",
       "      <td>0.10</td>\n",
       "      <td>0.00010</td>\n",
       "      <td>0.01</td>\n",
       "      <td>COMPLETE</td>\n",
       "    </tr>\n",
       "    <tr>\n",
       "      <th>25</th>\n",
       "      <td>25</td>\n",
       "      <td>30.652748</td>\n",
       "      <td>2022-10-06 16:12:58.555158</td>\n",
       "      <td>2022-10-06 16:14:37.525832</td>\n",
       "      <td>0 days 00:01:38.970674</td>\n",
       "      <td>1.00</td>\n",
       "      <td>0.10</td>\n",
       "      <td>0.00010</td>\n",
       "      <td>1.00</td>\n",
       "      <td>PRUNED</td>\n",
       "    </tr>\n",
       "    <tr>\n",
       "      <th>26</th>\n",
       "      <td>26</td>\n",
       "      <td>32.204659</td>\n",
       "      <td>2022-10-06 16:14:37.534136</td>\n",
       "      <td>2022-10-06 18:52:54.260597</td>\n",
       "      <td>0 days 02:38:16.726461</td>\n",
       "      <td>0.01</td>\n",
       "      <td>0.25</td>\n",
       "      <td>0.00010</td>\n",
       "      <td>0.10</td>\n",
       "      <td>COMPLETE</td>\n",
       "    </tr>\n",
       "    <tr>\n",
       "      <th>27</th>\n",
       "      <td>27</td>\n",
       "      <td>29.558966</td>\n",
       "      <td>2022-10-06 18:52:54.265757</td>\n",
       "      <td>2022-10-06 18:54:31.941703</td>\n",
       "      <td>0 days 00:01:37.675946</td>\n",
       "      <td>10.00</td>\n",
       "      <td>0.10</td>\n",
       "      <td>0.00010</td>\n",
       "      <td>10.00</td>\n",
       "      <td>PRUNED</td>\n",
       "    </tr>\n",
       "    <tr>\n",
       "      <th>28</th>\n",
       "      <td>28</td>\n",
       "      <td>31.958891</td>\n",
       "      <td>2022-10-06 18:54:31.949987</td>\n",
       "      <td>2022-10-06 21:33:36.985271</td>\n",
       "      <td>0 days 02:39:05.035284</td>\n",
       "      <td>0.10</td>\n",
       "      <td>0.25</td>\n",
       "      <td>0.00010</td>\n",
       "      <td>0.01</td>\n",
       "      <td>COMPLETE</td>\n",
       "    </tr>\n",
       "    <tr>\n",
       "      <th>29</th>\n",
       "      <td>29</td>\n",
       "      <td>29.446022</td>\n",
       "      <td>2022-10-06 21:33:36.990783</td>\n",
       "      <td>2022-10-06 21:35:14.143337</td>\n",
       "      <td>0 days 00:01:37.152554</td>\n",
       "      <td>10.00</td>\n",
       "      <td>0.25</td>\n",
       "      <td>0.00010</td>\n",
       "      <td>10.00</td>\n",
       "      <td>PRUNED</td>\n",
       "    </tr>\n",
       "    <tr>\n",
       "      <th>30</th>\n",
       "      <td>30</td>\n",
       "      <td>30.544998</td>\n",
       "      <td>2022-10-06 21:35:14.150654</td>\n",
       "      <td>2022-10-06 21:36:51.122717</td>\n",
       "      <td>0 days 00:01:36.972063</td>\n",
       "      <td>1.00</td>\n",
       "      <td>0.10</td>\n",
       "      <td>0.00010</td>\n",
       "      <td>1.00</td>\n",
       "      <td>PRUNED</td>\n",
       "    </tr>\n",
       "    <tr>\n",
       "      <th>31</th>\n",
       "      <td>31</td>\n",
       "      <td>29.454107</td>\n",
       "      <td>2022-10-06 21:36:51.131506</td>\n",
       "      <td>2022-10-06 21:38:27.503661</td>\n",
       "      <td>0 days 00:01:36.372155</td>\n",
       "      <td>10.00</td>\n",
       "      <td>0.25</td>\n",
       "      <td>0.00010</td>\n",
       "      <td>10.00</td>\n",
       "      <td>PRUNED</td>\n",
       "    </tr>\n",
       "  </tbody>\n",
       "</table>\n",
       "</div>"
      ],
      "text/plain": [
       "    number      value             datetime_start          datetime_complete  \\\n",
       "0        0  32.386147 2022-10-05 10:58:15.802481 2022-10-05 13:18:04.994495   \n",
       "1        1  32.280556 2022-10-05 13:18:04.996032 2022-10-05 15:57:02.205717   \n",
       "2        2  31.575323 2022-10-05 15:57:02.207259 2022-10-05 18:35:43.868370   \n",
       "3        3  32.159698 2022-10-05 18:35:43.894494 2022-10-05 21:14:29.692959   \n",
       "4        4  32.235893 2022-10-05 21:14:29.715347 2022-10-05 23:52:14.860485   \n",
       "5        5  29.668396 2022-10-05 23:52:14.862658 2022-10-05 23:53:52.181705   \n",
       "6        6  32.535877 2022-10-05 23:53:52.191298 2022-10-06 02:32:38.072358   \n",
       "7        7  31.906183 2022-10-06 02:32:38.074750 2022-10-06 05:11:15.106937   \n",
       "8        8  32.043491 2022-10-06 05:11:15.109717 2022-10-06 07:50:13.689903   \n",
       "9        9  30.061878 2022-10-06 07:50:13.692925 2022-10-06 07:51:50.692165   \n",
       "10      10  32.108727 2022-10-06 07:51:50.696321 2022-10-06 10:30:45.255083   \n",
       "11      11  30.048157 2022-10-06 10:30:45.258354 2022-10-06 10:32:23.089247   \n",
       "12      12  30.147903 2022-10-06 10:32:23.095056 2022-10-06 10:34:02.117386   \n",
       "13      13  32.460186 2022-10-06 10:34:02.121418 2022-10-06 13:12:11.004390   \n",
       "14      14  29.307318 2022-10-06 13:12:11.008098 2022-10-06 13:13:47.859042   \n",
       "15      15  30.614012 2022-10-06 13:13:47.865191 2022-10-06 13:15:25.369677   \n",
       "16      16  30.207630 2022-10-06 13:15:25.376865 2022-10-06 13:23:23.624403   \n",
       "17      17  29.672722 2022-10-06 13:23:23.630787 2022-10-06 13:24:59.974437   \n",
       "18      18  30.076538 2022-10-06 13:24:59.981052 2022-10-06 13:26:37.130889   \n",
       "19      19  30.493723 2022-10-06 13:26:37.136288 2022-10-06 13:28:13.913089   \n",
       "20      20  29.925177 2022-10-06 13:28:13.919427 2022-10-06 13:29:51.722079   \n",
       "21      21  30.004671 2022-10-06 13:29:51.727348 2022-10-06 13:31:30.552259   \n",
       "22      22  29.944639 2022-10-06 13:31:30.565063 2022-10-06 13:33:07.613252   \n",
       "23      23  29.929834 2022-10-06 13:33:07.620367 2022-10-06 13:34:45.127197   \n",
       "24      24  32.199089 2022-10-06 13:34:45.134074 2022-10-06 16:12:58.549721   \n",
       "25      25  30.652748 2022-10-06 16:12:58.555158 2022-10-06 16:14:37.525832   \n",
       "26      26  32.204659 2022-10-06 16:14:37.534136 2022-10-06 18:52:54.260597   \n",
       "27      27  29.558966 2022-10-06 18:52:54.265757 2022-10-06 18:54:31.941703   \n",
       "28      28  31.958891 2022-10-06 18:54:31.949987 2022-10-06 21:33:36.985271   \n",
       "29      29  29.446022 2022-10-06 21:33:36.990783 2022-10-06 21:35:14.143337   \n",
       "30      30  30.544998 2022-10-06 21:35:14.150654 2022-10-06 21:36:51.122717   \n",
       "31      31  29.454107 2022-10-06 21:36:51.131506 2022-10-06 21:38:27.503661   \n",
       "\n",
       "                 duration  params_FEAT_WEIGHT  params_LAMBDA  params_LR  \\\n",
       "0  0 days 02:19:49.192014                1.00           0.25    0.00010   \n",
       "1  0 days 02:38:57.209685               10.00           0.25    0.00010   \n",
       "2  0 days 02:38:41.661111               10.00           0.10    0.00005   \n",
       "3  0 days 02:38:45.798465                0.01           0.25    0.00005   \n",
       "4  0 days 02:37:45.145138                0.01           0.10    0.00005   \n",
       "5  0 days 00:01:37.319047                0.10           0.25    0.00005   \n",
       "6  0 days 02:38:45.881060                0.10           0.10    0.00010   \n",
       "7  0 days 02:38:37.032187                1.00           0.25    0.00005   \n",
       "8  0 days 02:38:58.580186               10.00           0.10    0.00010   \n",
       "9  0 days 00:01:36.999240                1.00           0.25    0.00005   \n",
       "10 0 days 02:38:54.558762                0.10           0.10    0.00010   \n",
       "11 0 days 00:01:37.830893                0.10           0.10    0.00010   \n",
       "12 0 days 00:01:39.022330                1.00           0.25    0.00010   \n",
       "13 0 days 02:38:08.882972                0.10           0.10    0.00010   \n",
       "14 0 days 00:01:36.850944                0.10           0.10    0.00010   \n",
       "15 0 days 00:01:37.504486                0.10           0.10    0.00010   \n",
       "16 0 days 00:07:58.247538                0.10           0.10    0.00010   \n",
       "17 0 days 00:01:36.343650                0.10           0.10    0.00010   \n",
       "18 0 days 00:01:37.149837                0.10           0.10    0.00010   \n",
       "19 0 days 00:01:36.776801                0.01           0.10    0.00010   \n",
       "20 0 days 00:01:37.802652                0.10           0.10    0.00010   \n",
       "21 0 days 00:01:38.824911                1.00           0.25    0.00010   \n",
       "22 0 days 00:01:37.048189                1.00           0.25    0.00010   \n",
       "23 0 days 00:01:37.506830                1.00           0.25    0.00010   \n",
       "24 0 days 02:38:13.415647                0.10           0.10    0.00010   \n",
       "25 0 days 00:01:38.970674                1.00           0.10    0.00010   \n",
       "26 0 days 02:38:16.726461                0.01           0.25    0.00010   \n",
       "27 0 days 00:01:37.675946               10.00           0.10    0.00010   \n",
       "28 0 days 02:39:05.035284                0.10           0.25    0.00010   \n",
       "29 0 days 00:01:37.152554               10.00           0.25    0.00010   \n",
       "30 0 days 00:01:36.972063                1.00           0.10    0.00010   \n",
       "31 0 days 00:01:36.372155               10.00           0.25    0.00010   \n",
       "\n",
       "    params_TASK_WEIGHT     state  \n",
       "0                 1.00  COMPLETE  \n",
       "1                10.00  COMPLETE  \n",
       "2                 0.10  COMPLETE  \n",
       "3                10.00  COMPLETE  \n",
       "4                 0.01  COMPLETE  \n",
       "5                 1.00    PRUNED  \n",
       "6                 0.01  COMPLETE  \n",
       "7                 1.00  COMPLETE  \n",
       "8                 1.00  COMPLETE  \n",
       "9                10.00    PRUNED  \n",
       "10                0.01  COMPLETE  \n",
       "11                0.01    PRUNED  \n",
       "12                0.10    PRUNED  \n",
       "13                0.01  COMPLETE  \n",
       "14                0.01    PRUNED  \n",
       "15                0.01    PRUNED  \n",
       "16                0.01    PRUNED  \n",
       "17                0.01    PRUNED  \n",
       "18                0.01    PRUNED  \n",
       "19                0.10    PRUNED  \n",
       "20                0.01    PRUNED  \n",
       "21                1.00    PRUNED  \n",
       "22                1.00    PRUNED  \n",
       "23                1.00    PRUNED  \n",
       "24                0.01  COMPLETE  \n",
       "25                1.00    PRUNED  \n",
       "26                0.10  COMPLETE  \n",
       "27               10.00    PRUNED  \n",
       "28                0.01  COMPLETE  \n",
       "29               10.00    PRUNED  \n",
       "30                1.00    PRUNED  \n",
       "31               10.00    PRUNED  "
      ]
     },
     "execution_count": 11,
     "metadata": {},
     "output_type": "execute_result"
    }
   ],
   "source": [
    "study.trials_dataframe()"
   ]
  },
  {
   "cell_type": "markdown",
   "id": "24326cf9",
   "metadata": {
    "heading_collapsed": true
   },
   "source": [
    "# Overall"
   ]
  },
  {
   "cell_type": "code",
   "execution_count": 2,
   "id": "7e87eae5",
   "metadata": {
    "ExecuteTime": {
     "end_time": "2022-07-18T08:40:45.292628Z",
     "start_time": "2022-07-18T08:40:45.263841Z"
    },
    "hidden": true
   },
   "outputs": [
    {
     "name": "stdout",
     "output_type": "stream",
     "text": [
      "Best trial until now:\n",
      " Value:  61.0\n",
      " Params: \n",
      "   learning_rate: 1e-06\n",
      "   lr_scheduler: const\n",
      "   activation: relu\n",
      "   batch_norm: False\n",
      "   w_loss: False\n",
      "   upsampling: transpose_conv\n",
      "   steps: 50000\n",
      "   alpha: 0.01\n",
      "   gp_weight: 1.0\n"
     ]
    }
   ],
   "source": [
    "study_all = joblib.load(\"grid_search/study_srgan_small_all.pkl\")\n",
    "print(\"Best trial until now:\")\n",
    "print(\" Value: \", study_all.best_trial.value)\n",
    "print(\" Params: \")\n",
    "for key, value in study_all.best_trial.params.items():\n",
    "    print(f\"   {key}: {value}\")\n",
    "    "
   ]
  },
  {
   "cell_type": "code",
   "execution_count": 46,
   "id": "c22fa2a4",
   "metadata": {
    "ExecuteTime": {
     "end_time": "2022-07-07T09:16:07.144413Z",
     "start_time": "2022-07-07T09:16:07.137851Z"
    },
    "hidden": true,
    "scrolled": true
   },
   "outputs": [
    {
     "name": "stderr",
     "output_type": "stream",
     "text": [
      "/home/simone/.virtualenvs/sr/lib/python3.6/site-packages/ipykernel_launcher.py:1: ExperimentalWarning:\n",
      "\n",
      "add_trials is experimental (supported from v2.5.0). The interface can change in the future.\n",
      "\n",
      "/home/simone/.virtualenvs/sr/lib/python3.6/site-packages/optuna/study/study.py:969: ExperimentalWarning:\n",
      "\n",
      "add_trial is experimental (supported from v2.0.0). The interface can change in the future.\n",
      "\n"
     ]
    }
   ],
   "source": [
    "study_all.add_trials(study.get_trials())"
   ]
  },
  {
   "cell_type": "code",
   "execution_count": 47,
   "id": "b450d61d",
   "metadata": {
    "ExecuteTime": {
     "end_time": "2022-07-07T09:16:08.821578Z",
     "start_time": "2022-07-07T09:16:08.766908Z"
    },
    "hidden": true
   },
   "outputs": [
    {
     "data": {
      "text/plain": [
       "['grid_search/study_srgan_small_all.pkl']"
      ]
     },
     "execution_count": 47,
     "metadata": {},
     "output_type": "execute_result"
    }
   ],
   "source": [
    "joblib.dump(study_all, \"grid_search/study_srgan_small_all.pkl\")"
   ]
  },
  {
   "cell_type": "code",
   "execution_count": 3,
   "id": "ff75a443",
   "metadata": {
    "ExecuteTime": {
     "end_time": "2022-07-18T08:41:04.715116Z",
     "start_time": "2022-07-18T08:41:04.696470Z"
    },
    "hidden": true,
    "scrolled": true
   },
   "outputs": [],
   "source": [
    "study_df = study_all.trials_dataframe()\n",
    "study_df['datetime_start'] = study_df['datetime_start'].apply(lambda x: x.replace(microsecond=0))"
   ]
  },
  {
   "cell_type": "code",
   "execution_count": 4,
   "id": "f4346494",
   "metadata": {
    "ExecuteTime": {
     "end_time": "2022-07-18T08:41:07.302056Z",
     "start_time": "2022-07-18T08:41:07.294844Z"
    },
    "hidden": true
   },
   "outputs": [
    {
     "data": {
      "text/plain": [
       "[Timestamp('2022-06-13 18:34:37'),\n",
       " Timestamp('2022-06-14 05:45:45'),\n",
       " Timestamp('2022-06-14 09:31:32'),\n",
       " Timestamp('2022-06-14 17:02:03'),\n",
       " Timestamp('2022-06-15 01:02:04'),\n",
       " Timestamp('2022-06-15 06:12:18'),\n",
       " Timestamp('2022-06-15 08:08:35'),\n",
       " Timestamp('2022-06-15 14:49:25'),\n",
       " Timestamp('2022-06-15 15:20:24'),\n",
       " Timestamp('2022-06-16 02:07:35'),\n",
       " Timestamp('2022-06-16 03:55:37'),\n",
       " Timestamp('2022-06-16 14:43:38'),\n",
       " Timestamp('2022-07-05 15:19:25'),\n",
       " Timestamp('2022-07-05 17:02:22'),\n",
       " Timestamp('2022-07-06 18:07:53')]"
      ]
     },
     "execution_count": 4,
     "metadata": {},
     "output_type": "execute_result"
    }
   ],
   "source": [
    "weights = ['gan_generator_gridsearch_2022-06-13 18:34:37.7907823.h5',\n",
    "           'gan_generator_gridsearch_2022-06-14 05:45:45.6737759.h5',\n",
    "           'gan_generator_gridsearch_2022-06-14 09:31:32.62665711.h5',\n",
    "           'gan_generator_gridsearch_2022-06-14 17:02:03.99848815.h5',\n",
    "           'gan_generator_gridsearch_2022-06-15 01:02:04.7871422.h5',\n",
    "           'gan_generator_gridsearch_2022-06-15 06:12:18.9093075.h5',\n",
    "           'gan_generator_gridsearch_2022-06-15 08:08:35.7981475.h5',\n",
    "           'gan_generator_gridsearch_2022-06-15 14:49:25.26411210.h5',\n",
    "           'gan_generator_gridsearch_2022-06-15 15:20:24.9029429.h5',\n",
    "           'gan_generator_gridsearch_2022-06-16 02:07:35.82383615.h5',\n",
    "           'gan_generator_gridsearch_2022-06-16 03:55:37.55589616.h5',\n",
    "           'gan_generator_gridsearch_2022-06-16 14:43:38.68904022.h5',\n",
    "           'gan_generator_gridsearch_2022-07-05 15:19:25.6379852.h5',\n",
    "           'gan_generator_gridsearch_2022-07-05 17:02:22.7251743.h5',\n",
    "           'gan_generator_gridsearch_2022-07-06 18:07:53.9710519.h5']\n",
    "    \n",
    "date = [pd.to_datetime(x.split('_')[-1][:-3]).replace(microsecond=0, nanosecond=0) for x in weights]\n",
    "date"
   ]
  },
  {
   "cell_type": "code",
   "execution_count": 5,
   "id": "d1ab62b4",
   "metadata": {
    "ExecuteTime": {
     "end_time": "2022-07-18T08:41:08.271817Z",
     "start_time": "2022-07-18T08:41:08.233766Z"
    },
    "hidden": true,
    "scrolled": true
   },
   "outputs": [
    {
     "data": {
      "text/html": [
       "<div>\n",
       "<style scoped>\n",
       "    .dataframe tbody tr th:only-of-type {\n",
       "        vertical-align: middle;\n",
       "    }\n",
       "\n",
       "    .dataframe tbody tr th {\n",
       "        vertical-align: top;\n",
       "    }\n",
       "\n",
       "    .dataframe thead th {\n",
       "        text-align: right;\n",
       "    }\n",
       "</style>\n",
       "<table border=\"1\" class=\"dataframe\">\n",
       "  <thead>\n",
       "    <tr style=\"text-align: right;\">\n",
       "      <th></th>\n",
       "      <th>number</th>\n",
       "      <th>value</th>\n",
       "      <th>datetime_start</th>\n",
       "      <th>datetime_complete</th>\n",
       "      <th>duration</th>\n",
       "      <th>params_ALPHA</th>\n",
       "      <th>params_DISC_ACT</th>\n",
       "      <th>params_DISC_HEAD</th>\n",
       "      <th>params_DISC_OPT</th>\n",
       "      <th>params_GP_WEIGHT</th>\n",
       "      <th>...</th>\n",
       "      <th>system_attrs_completed_rung_3</th>\n",
       "      <th>system_attrs_completed_rung_4</th>\n",
       "      <th>system_attrs_completed_rung_5</th>\n",
       "      <th>system_attrs_completed_rung_6</th>\n",
       "      <th>system_attrs_completed_rung_7</th>\n",
       "      <th>system_attrs_completed_rung_8</th>\n",
       "      <th>system_attrs_completed_rung_9</th>\n",
       "      <th>system_attrs_grid_id</th>\n",
       "      <th>system_attrs_search_space</th>\n",
       "      <th>state</th>\n",
       "    </tr>\n",
       "  </thead>\n",
       "  <tbody>\n",
       "    <tr>\n",
       "      <th>2</th>\n",
       "      <td>2</td>\n",
       "      <td>26.066942</td>\n",
       "      <td>2022-06-15 01:02:04</td>\n",
       "      <td>2022-06-15 02:45:31.256609</td>\n",
       "      <td>0 days 01:43:26.469467</td>\n",
       "      <td>NaN</td>\n",
       "      <td>NaN</td>\n",
       "      <td>NaN</td>\n",
       "      <td>NaN</td>\n",
       "      <td>NaN</td>\n",
       "      <td>...</td>\n",
       "      <td>NaN</td>\n",
       "      <td>NaN</td>\n",
       "      <td>NaN</td>\n",
       "      <td>NaN</td>\n",
       "      <td>NaN</td>\n",
       "      <td>NaN</td>\n",
       "      <td>NaN</td>\n",
       "      <td>65.0</td>\n",
       "      <td>{'activation': ['relu'], 'alpha': [0.001, 0.01...</td>\n",
       "      <td>COMPLETE</td>\n",
       "    </tr>\n",
       "    <tr>\n",
       "      <th>5</th>\n",
       "      <td>5</td>\n",
       "      <td>25.017155</td>\n",
       "      <td>2022-06-15 06:12:18</td>\n",
       "      <td>2022-06-15 07:55:40.780564</td>\n",
       "      <td>0 days 01:43:21.871257</td>\n",
       "      <td>NaN</td>\n",
       "      <td>NaN</td>\n",
       "      <td>NaN</td>\n",
       "      <td>NaN</td>\n",
       "      <td>NaN</td>\n",
       "      <td>...</td>\n",
       "      <td>NaN</td>\n",
       "      <td>NaN</td>\n",
       "      <td>NaN</td>\n",
       "      <td>NaN</td>\n",
       "      <td>NaN</td>\n",
       "      <td>NaN</td>\n",
       "      <td>NaN</td>\n",
       "      <td>22.0</td>\n",
       "      <td>{'activation': ['relu'], 'alpha': [0.001, 0.01...</td>\n",
       "      <td>COMPLETE</td>\n",
       "    </tr>\n",
       "    <tr>\n",
       "      <th>10</th>\n",
       "      <td>10</td>\n",
       "      <td>25.738699</td>\n",
       "      <td>2022-06-15 14:49:25</td>\n",
       "      <td>2022-06-15 16:32:55.395024</td>\n",
       "      <td>0 days 01:43:30.130912</td>\n",
       "      <td>NaN</td>\n",
       "      <td>NaN</td>\n",
       "      <td>NaN</td>\n",
       "      <td>NaN</td>\n",
       "      <td>NaN</td>\n",
       "      <td>...</td>\n",
       "      <td>NaN</td>\n",
       "      <td>NaN</td>\n",
       "      <td>NaN</td>\n",
       "      <td>NaN</td>\n",
       "      <td>NaN</td>\n",
       "      <td>NaN</td>\n",
       "      <td>NaN</td>\n",
       "      <td>45.0</td>\n",
       "      <td>{'activation': ['relu'], 'alpha': [0.001, 0.01...</td>\n",
       "      <td>COMPLETE</td>\n",
       "    </tr>\n",
       "    <tr>\n",
       "      <th>27</th>\n",
       "      <td>27</td>\n",
       "      <td>26.689457</td>\n",
       "      <td>2022-06-13 18:34:37</td>\n",
       "      <td>2022-06-13 20:19:57.067494</td>\n",
       "      <td>0 days 01:45:19.276712</td>\n",
       "      <td>NaN</td>\n",
       "      <td>NaN</td>\n",
       "      <td>NaN</td>\n",
       "      <td>NaN</td>\n",
       "      <td>NaN</td>\n",
       "      <td>...</td>\n",
       "      <td>NaN</td>\n",
       "      <td>NaN</td>\n",
       "      <td>NaN</td>\n",
       "      <td>NaN</td>\n",
       "      <td>NaN</td>\n",
       "      <td>NaN</td>\n",
       "      <td>NaN</td>\n",
       "      <td>25.0</td>\n",
       "      <td>{'activation': ['relu'], 'alpha': [0.001, 0.01...</td>\n",
       "      <td>COMPLETE</td>\n",
       "    </tr>\n",
       "    <tr>\n",
       "      <th>33</th>\n",
       "      <td>33</td>\n",
       "      <td>24.725698</td>\n",
       "      <td>2022-06-14 05:45:45</td>\n",
       "      <td>2022-06-14 07:38:40.772161</td>\n",
       "      <td>0 days 01:52:55.098386</td>\n",
       "      <td>NaN</td>\n",
       "      <td>NaN</td>\n",
       "      <td>NaN</td>\n",
       "      <td>NaN</td>\n",
       "      <td>NaN</td>\n",
       "      <td>...</td>\n",
       "      <td>NaN</td>\n",
       "      <td>NaN</td>\n",
       "      <td>NaN</td>\n",
       "      <td>NaN</td>\n",
       "      <td>NaN</td>\n",
       "      <td>NaN</td>\n",
       "      <td>NaN</td>\n",
       "      <td>9.0</td>\n",
       "      <td>{'activation': ['relu'], 'alpha': [0.001, 0.01...</td>\n",
       "      <td>COMPLETE</td>\n",
       "    </tr>\n",
       "    <tr>\n",
       "      <th>35</th>\n",
       "      <td>35</td>\n",
       "      <td>28.722198</td>\n",
       "      <td>2022-06-14 09:31:32</td>\n",
       "      <td>2022-06-14 11:24:35.428145</td>\n",
       "      <td>0 days 01:53:02.801488</td>\n",
       "      <td>NaN</td>\n",
       "      <td>NaN</td>\n",
       "      <td>NaN</td>\n",
       "      <td>NaN</td>\n",
       "      <td>NaN</td>\n",
       "      <td>...</td>\n",
       "      <td>NaN</td>\n",
       "      <td>NaN</td>\n",
       "      <td>NaN</td>\n",
       "      <td>NaN</td>\n",
       "      <td>NaN</td>\n",
       "      <td>NaN</td>\n",
       "      <td>NaN</td>\n",
       "      <td>1.0</td>\n",
       "      <td>{'activation': ['relu'], 'alpha': [0.001, 0.01...</td>\n",
       "      <td>COMPLETE</td>\n",
       "    </tr>\n",
       "    <tr>\n",
       "      <th>39</th>\n",
       "      <td>39</td>\n",
       "      <td>26.957327</td>\n",
       "      <td>2022-06-14 17:02:03</td>\n",
       "      <td>2022-06-14 18:48:58.368716</td>\n",
       "      <td>0 days 01:46:54.370228</td>\n",
       "      <td>NaN</td>\n",
       "      <td>NaN</td>\n",
       "      <td>NaN</td>\n",
       "      <td>NaN</td>\n",
       "      <td>NaN</td>\n",
       "      <td>...</td>\n",
       "      <td>NaN</td>\n",
       "      <td>NaN</td>\n",
       "      <td>NaN</td>\n",
       "      <td>NaN</td>\n",
       "      <td>NaN</td>\n",
       "      <td>NaN</td>\n",
       "      <td>NaN</td>\n",
       "      <td>16.0</td>\n",
       "      <td>{'activation': ['relu'], 'alpha': [0.001, 0.01...</td>\n",
       "      <td>COMPLETE</td>\n",
       "    </tr>\n",
       "    <tr>\n",
       "      <th>61</th>\n",
       "      <td>61</td>\n",
       "      <td>52.000000</td>\n",
       "      <td>2022-06-15 08:08:35</td>\n",
       "      <td>2022-06-15 09:56:40.365321</td>\n",
       "      <td>0 days 01:48:04.567174</td>\n",
       "      <td>NaN</td>\n",
       "      <td>NaN</td>\n",
       "      <td>NaN</td>\n",
       "      <td>NaN</td>\n",
       "      <td>NaN</td>\n",
       "      <td>...</td>\n",
       "      <td>NaN</td>\n",
       "      <td>NaN</td>\n",
       "      <td>NaN</td>\n",
       "      <td>NaN</td>\n",
       "      <td>NaN</td>\n",
       "      <td>NaN</td>\n",
       "      <td>NaN</td>\n",
       "      <td>94.0</td>\n",
       "      <td>{'activation': ['relu'], 'alpha': [0.001, 0.01...</td>\n",
       "      <td>COMPLETE</td>\n",
       "    </tr>\n",
       "    <tr>\n",
       "      <th>65</th>\n",
       "      <td>65</td>\n",
       "      <td>51.000000</td>\n",
       "      <td>2022-06-15 15:20:24</td>\n",
       "      <td>2022-06-15 17:08:28.281562</td>\n",
       "      <td>0 days 01:48:03.378620</td>\n",
       "      <td>NaN</td>\n",
       "      <td>NaN</td>\n",
       "      <td>NaN</td>\n",
       "      <td>NaN</td>\n",
       "      <td>NaN</td>\n",
       "      <td>...</td>\n",
       "      <td>NaN</td>\n",
       "      <td>NaN</td>\n",
       "      <td>NaN</td>\n",
       "      <td>NaN</td>\n",
       "      <td>NaN</td>\n",
       "      <td>NaN</td>\n",
       "      <td>NaN</td>\n",
       "      <td>23.0</td>\n",
       "      <td>{'activation': ['relu'], 'alpha': [0.001, 0.01...</td>\n",
       "      <td>COMPLETE</td>\n",
       "    </tr>\n",
       "    <tr>\n",
       "      <th>71</th>\n",
       "      <td>71</td>\n",
       "      <td>53.000000</td>\n",
       "      <td>2022-06-16 02:07:35</td>\n",
       "      <td>2022-06-16 03:55:37.547639</td>\n",
       "      <td>0 days 01:48:01.723803</td>\n",
       "      <td>NaN</td>\n",
       "      <td>NaN</td>\n",
       "      <td>NaN</td>\n",
       "      <td>NaN</td>\n",
       "      <td>NaN</td>\n",
       "      <td>...</td>\n",
       "      <td>NaN</td>\n",
       "      <td>NaN</td>\n",
       "      <td>NaN</td>\n",
       "      <td>NaN</td>\n",
       "      <td>NaN</td>\n",
       "      <td>NaN</td>\n",
       "      <td>NaN</td>\n",
       "      <td>47.0</td>\n",
       "      <td>{'activation': ['relu'], 'alpha': [0.001, 0.01...</td>\n",
       "      <td>COMPLETE</td>\n",
       "    </tr>\n",
       "    <tr>\n",
       "      <th>72</th>\n",
       "      <td>72</td>\n",
       "      <td>50.000000</td>\n",
       "      <td>2022-06-16 03:55:37</td>\n",
       "      <td>2022-06-16 05:43:28.504405</td>\n",
       "      <td>0 days 01:47:50.948509</td>\n",
       "      <td>NaN</td>\n",
       "      <td>NaN</td>\n",
       "      <td>NaN</td>\n",
       "      <td>NaN</td>\n",
       "      <td>NaN</td>\n",
       "      <td>...</td>\n",
       "      <td>NaN</td>\n",
       "      <td>NaN</td>\n",
       "      <td>NaN</td>\n",
       "      <td>NaN</td>\n",
       "      <td>NaN</td>\n",
       "      <td>NaN</td>\n",
       "      <td>NaN</td>\n",
       "      <td>27.0</td>\n",
       "      <td>{'activation': ['relu'], 'alpha': [0.001, 0.01...</td>\n",
       "      <td>COMPLETE</td>\n",
       "    </tr>\n",
       "    <tr>\n",
       "      <th>78</th>\n",
       "      <td>78</td>\n",
       "      <td>48.000000</td>\n",
       "      <td>2022-06-16 14:43:38</td>\n",
       "      <td>2022-06-16 16:38:13.435425</td>\n",
       "      <td>0 days 01:54:34.746385</td>\n",
       "      <td>NaN</td>\n",
       "      <td>NaN</td>\n",
       "      <td>NaN</td>\n",
       "      <td>NaN</td>\n",
       "      <td>NaN</td>\n",
       "      <td>...</td>\n",
       "      <td>NaN</td>\n",
       "      <td>NaN</td>\n",
       "      <td>NaN</td>\n",
       "      <td>NaN</td>\n",
       "      <td>NaN</td>\n",
       "      <td>NaN</td>\n",
       "      <td>NaN</td>\n",
       "      <td>95.0</td>\n",
       "      <td>{'activation': ['relu'], 'alpha': [0.001, 0.01...</td>\n",
       "      <td>COMPLETE</td>\n",
       "    </tr>\n",
       "    <tr>\n",
       "      <th>113</th>\n",
       "      <td>113</td>\n",
       "      <td>30.116392</td>\n",
       "      <td>2022-07-06 18:07:53</td>\n",
       "      <td>2022-07-06 19:48:03.503266</td>\n",
       "      <td>0 days 01:40:09.532215</td>\n",
       "      <td>0.1</td>\n",
       "      <td>linear</td>\n",
       "      <td>512.0</td>\n",
       "      <td>RMSprop</td>\n",
       "      <td>10.0</td>\n",
       "      <td>...</td>\n",
       "      <td>31.269949</td>\n",
       "      <td>34.309692</td>\n",
       "      <td>34.218372</td>\n",
       "      <td>32.968136</td>\n",
       "      <td>NaN</td>\n",
       "      <td>NaN</td>\n",
       "      <td>NaN</td>\n",
       "      <td>NaN</td>\n",
       "      <td>NaN</td>\n",
       "      <td>COMPLETE</td>\n",
       "    </tr>\n",
       "    <tr>\n",
       "      <th>130</th>\n",
       "      <td>130</td>\n",
       "      <td>26.381113</td>\n",
       "      <td>2022-07-05 15:19:25</td>\n",
       "      <td>2022-07-05 17:02:22.722232</td>\n",
       "      <td>0 days 01:42:57.084247</td>\n",
       "      <td>10.0</td>\n",
       "      <td>linear</td>\n",
       "      <td>512.0</td>\n",
       "      <td>RMSprop</td>\n",
       "      <td>10.0</td>\n",
       "      <td>...</td>\n",
       "      <td>41.554546</td>\n",
       "      <td>41.554546</td>\n",
       "      <td>41.554546</td>\n",
       "      <td>41.554546</td>\n",
       "      <td>42.764660</td>\n",
       "      <td>41.848854</td>\n",
       "      <td>39.013123</td>\n",
       "      <td>NaN</td>\n",
       "      <td>NaN</td>\n",
       "      <td>COMPLETE</td>\n",
       "    </tr>\n",
       "    <tr>\n",
       "      <th>131</th>\n",
       "      <td>131</td>\n",
       "      <td>24.513163</td>\n",
       "      <td>2022-07-05 17:02:22</td>\n",
       "      <td>2022-07-05 18:45:09.074725</td>\n",
       "      <td>0 days 01:42:46.349551</td>\n",
       "      <td>0.1</td>\n",
       "      <td>linear</td>\n",
       "      <td>512.0</td>\n",
       "      <td>Adam</td>\n",
       "      <td>1.0</td>\n",
       "      <td>...</td>\n",
       "      <td>0.515936</td>\n",
       "      <td>0.515936</td>\n",
       "      <td>0.515211</td>\n",
       "      <td>0.518194</td>\n",
       "      <td>0.486638</td>\n",
       "      <td>NaN</td>\n",
       "      <td>NaN</td>\n",
       "      <td>NaN</td>\n",
       "      <td>NaN</td>\n",
       "      <td>COMPLETE</td>\n",
       "    </tr>\n",
       "  </tbody>\n",
       "</table>\n",
       "<p>15 rows × 35 columns</p>\n",
       "</div>"
      ],
      "text/plain": [
       "     number      value      datetime_start          datetime_complete  \\\n",
       "2         2  26.066942 2022-06-15 01:02:04 2022-06-15 02:45:31.256609   \n",
       "5         5  25.017155 2022-06-15 06:12:18 2022-06-15 07:55:40.780564   \n",
       "10       10  25.738699 2022-06-15 14:49:25 2022-06-15 16:32:55.395024   \n",
       "27       27  26.689457 2022-06-13 18:34:37 2022-06-13 20:19:57.067494   \n",
       "33       33  24.725698 2022-06-14 05:45:45 2022-06-14 07:38:40.772161   \n",
       "35       35  28.722198 2022-06-14 09:31:32 2022-06-14 11:24:35.428145   \n",
       "39       39  26.957327 2022-06-14 17:02:03 2022-06-14 18:48:58.368716   \n",
       "61       61  52.000000 2022-06-15 08:08:35 2022-06-15 09:56:40.365321   \n",
       "65       65  51.000000 2022-06-15 15:20:24 2022-06-15 17:08:28.281562   \n",
       "71       71  53.000000 2022-06-16 02:07:35 2022-06-16 03:55:37.547639   \n",
       "72       72  50.000000 2022-06-16 03:55:37 2022-06-16 05:43:28.504405   \n",
       "78       78  48.000000 2022-06-16 14:43:38 2022-06-16 16:38:13.435425   \n",
       "113     113  30.116392 2022-07-06 18:07:53 2022-07-06 19:48:03.503266   \n",
       "130     130  26.381113 2022-07-05 15:19:25 2022-07-05 17:02:22.722232   \n",
       "131     131  24.513163 2022-07-05 17:02:22 2022-07-05 18:45:09.074725   \n",
       "\n",
       "                  duration  params_ALPHA params_DISC_ACT  params_DISC_HEAD  \\\n",
       "2   0 days 01:43:26.469467           NaN             NaN               NaN   \n",
       "5   0 days 01:43:21.871257           NaN             NaN               NaN   \n",
       "10  0 days 01:43:30.130912           NaN             NaN               NaN   \n",
       "27  0 days 01:45:19.276712           NaN             NaN               NaN   \n",
       "33  0 days 01:52:55.098386           NaN             NaN               NaN   \n",
       "35  0 days 01:53:02.801488           NaN             NaN               NaN   \n",
       "39  0 days 01:46:54.370228           NaN             NaN               NaN   \n",
       "61  0 days 01:48:04.567174           NaN             NaN               NaN   \n",
       "65  0 days 01:48:03.378620           NaN             NaN               NaN   \n",
       "71  0 days 01:48:01.723803           NaN             NaN               NaN   \n",
       "72  0 days 01:47:50.948509           NaN             NaN               NaN   \n",
       "78  0 days 01:54:34.746385           NaN             NaN               NaN   \n",
       "113 0 days 01:40:09.532215           0.1          linear             512.0   \n",
       "130 0 days 01:42:57.084247          10.0          linear             512.0   \n",
       "131 0 days 01:42:46.349551           0.1          linear             512.0   \n",
       "\n",
       "    params_DISC_OPT  params_GP_WEIGHT  ...  system_attrs_completed_rung_3  \\\n",
       "2               NaN               NaN  ...                            NaN   \n",
       "5               NaN               NaN  ...                            NaN   \n",
       "10              NaN               NaN  ...                            NaN   \n",
       "27              NaN               NaN  ...                            NaN   \n",
       "33              NaN               NaN  ...                            NaN   \n",
       "35              NaN               NaN  ...                            NaN   \n",
       "39              NaN               NaN  ...                            NaN   \n",
       "61              NaN               NaN  ...                            NaN   \n",
       "65              NaN               NaN  ...                            NaN   \n",
       "71              NaN               NaN  ...                            NaN   \n",
       "72              NaN               NaN  ...                            NaN   \n",
       "78              NaN               NaN  ...                            NaN   \n",
       "113         RMSprop              10.0  ...                      31.269949   \n",
       "130         RMSprop              10.0  ...                      41.554546   \n",
       "131            Adam               1.0  ...                       0.515936   \n",
       "\n",
       "    system_attrs_completed_rung_4  system_attrs_completed_rung_5  \\\n",
       "2                             NaN                            NaN   \n",
       "5                             NaN                            NaN   \n",
       "10                            NaN                            NaN   \n",
       "27                            NaN                            NaN   \n",
       "33                            NaN                            NaN   \n",
       "35                            NaN                            NaN   \n",
       "39                            NaN                            NaN   \n",
       "61                            NaN                            NaN   \n",
       "65                            NaN                            NaN   \n",
       "71                            NaN                            NaN   \n",
       "72                            NaN                            NaN   \n",
       "78                            NaN                            NaN   \n",
       "113                     34.309692                      34.218372   \n",
       "130                     41.554546                      41.554546   \n",
       "131                      0.515936                       0.515211   \n",
       "\n",
       "    system_attrs_completed_rung_6  system_attrs_completed_rung_7  \\\n",
       "2                             NaN                            NaN   \n",
       "5                             NaN                            NaN   \n",
       "10                            NaN                            NaN   \n",
       "27                            NaN                            NaN   \n",
       "33                            NaN                            NaN   \n",
       "35                            NaN                            NaN   \n",
       "39                            NaN                            NaN   \n",
       "61                            NaN                            NaN   \n",
       "65                            NaN                            NaN   \n",
       "71                            NaN                            NaN   \n",
       "72                            NaN                            NaN   \n",
       "78                            NaN                            NaN   \n",
       "113                     32.968136                            NaN   \n",
       "130                     41.554546                      42.764660   \n",
       "131                      0.518194                       0.486638   \n",
       "\n",
       "    system_attrs_completed_rung_8  system_attrs_completed_rung_9  \\\n",
       "2                             NaN                            NaN   \n",
       "5                             NaN                            NaN   \n",
       "10                            NaN                            NaN   \n",
       "27                            NaN                            NaN   \n",
       "33                            NaN                            NaN   \n",
       "35                            NaN                            NaN   \n",
       "39                            NaN                            NaN   \n",
       "61                            NaN                            NaN   \n",
       "65                            NaN                            NaN   \n",
       "71                            NaN                            NaN   \n",
       "72                            NaN                            NaN   \n",
       "78                            NaN                            NaN   \n",
       "113                           NaN                            NaN   \n",
       "130                     41.848854                      39.013123   \n",
       "131                           NaN                            NaN   \n",
       "\n",
       "     system_attrs_grid_id                          system_attrs_search_space  \\\n",
       "2                    65.0  {'activation': ['relu'], 'alpha': [0.001, 0.01...   \n",
       "5                    22.0  {'activation': ['relu'], 'alpha': [0.001, 0.01...   \n",
       "10                   45.0  {'activation': ['relu'], 'alpha': [0.001, 0.01...   \n",
       "27                   25.0  {'activation': ['relu'], 'alpha': [0.001, 0.01...   \n",
       "33                    9.0  {'activation': ['relu'], 'alpha': [0.001, 0.01...   \n",
       "35                    1.0  {'activation': ['relu'], 'alpha': [0.001, 0.01...   \n",
       "39                   16.0  {'activation': ['relu'], 'alpha': [0.001, 0.01...   \n",
       "61                   94.0  {'activation': ['relu'], 'alpha': [0.001, 0.01...   \n",
       "65                   23.0  {'activation': ['relu'], 'alpha': [0.001, 0.01...   \n",
       "71                   47.0  {'activation': ['relu'], 'alpha': [0.001, 0.01...   \n",
       "72                   27.0  {'activation': ['relu'], 'alpha': [0.001, 0.01...   \n",
       "78                   95.0  {'activation': ['relu'], 'alpha': [0.001, 0.01...   \n",
       "113                   NaN                                                NaN   \n",
       "130                   NaN                                                NaN   \n",
       "131                   NaN                                                NaN   \n",
       "\n",
       "        state  \n",
       "2    COMPLETE  \n",
       "5    COMPLETE  \n",
       "10   COMPLETE  \n",
       "27   COMPLETE  \n",
       "33   COMPLETE  \n",
       "35   COMPLETE  \n",
       "39   COMPLETE  \n",
       "61   COMPLETE  \n",
       "65   COMPLETE  \n",
       "71   COMPLETE  \n",
       "72   COMPLETE  \n",
       "78   COMPLETE  \n",
       "113  COMPLETE  \n",
       "130  COMPLETE  \n",
       "131  COMPLETE  \n",
       "\n",
       "[15 rows x 35 columns]"
      ]
     },
     "execution_count": 5,
     "metadata": {},
     "output_type": "execute_result"
    }
   ],
   "source": [
    "study_df.loc[study_df['datetime_start'].isin(date)]"
   ]
  },
  {
   "cell_type": "code",
   "execution_count": 52,
   "id": "46bf9134",
   "metadata": {
    "ExecuteTime": {
     "end_time": "2022-07-07T09:16:17.051311Z",
     "start_time": "2022-07-07T09:16:17.046137Z"
    },
    "hidden": true,
    "scrolled": false
   },
   "outputs": [
    {
     "data": {
      "text/plain": [
       "array([  2,   5,  10,  27,  33,  35,  39,  61,  65,  71,  72,  78, 113,\n",
       "       130, 131])"
      ]
     },
     "execution_count": 52,
     "metadata": {},
     "output_type": "execute_result"
    }
   ],
   "source": [
    "nums = np.array(study_df.loc[study_df['datetime_start'].isin(date)].number)\n",
    "nums"
   ]
  },
  {
   "cell_type": "code",
   "execution_count": 53,
   "id": "415ec0b2",
   "metadata": {
    "ExecuteTime": {
     "end_time": "2022-07-07T09:16:18.154471Z",
     "start_time": "2022-07-07T09:16:17.840912Z"
    },
    "hidden": true
   },
   "outputs": [
    {
     "name": "stderr",
     "output_type": "stream",
     "text": [
      "\u001b[32m[I 2022-07-07 11:16:17,844]\u001b[0m A new study created in memory with name: no-name-c28b99d5-0bd0-450e-b938-bd9e27a96902\u001b[0m\n",
      "/home/simone/.virtualenvs/sr/lib/python3.6/site-packages/ipykernel_launcher.py:4: ExperimentalWarning:\n",
      "\n",
      "add_trial is experimental (supported from v2.0.0). The interface can change in the future.\n",
      "\n"
     ]
    }
   ],
   "source": [
    "study_best = optuna.create_study()\n",
    "\n",
    "for i in nums:\n",
    "    study_best.add_trial(study_all.get_trials()[i])"
   ]
  },
  {
   "cell_type": "code",
   "execution_count": 54,
   "id": "64cc9740",
   "metadata": {
    "ExecuteTime": {
     "end_time": "2022-07-07T09:16:19.076950Z",
     "start_time": "2022-07-07T09:16:19.041193Z"
    },
    "hidden": true,
    "scrolled": true
   },
   "outputs": [
    {
     "data": {
      "text/html": [
       "<div>\n",
       "<style scoped>\n",
       "    .dataframe tbody tr th:only-of-type {\n",
       "        vertical-align: middle;\n",
       "    }\n",
       "\n",
       "    .dataframe tbody tr th {\n",
       "        vertical-align: top;\n",
       "    }\n",
       "\n",
       "    .dataframe thead th {\n",
       "        text-align: right;\n",
       "    }\n",
       "</style>\n",
       "<table border=\"1\" class=\"dataframe\">\n",
       "  <thead>\n",
       "    <tr style=\"text-align: right;\">\n",
       "      <th></th>\n",
       "      <th>number</th>\n",
       "      <th>value</th>\n",
       "      <th>datetime_start</th>\n",
       "      <th>datetime_complete</th>\n",
       "      <th>duration</th>\n",
       "      <th>params_ALPHA</th>\n",
       "      <th>params_DISC_ACT</th>\n",
       "      <th>params_DISC_HEAD</th>\n",
       "      <th>params_DISC_OPT</th>\n",
       "      <th>params_GP_WEIGHT</th>\n",
       "      <th>...</th>\n",
       "      <th>system_attrs_completed_rung_3</th>\n",
       "      <th>system_attrs_completed_rung_4</th>\n",
       "      <th>system_attrs_completed_rung_5</th>\n",
       "      <th>system_attrs_completed_rung_6</th>\n",
       "      <th>system_attrs_completed_rung_7</th>\n",
       "      <th>system_attrs_completed_rung_8</th>\n",
       "      <th>system_attrs_completed_rung_9</th>\n",
       "      <th>system_attrs_grid_id</th>\n",
       "      <th>system_attrs_search_space</th>\n",
       "      <th>state</th>\n",
       "    </tr>\n",
       "  </thead>\n",
       "  <tbody>\n",
       "    <tr>\n",
       "      <th>0</th>\n",
       "      <td>0</td>\n",
       "      <td>26.066942</td>\n",
       "      <td>2022-06-15 01:02:04.787142</td>\n",
       "      <td>2022-06-15 02:45:31.256609</td>\n",
       "      <td>0 days 01:43:26.469467</td>\n",
       "      <td>NaN</td>\n",
       "      <td>NaN</td>\n",
       "      <td>NaN</td>\n",
       "      <td>NaN</td>\n",
       "      <td>NaN</td>\n",
       "      <td>...</td>\n",
       "      <td>NaN</td>\n",
       "      <td>NaN</td>\n",
       "      <td>NaN</td>\n",
       "      <td>NaN</td>\n",
       "      <td>NaN</td>\n",
       "      <td>NaN</td>\n",
       "      <td>NaN</td>\n",
       "      <td>65.0</td>\n",
       "      <td>{'activation': ['relu'], 'alpha': [0.001, 0.01...</td>\n",
       "      <td>COMPLETE</td>\n",
       "    </tr>\n",
       "    <tr>\n",
       "      <th>1</th>\n",
       "      <td>1</td>\n",
       "      <td>25.017155</td>\n",
       "      <td>2022-06-15 06:12:18.909307</td>\n",
       "      <td>2022-06-15 07:55:40.780564</td>\n",
       "      <td>0 days 01:43:21.871257</td>\n",
       "      <td>NaN</td>\n",
       "      <td>NaN</td>\n",
       "      <td>NaN</td>\n",
       "      <td>NaN</td>\n",
       "      <td>NaN</td>\n",
       "      <td>...</td>\n",
       "      <td>NaN</td>\n",
       "      <td>NaN</td>\n",
       "      <td>NaN</td>\n",
       "      <td>NaN</td>\n",
       "      <td>NaN</td>\n",
       "      <td>NaN</td>\n",
       "      <td>NaN</td>\n",
       "      <td>22.0</td>\n",
       "      <td>{'activation': ['relu'], 'alpha': [0.001, 0.01...</td>\n",
       "      <td>COMPLETE</td>\n",
       "    </tr>\n",
       "    <tr>\n",
       "      <th>2</th>\n",
       "      <td>2</td>\n",
       "      <td>25.738699</td>\n",
       "      <td>2022-06-15 14:49:25.264112</td>\n",
       "      <td>2022-06-15 16:32:55.395024</td>\n",
       "      <td>0 days 01:43:30.130912</td>\n",
       "      <td>NaN</td>\n",
       "      <td>NaN</td>\n",
       "      <td>NaN</td>\n",
       "      <td>NaN</td>\n",
       "      <td>NaN</td>\n",
       "      <td>...</td>\n",
       "      <td>NaN</td>\n",
       "      <td>NaN</td>\n",
       "      <td>NaN</td>\n",
       "      <td>NaN</td>\n",
       "      <td>NaN</td>\n",
       "      <td>NaN</td>\n",
       "      <td>NaN</td>\n",
       "      <td>45.0</td>\n",
       "      <td>{'activation': ['relu'], 'alpha': [0.001, 0.01...</td>\n",
       "      <td>COMPLETE</td>\n",
       "    </tr>\n",
       "    <tr>\n",
       "      <th>3</th>\n",
       "      <td>3</td>\n",
       "      <td>26.689457</td>\n",
       "      <td>2022-06-13 18:34:37.790782</td>\n",
       "      <td>2022-06-13 20:19:57.067494</td>\n",
       "      <td>0 days 01:45:19.276712</td>\n",
       "      <td>NaN</td>\n",
       "      <td>NaN</td>\n",
       "      <td>NaN</td>\n",
       "      <td>NaN</td>\n",
       "      <td>NaN</td>\n",
       "      <td>...</td>\n",
       "      <td>NaN</td>\n",
       "      <td>NaN</td>\n",
       "      <td>NaN</td>\n",
       "      <td>NaN</td>\n",
       "      <td>NaN</td>\n",
       "      <td>NaN</td>\n",
       "      <td>NaN</td>\n",
       "      <td>25.0</td>\n",
       "      <td>{'activation': ['relu'], 'alpha': [0.001, 0.01...</td>\n",
       "      <td>COMPLETE</td>\n",
       "    </tr>\n",
       "    <tr>\n",
       "      <th>4</th>\n",
       "      <td>4</td>\n",
       "      <td>24.725698</td>\n",
       "      <td>2022-06-14 05:45:45.673775</td>\n",
       "      <td>2022-06-14 07:38:40.772161</td>\n",
       "      <td>0 days 01:52:55.098386</td>\n",
       "      <td>NaN</td>\n",
       "      <td>NaN</td>\n",
       "      <td>NaN</td>\n",
       "      <td>NaN</td>\n",
       "      <td>NaN</td>\n",
       "      <td>...</td>\n",
       "      <td>NaN</td>\n",
       "      <td>NaN</td>\n",
       "      <td>NaN</td>\n",
       "      <td>NaN</td>\n",
       "      <td>NaN</td>\n",
       "      <td>NaN</td>\n",
       "      <td>NaN</td>\n",
       "      <td>9.0</td>\n",
       "      <td>{'activation': ['relu'], 'alpha': [0.001, 0.01...</td>\n",
       "      <td>COMPLETE</td>\n",
       "    </tr>\n",
       "    <tr>\n",
       "      <th>5</th>\n",
       "      <td>5</td>\n",
       "      <td>28.722198</td>\n",
       "      <td>2022-06-14 09:31:32.626657</td>\n",
       "      <td>2022-06-14 11:24:35.428145</td>\n",
       "      <td>0 days 01:53:02.801488</td>\n",
       "      <td>NaN</td>\n",
       "      <td>NaN</td>\n",
       "      <td>NaN</td>\n",
       "      <td>NaN</td>\n",
       "      <td>NaN</td>\n",
       "      <td>...</td>\n",
       "      <td>NaN</td>\n",
       "      <td>NaN</td>\n",
       "      <td>NaN</td>\n",
       "      <td>NaN</td>\n",
       "      <td>NaN</td>\n",
       "      <td>NaN</td>\n",
       "      <td>NaN</td>\n",
       "      <td>1.0</td>\n",
       "      <td>{'activation': ['relu'], 'alpha': [0.001, 0.01...</td>\n",
       "      <td>COMPLETE</td>\n",
       "    </tr>\n",
       "    <tr>\n",
       "      <th>6</th>\n",
       "      <td>6</td>\n",
       "      <td>26.957327</td>\n",
       "      <td>2022-06-14 17:02:03.998488</td>\n",
       "      <td>2022-06-14 18:48:58.368716</td>\n",
       "      <td>0 days 01:46:54.370228</td>\n",
       "      <td>NaN</td>\n",
       "      <td>NaN</td>\n",
       "      <td>NaN</td>\n",
       "      <td>NaN</td>\n",
       "      <td>NaN</td>\n",
       "      <td>...</td>\n",
       "      <td>NaN</td>\n",
       "      <td>NaN</td>\n",
       "      <td>NaN</td>\n",
       "      <td>NaN</td>\n",
       "      <td>NaN</td>\n",
       "      <td>NaN</td>\n",
       "      <td>NaN</td>\n",
       "      <td>16.0</td>\n",
       "      <td>{'activation': ['relu'], 'alpha': [0.001, 0.01...</td>\n",
       "      <td>COMPLETE</td>\n",
       "    </tr>\n",
       "    <tr>\n",
       "      <th>7</th>\n",
       "      <td>7</td>\n",
       "      <td>52.000000</td>\n",
       "      <td>2022-06-15 08:08:35.798147</td>\n",
       "      <td>2022-06-15 09:56:40.365321</td>\n",
       "      <td>0 days 01:48:04.567174</td>\n",
       "      <td>NaN</td>\n",
       "      <td>NaN</td>\n",
       "      <td>NaN</td>\n",
       "      <td>NaN</td>\n",
       "      <td>NaN</td>\n",
       "      <td>...</td>\n",
       "      <td>NaN</td>\n",
       "      <td>NaN</td>\n",
       "      <td>NaN</td>\n",
       "      <td>NaN</td>\n",
       "      <td>NaN</td>\n",
       "      <td>NaN</td>\n",
       "      <td>NaN</td>\n",
       "      <td>94.0</td>\n",
       "      <td>{'activation': ['relu'], 'alpha': [0.001, 0.01...</td>\n",
       "      <td>COMPLETE</td>\n",
       "    </tr>\n",
       "    <tr>\n",
       "      <th>8</th>\n",
       "      <td>8</td>\n",
       "      <td>51.000000</td>\n",
       "      <td>2022-06-15 15:20:24.902942</td>\n",
       "      <td>2022-06-15 17:08:28.281562</td>\n",
       "      <td>0 days 01:48:03.378620</td>\n",
       "      <td>NaN</td>\n",
       "      <td>NaN</td>\n",
       "      <td>NaN</td>\n",
       "      <td>NaN</td>\n",
       "      <td>NaN</td>\n",
       "      <td>...</td>\n",
       "      <td>NaN</td>\n",
       "      <td>NaN</td>\n",
       "      <td>NaN</td>\n",
       "      <td>NaN</td>\n",
       "      <td>NaN</td>\n",
       "      <td>NaN</td>\n",
       "      <td>NaN</td>\n",
       "      <td>23.0</td>\n",
       "      <td>{'activation': ['relu'], 'alpha': [0.001, 0.01...</td>\n",
       "      <td>COMPLETE</td>\n",
       "    </tr>\n",
       "    <tr>\n",
       "      <th>9</th>\n",
       "      <td>9</td>\n",
       "      <td>53.000000</td>\n",
       "      <td>2022-06-16 02:07:35.823836</td>\n",
       "      <td>2022-06-16 03:55:37.547639</td>\n",
       "      <td>0 days 01:48:01.723803</td>\n",
       "      <td>NaN</td>\n",
       "      <td>NaN</td>\n",
       "      <td>NaN</td>\n",
       "      <td>NaN</td>\n",
       "      <td>NaN</td>\n",
       "      <td>...</td>\n",
       "      <td>NaN</td>\n",
       "      <td>NaN</td>\n",
       "      <td>NaN</td>\n",
       "      <td>NaN</td>\n",
       "      <td>NaN</td>\n",
       "      <td>NaN</td>\n",
       "      <td>NaN</td>\n",
       "      <td>47.0</td>\n",
       "      <td>{'activation': ['relu'], 'alpha': [0.001, 0.01...</td>\n",
       "      <td>COMPLETE</td>\n",
       "    </tr>\n",
       "    <tr>\n",
       "      <th>10</th>\n",
       "      <td>10</td>\n",
       "      <td>50.000000</td>\n",
       "      <td>2022-06-16 03:55:37.555896</td>\n",
       "      <td>2022-06-16 05:43:28.504405</td>\n",
       "      <td>0 days 01:47:50.948509</td>\n",
       "      <td>NaN</td>\n",
       "      <td>NaN</td>\n",
       "      <td>NaN</td>\n",
       "      <td>NaN</td>\n",
       "      <td>NaN</td>\n",
       "      <td>...</td>\n",
       "      <td>NaN</td>\n",
       "      <td>NaN</td>\n",
       "      <td>NaN</td>\n",
       "      <td>NaN</td>\n",
       "      <td>NaN</td>\n",
       "      <td>NaN</td>\n",
       "      <td>NaN</td>\n",
       "      <td>27.0</td>\n",
       "      <td>{'activation': ['relu'], 'alpha': [0.001, 0.01...</td>\n",
       "      <td>COMPLETE</td>\n",
       "    </tr>\n",
       "    <tr>\n",
       "      <th>11</th>\n",
       "      <td>11</td>\n",
       "      <td>48.000000</td>\n",
       "      <td>2022-06-16 14:43:38.689040</td>\n",
       "      <td>2022-06-16 16:38:13.435425</td>\n",
       "      <td>0 days 01:54:34.746385</td>\n",
       "      <td>NaN</td>\n",
       "      <td>NaN</td>\n",
       "      <td>NaN</td>\n",
       "      <td>NaN</td>\n",
       "      <td>NaN</td>\n",
       "      <td>...</td>\n",
       "      <td>NaN</td>\n",
       "      <td>NaN</td>\n",
       "      <td>NaN</td>\n",
       "      <td>NaN</td>\n",
       "      <td>NaN</td>\n",
       "      <td>NaN</td>\n",
       "      <td>NaN</td>\n",
       "      <td>95.0</td>\n",
       "      <td>{'activation': ['relu'], 'alpha': [0.001, 0.01...</td>\n",
       "      <td>COMPLETE</td>\n",
       "    </tr>\n",
       "    <tr>\n",
       "      <th>12</th>\n",
       "      <td>12</td>\n",
       "      <td>30.116392</td>\n",
       "      <td>2022-07-06 18:07:53.971051</td>\n",
       "      <td>2022-07-06 19:48:03.503266</td>\n",
       "      <td>0 days 01:40:09.532215</td>\n",
       "      <td>0.1</td>\n",
       "      <td>linear</td>\n",
       "      <td>512.0</td>\n",
       "      <td>RMSprop</td>\n",
       "      <td>10.0</td>\n",
       "      <td>...</td>\n",
       "      <td>31.269949</td>\n",
       "      <td>34.309692</td>\n",
       "      <td>34.218372</td>\n",
       "      <td>32.968136</td>\n",
       "      <td>NaN</td>\n",
       "      <td>NaN</td>\n",
       "      <td>NaN</td>\n",
       "      <td>NaN</td>\n",
       "      <td>NaN</td>\n",
       "      <td>COMPLETE</td>\n",
       "    </tr>\n",
       "    <tr>\n",
       "      <th>13</th>\n",
       "      <td>13</td>\n",
       "      <td>26.381113</td>\n",
       "      <td>2022-07-05 15:19:25.637985</td>\n",
       "      <td>2022-07-05 17:02:22.722232</td>\n",
       "      <td>0 days 01:42:57.084247</td>\n",
       "      <td>10.0</td>\n",
       "      <td>linear</td>\n",
       "      <td>512.0</td>\n",
       "      <td>RMSprop</td>\n",
       "      <td>10.0</td>\n",
       "      <td>...</td>\n",
       "      <td>41.554546</td>\n",
       "      <td>41.554546</td>\n",
       "      <td>41.554546</td>\n",
       "      <td>41.554546</td>\n",
       "      <td>42.764660</td>\n",
       "      <td>41.848854</td>\n",
       "      <td>39.013123</td>\n",
       "      <td>NaN</td>\n",
       "      <td>NaN</td>\n",
       "      <td>COMPLETE</td>\n",
       "    </tr>\n",
       "    <tr>\n",
       "      <th>14</th>\n",
       "      <td>14</td>\n",
       "      <td>24.513163</td>\n",
       "      <td>2022-07-05 17:02:22.725174</td>\n",
       "      <td>2022-07-05 18:45:09.074725</td>\n",
       "      <td>0 days 01:42:46.349551</td>\n",
       "      <td>0.1</td>\n",
       "      <td>linear</td>\n",
       "      <td>512.0</td>\n",
       "      <td>Adam</td>\n",
       "      <td>1.0</td>\n",
       "      <td>...</td>\n",
       "      <td>0.515936</td>\n",
       "      <td>0.515936</td>\n",
       "      <td>0.515211</td>\n",
       "      <td>0.518194</td>\n",
       "      <td>0.486638</td>\n",
       "      <td>NaN</td>\n",
       "      <td>NaN</td>\n",
       "      <td>NaN</td>\n",
       "      <td>NaN</td>\n",
       "      <td>COMPLETE</td>\n",
       "    </tr>\n",
       "  </tbody>\n",
       "</table>\n",
       "<p>15 rows × 35 columns</p>\n",
       "</div>"
      ],
      "text/plain": [
       "    number      value             datetime_start          datetime_complete  \\\n",
       "0        0  26.066942 2022-06-15 01:02:04.787142 2022-06-15 02:45:31.256609   \n",
       "1        1  25.017155 2022-06-15 06:12:18.909307 2022-06-15 07:55:40.780564   \n",
       "2        2  25.738699 2022-06-15 14:49:25.264112 2022-06-15 16:32:55.395024   \n",
       "3        3  26.689457 2022-06-13 18:34:37.790782 2022-06-13 20:19:57.067494   \n",
       "4        4  24.725698 2022-06-14 05:45:45.673775 2022-06-14 07:38:40.772161   \n",
       "5        5  28.722198 2022-06-14 09:31:32.626657 2022-06-14 11:24:35.428145   \n",
       "6        6  26.957327 2022-06-14 17:02:03.998488 2022-06-14 18:48:58.368716   \n",
       "7        7  52.000000 2022-06-15 08:08:35.798147 2022-06-15 09:56:40.365321   \n",
       "8        8  51.000000 2022-06-15 15:20:24.902942 2022-06-15 17:08:28.281562   \n",
       "9        9  53.000000 2022-06-16 02:07:35.823836 2022-06-16 03:55:37.547639   \n",
       "10      10  50.000000 2022-06-16 03:55:37.555896 2022-06-16 05:43:28.504405   \n",
       "11      11  48.000000 2022-06-16 14:43:38.689040 2022-06-16 16:38:13.435425   \n",
       "12      12  30.116392 2022-07-06 18:07:53.971051 2022-07-06 19:48:03.503266   \n",
       "13      13  26.381113 2022-07-05 15:19:25.637985 2022-07-05 17:02:22.722232   \n",
       "14      14  24.513163 2022-07-05 17:02:22.725174 2022-07-05 18:45:09.074725   \n",
       "\n",
       "                 duration  params_ALPHA params_DISC_ACT  params_DISC_HEAD  \\\n",
       "0  0 days 01:43:26.469467           NaN             NaN               NaN   \n",
       "1  0 days 01:43:21.871257           NaN             NaN               NaN   \n",
       "2  0 days 01:43:30.130912           NaN             NaN               NaN   \n",
       "3  0 days 01:45:19.276712           NaN             NaN               NaN   \n",
       "4  0 days 01:52:55.098386           NaN             NaN               NaN   \n",
       "5  0 days 01:53:02.801488           NaN             NaN               NaN   \n",
       "6  0 days 01:46:54.370228           NaN             NaN               NaN   \n",
       "7  0 days 01:48:04.567174           NaN             NaN               NaN   \n",
       "8  0 days 01:48:03.378620           NaN             NaN               NaN   \n",
       "9  0 days 01:48:01.723803           NaN             NaN               NaN   \n",
       "10 0 days 01:47:50.948509           NaN             NaN               NaN   \n",
       "11 0 days 01:54:34.746385           NaN             NaN               NaN   \n",
       "12 0 days 01:40:09.532215           0.1          linear             512.0   \n",
       "13 0 days 01:42:57.084247          10.0          linear             512.0   \n",
       "14 0 days 01:42:46.349551           0.1          linear             512.0   \n",
       "\n",
       "   params_DISC_OPT  params_GP_WEIGHT  ...  system_attrs_completed_rung_3  \\\n",
       "0              NaN               NaN  ...                            NaN   \n",
       "1              NaN               NaN  ...                            NaN   \n",
       "2              NaN               NaN  ...                            NaN   \n",
       "3              NaN               NaN  ...                            NaN   \n",
       "4              NaN               NaN  ...                            NaN   \n",
       "5              NaN               NaN  ...                            NaN   \n",
       "6              NaN               NaN  ...                            NaN   \n",
       "7              NaN               NaN  ...                            NaN   \n",
       "8              NaN               NaN  ...                            NaN   \n",
       "9              NaN               NaN  ...                            NaN   \n",
       "10             NaN               NaN  ...                            NaN   \n",
       "11             NaN               NaN  ...                            NaN   \n",
       "12         RMSprop              10.0  ...                      31.269949   \n",
       "13         RMSprop              10.0  ...                      41.554546   \n",
       "14            Adam               1.0  ...                       0.515936   \n",
       "\n",
       "   system_attrs_completed_rung_4  system_attrs_completed_rung_5  \\\n",
       "0                            NaN                            NaN   \n",
       "1                            NaN                            NaN   \n",
       "2                            NaN                            NaN   \n",
       "3                            NaN                            NaN   \n",
       "4                            NaN                            NaN   \n",
       "5                            NaN                            NaN   \n",
       "6                            NaN                            NaN   \n",
       "7                            NaN                            NaN   \n",
       "8                            NaN                            NaN   \n",
       "9                            NaN                            NaN   \n",
       "10                           NaN                            NaN   \n",
       "11                           NaN                            NaN   \n",
       "12                     34.309692                      34.218372   \n",
       "13                     41.554546                      41.554546   \n",
       "14                      0.515936                       0.515211   \n",
       "\n",
       "   system_attrs_completed_rung_6  system_attrs_completed_rung_7  \\\n",
       "0                            NaN                            NaN   \n",
       "1                            NaN                            NaN   \n",
       "2                            NaN                            NaN   \n",
       "3                            NaN                            NaN   \n",
       "4                            NaN                            NaN   \n",
       "5                            NaN                            NaN   \n",
       "6                            NaN                            NaN   \n",
       "7                            NaN                            NaN   \n",
       "8                            NaN                            NaN   \n",
       "9                            NaN                            NaN   \n",
       "10                           NaN                            NaN   \n",
       "11                           NaN                            NaN   \n",
       "12                     32.968136                            NaN   \n",
       "13                     41.554546                      42.764660   \n",
       "14                      0.518194                       0.486638   \n",
       "\n",
       "   system_attrs_completed_rung_8  system_attrs_completed_rung_9  \\\n",
       "0                            NaN                            NaN   \n",
       "1                            NaN                            NaN   \n",
       "2                            NaN                            NaN   \n",
       "3                            NaN                            NaN   \n",
       "4                            NaN                            NaN   \n",
       "5                            NaN                            NaN   \n",
       "6                            NaN                            NaN   \n",
       "7                            NaN                            NaN   \n",
       "8                            NaN                            NaN   \n",
       "9                            NaN                            NaN   \n",
       "10                           NaN                            NaN   \n",
       "11                           NaN                            NaN   \n",
       "12                           NaN                            NaN   \n",
       "13                     41.848854                      39.013123   \n",
       "14                           NaN                            NaN   \n",
       "\n",
       "    system_attrs_grid_id                          system_attrs_search_space  \\\n",
       "0                   65.0  {'activation': ['relu'], 'alpha': [0.001, 0.01...   \n",
       "1                   22.0  {'activation': ['relu'], 'alpha': [0.001, 0.01...   \n",
       "2                   45.0  {'activation': ['relu'], 'alpha': [0.001, 0.01...   \n",
       "3                   25.0  {'activation': ['relu'], 'alpha': [0.001, 0.01...   \n",
       "4                    9.0  {'activation': ['relu'], 'alpha': [0.001, 0.01...   \n",
       "5                    1.0  {'activation': ['relu'], 'alpha': [0.001, 0.01...   \n",
       "6                   16.0  {'activation': ['relu'], 'alpha': [0.001, 0.01...   \n",
       "7                   94.0  {'activation': ['relu'], 'alpha': [0.001, 0.01...   \n",
       "8                   23.0  {'activation': ['relu'], 'alpha': [0.001, 0.01...   \n",
       "9                   47.0  {'activation': ['relu'], 'alpha': [0.001, 0.01...   \n",
       "10                  27.0  {'activation': ['relu'], 'alpha': [0.001, 0.01...   \n",
       "11                  95.0  {'activation': ['relu'], 'alpha': [0.001, 0.01...   \n",
       "12                   NaN                                                NaN   \n",
       "13                   NaN                                                NaN   \n",
       "14                   NaN                                                NaN   \n",
       "\n",
       "       state  \n",
       "0   COMPLETE  \n",
       "1   COMPLETE  \n",
       "2   COMPLETE  \n",
       "3   COMPLETE  \n",
       "4   COMPLETE  \n",
       "5   COMPLETE  \n",
       "6   COMPLETE  \n",
       "7   COMPLETE  \n",
       "8   COMPLETE  \n",
       "9   COMPLETE  \n",
       "10  COMPLETE  \n",
       "11  COMPLETE  \n",
       "12  COMPLETE  \n",
       "13  COMPLETE  \n",
       "14  COMPLETE  \n",
       "\n",
       "[15 rows x 35 columns]"
      ]
     },
     "execution_count": 54,
     "metadata": {},
     "output_type": "execute_result"
    }
   ],
   "source": [
    "study_best.trials_dataframe()"
   ]
  },
  {
   "cell_type": "code",
   "execution_count": 57,
   "id": "33ae8231",
   "metadata": {
    "ExecuteTime": {
     "end_time": "2022-07-07T09:18:10.464591Z",
     "start_time": "2022-07-07T09:18:10.458742Z"
    },
    "hidden": true
   },
   "outputs": [
    {
     "data": {
      "text/plain": [
       "array([OrderedDict([('activation', ['relu']), ('alpha', [0.001, 0.01, 0.1, 1.0]), ('batch_norm', [True]), ('gp_weight', [0.0, 1.0, 10.0, 100.0]), ('learning_rate', [3e-07, 7e-07, 1e-06]), ('lr_scheduler', ['const', 'exp']), ('steps', [50000]), ('upsampling', ['transpose_conv']), ('w_loss', [False])]),\n",
       "       OrderedDict([('activation', ['relu']), ('alpha', [0.001, 0.01, 0.1, 1.0]), ('batch_norm', [True]), ('gp_weight', [0.0, 1.0, 10.0, 100.0]), ('learning_rate', [3e-07, 7e-07, 1e-06]), ('lr_scheduler', ['const', 'exp']), ('steps', [50000]), ('upsampling', ['transpose_conv']), ('w_loss', [False])]),\n",
       "       OrderedDict([('activation', ['relu']), ('alpha', [0.001, 0.01, 0.1, 1.0]), ('batch_norm', [True]), ('gp_weight', [0.0, 1.0, 10.0, 100.0]), ('learning_rate', [3e-07, 7e-07, 1e-06]), ('lr_scheduler', ['const', 'exp']), ('steps', [50000]), ('upsampling', ['transpose_conv']), ('w_loss', [False])]),\n",
       "       OrderedDict([('activation', ['relu']), ('alpha', [0.001, 0.01, 0.1, 1.0]), ('batch_norm', [True]), ('learning_rate', [1e-06, 3e-06, 7e-06, 1e-05]), ('lr_scheduler', ['const', 'exp']), ('steps', [50000]), ('upsampling', ['transpose_conv'])]),\n",
       "       OrderedDict([('activation', ['relu']), ('alpha', [0.001, 0.01, 0.1, 1.0]), ('batch_norm', [True]), ('learning_rate', [1e-06, 3e-06, 7e-06, 1e-05]), ('lr_scheduler', ['const', 'exp']), ('steps', [50000]), ('upsampling', ['transpose_conv'])]),\n",
       "       OrderedDict([('activation', ['relu']), ('alpha', [0.001, 0.01, 0.1, 1.0]), ('batch_norm', [True]), ('learning_rate', [1e-06, 3e-06, 7e-06, 1e-05]), ('lr_scheduler', ['const', 'exp']), ('steps', [50000]), ('upsampling', ['transpose_conv'])]),\n",
       "       OrderedDict([('activation', ['relu']), ('alpha', [0.001, 0.01, 0.1, 1.0]), ('batch_norm', [True]), ('learning_rate', [1e-06, 3e-06, 7e-06, 1e-05]), ('lr_scheduler', ['const', 'exp']), ('steps', [50000]), ('upsampling', ['transpose_conv'])]),\n",
       "       OrderedDict([('activation', ['relu']), ('alpha', [0.001, 0.01, 0.1, 1.0]), ('batch_norm', [True]), ('gp_weight', [0.0, 1.0, 10.0, 100.0]), ('learning_rate', [3e-07, 7e-07, 1e-06]), ('lr_scheduler', ['const', 'exp']), ('steps', [50000]), ('upsampling', ['transpose_conv']), ('w_loss', [False])]),\n",
       "       OrderedDict([('activation', ['relu']), ('alpha', [0.001, 0.01, 0.1, 1.0]), ('batch_norm', [True]), ('gp_weight', [0.0, 1.0, 10.0, 100.0]), ('learning_rate', [3e-07, 7e-07, 1e-06]), ('lr_scheduler', ['const', 'exp']), ('steps', [50000]), ('upsampling', ['transpose_conv']), ('w_loss', [False])]),\n",
       "       OrderedDict([('activation', ['relu']), ('alpha', [0.001, 0.01, 0.1, 1.0]), ('batch_norm', [True]), ('gp_weight', [0.0, 1.0, 10.0, 100.0]), ('learning_rate', [3e-07, 7e-07, 1e-06]), ('lr_scheduler', ['const', 'exp']), ('steps', [50000]), ('upsampling', ['transpose_conv']), ('w_loss', [False])]),\n",
       "       OrderedDict([('activation', ['relu']), ('alpha', [0.001, 0.01, 0.1, 1.0]), ('batch_norm', [True]), ('gp_weight', [0.0, 1.0, 10.0, 100.0]), ('learning_rate', [3e-07, 7e-07, 1e-06]), ('lr_scheduler', ['const', 'exp']), ('steps', [50000]), ('upsampling', ['transpose_conv']), ('w_loss', [False])]),\n",
       "       OrderedDict([('activation', ['relu']), ('alpha', [0.001, 0.01, 0.1, 1.0]), ('batch_norm', [True]), ('gp_weight', [0.0, 1.0, 10.0, 100.0]), ('learning_rate', [3e-07, 7e-07, 1e-06]), ('lr_scheduler', ['const', 'exp']), ('steps', [50000]), ('upsampling', ['transpose_conv']), ('w_loss', [False])]),\n",
       "       nan, nan, nan], dtype=object)"
      ]
     },
     "execution_count": 57,
     "metadata": {},
     "output_type": "execute_result"
    }
   ],
   "source": [
    "study_best.trials_dataframe()['system_attrs_search_space'].values"
   ]
  },
  {
   "cell_type": "code",
   "execution_count": 55,
   "id": "c332662a",
   "metadata": {
    "ExecuteTime": {
     "end_time": "2022-07-07T09:16:25.865208Z",
     "start_time": "2022-07-07T09:16:25.848641Z"
    },
    "hidden": true
   },
   "outputs": [
    {
     "data": {
      "text/plain": [
       "['grid_search/study_srgan_small_best.pkl']"
      ]
     },
     "execution_count": 55,
     "metadata": {},
     "output_type": "execute_result"
    }
   ],
   "source": [
    "joblib.dump(study_best, \"grid_search/study_srgan_small_best.pkl\")"
   ]
  },
  {
   "cell_type": "code",
   "execution_count": null,
   "id": "532f26ac",
   "metadata": {
    "hidden": true
   },
   "outputs": [],
   "source": []
  }
 ],
 "metadata": {
  "kernelspec": {
   "display_name": "SR",
   "language": "python",
   "name": "sr"
  },
  "language_info": {
   "codemirror_mode": {
    "name": "ipython",
    "version": 3
   },
   "file_extension": ".py",
   "mimetype": "text/x-python",
   "name": "python",
   "nbconvert_exporter": "python",
   "pygments_lexer": "ipython3",
   "version": "3.10.5"
  },
  "toc": {
   "base_numbering": 1,
   "nav_menu": {},
   "number_sections": true,
   "sideBar": true,
   "skip_h1_title": false,
   "title_cell": "Table of Contents",
   "title_sidebar": "Contents",
   "toc_cell": false,
   "toc_position": {},
   "toc_section_display": true,
   "toc_window_display": false
  },
  "varInspector": {
   "cols": {
    "lenName": 16,
    "lenType": 16,
    "lenVar": 40
   },
   "kernels_config": {
    "python": {
     "delete_cmd_postfix": "",
     "delete_cmd_prefix": "del ",
     "library": "var_list.py",
     "varRefreshCmd": "print(var_dic_list())"
    },
    "r": {
     "delete_cmd_postfix": ") ",
     "delete_cmd_prefix": "rm(",
     "library": "var_list.r",
     "varRefreshCmd": "cat(var_dic_list()) "
    }
   },
   "types_to_exclude": [
    "module",
    "function",
    "builtin_function_or_method",
    "instance",
    "_Feature"
   ],
   "window_display": false
  }
 },
 "nbformat": 4,
 "nbformat_minor": 5
}
