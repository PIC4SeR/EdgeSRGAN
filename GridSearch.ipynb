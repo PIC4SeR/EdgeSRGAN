{
 "cells": [
  {
   "cell_type": "code",
   "execution_count": null,
   "id": "fe44e2f2",
   "metadata": {
    "ExecuteTime": {
     "end_time": "2022-10-07T07:54:17.858238Z",
     "start_time": "2022-10-07T07:54:16.937832Z"
    }
   },
   "outputs": [],
   "source": [
    "import optuna\n",
    "import joblib\n",
    "import numpy as np\n",
    "import pandas as pd\n"
   ]
  },
  {
   "cell_type": "markdown",
   "id": "b9e00128",
   "metadata": {},
   "source": [
    "# Single Study"
   ]
  },
  {
   "cell_type": "code",
   "execution_count": null,
   "id": "1b2a70af",
   "metadata": {
    "ExecuteTime": {
     "end_time": "2022-10-07T09:07:58.114581Z",
     "start_time": "2022-10-07T09:07:58.106994Z"
    }
   },
   "outputs": [],
   "source": [
    "study = joblib.load(\"grid_search/hp_search_tiny_brkd_new.pkl\")\n",
    "print(f\"Best trial until now ({len(study.trials)} trials):\")\n",
    "print(\" Value: \", study.best_trial.value)\n",
    "print(\" Params: \")\n",
    "for key, value in study.best_trial.params.items():\n",
    "    print(f\"   {key}: {value}\")\n",
    "    "
   ]
  },
  {
   "cell_type": "code",
   "execution_count": null,
   "id": "7d8f2a8e",
   "metadata": {
    "ExecuteTime": {
     "end_time": "2022-10-07T09:07:58.816854Z",
     "start_time": "2022-10-07T09:07:58.810354Z"
    }
   },
   "outputs": [],
   "source": [
    "fig = optuna.visualization.plot_parallel_coordinate(study)\n",
    "fig.show()"
   ]
  },
  {
   "cell_type": "code",
   "execution_count": null,
   "id": "e593bc9b",
   "metadata": {
    "ExecuteTime": {
     "end_time": "2022-10-07T09:08:01.434410Z",
     "start_time": "2022-10-07T09:08:01.344166Z"
    }
   },
   "outputs": [],
   "source": [
    "fig = optuna.visualization.plot_param_importances(study)\n",
    "fig.show()\n"
   ]
  },
  {
   "cell_type": "code",
   "execution_count": null,
   "id": "629624a1",
   "metadata": {
    "ExecuteTime": {
     "end_time": "2022-10-07T09:08:01.881862Z",
     "start_time": "2022-10-07T09:08:01.864511Z"
    }
   },
   "outputs": [],
   "source": [
    "fig = optuna.visualization.plot_intermediate_values(study)\n",
    "fig.show()"
   ]
  },
  {
   "cell_type": "code",
   "execution_count": null,
   "id": "100700a8",
   "metadata": {
    "ExecuteTime": {
     "end_time": "2022-10-07T09:08:02.716726Z",
     "start_time": "2022-10-07T09:08:02.707198Z"
    },
    "scrolled": false
   },
   "outputs": [],
   "source": [
    "study.trials_dataframe()"
   ]
  },
  {
   "cell_type": "markdown",
   "id": "24326cf9",
   "metadata": {
    "heading_collapsed": true
   },
   "source": [
    "# Overall"
   ]
  },
  {
   "cell_type": "code",
   "execution_count": null,
   "id": "7e87eae5",
   "metadata": {
    "ExecuteTime": {
     "end_time": "2022-07-18T08:40:45.292628Z",
     "start_time": "2022-07-18T08:40:45.263841Z"
    },
    "hidden": true
   },
   "outputs": [],
   "source": [
    "study_all = joblib.load(\"grid_search/study_srgan_small_all.pkl\")\n",
    "print(\"Best trial until now:\")\n",
    "print(\" Value: \", study_all.best_trial.value)\n",
    "print(\" Params: \")\n",
    "for key, value in study_all.best_trial.params.items():\n",
    "    print(f\"   {key}: {value}\")\n",
    "    "
   ]
  },
  {
   "cell_type": "code",
   "execution_count": null,
   "id": "c22fa2a4",
   "metadata": {
    "ExecuteTime": {
     "end_time": "2022-07-07T09:16:07.144413Z",
     "start_time": "2022-07-07T09:16:07.137851Z"
    },
    "hidden": true,
    "scrolled": true
   },
   "outputs": [],
   "source": [
    "study_all.add_trials(study.get_trials())"
   ]
  },
  {
   "cell_type": "code",
   "execution_count": null,
   "id": "b450d61d",
   "metadata": {
    "ExecuteTime": {
     "end_time": "2022-07-07T09:16:08.821578Z",
     "start_time": "2022-07-07T09:16:08.766908Z"
    },
    "hidden": true
   },
   "outputs": [],
   "source": [
    "joblib.dump(study_all, \"grid_search/study_srgan_small_all.pkl\")"
   ]
  },
  {
   "cell_type": "code",
   "execution_count": null,
   "id": "ff75a443",
   "metadata": {
    "ExecuteTime": {
     "end_time": "2022-07-18T08:41:04.715116Z",
     "start_time": "2022-07-18T08:41:04.696470Z"
    },
    "hidden": true,
    "scrolled": true
   },
   "outputs": [],
   "source": [
    "study_df = study_all.trials_dataframe()\n",
    "study_df['datetime_start'] = study_df['datetime_start'].apply(lambda x: x.replace(microsecond=0))"
   ]
  },
  {
   "cell_type": "code",
   "execution_count": null,
   "id": "f4346494",
   "metadata": {
    "ExecuteTime": {
     "end_time": "2022-07-18T08:41:07.302056Z",
     "start_time": "2022-07-18T08:41:07.294844Z"
    },
    "hidden": true
   },
   "outputs": [],
   "source": [
    "weights = ['gan_generator_gridsearch_2022-06-13 18:34:37.7907823.h5',\n",
    "           'gan_generator_gridsearch_2022-06-14 05:45:45.6737759.h5',\n",
    "           'gan_generator_gridsearch_2022-06-14 09:31:32.62665711.h5',\n",
    "           'gan_generator_gridsearch_2022-06-14 17:02:03.99848815.h5',\n",
    "           'gan_generator_gridsearch_2022-06-15 01:02:04.7871422.h5',\n",
    "           'gan_generator_gridsearch_2022-06-15 06:12:18.9093075.h5',\n",
    "           'gan_generator_gridsearch_2022-06-15 08:08:35.7981475.h5',\n",
    "           'gan_generator_gridsearch_2022-06-15 14:49:25.26411210.h5',\n",
    "           'gan_generator_gridsearch_2022-06-15 15:20:24.9029429.h5',\n",
    "           'gan_generator_gridsearch_2022-06-16 02:07:35.82383615.h5',\n",
    "           'gan_generator_gridsearch_2022-06-16 03:55:37.55589616.h5',\n",
    "           'gan_generator_gridsearch_2022-06-16 14:43:38.68904022.h5',\n",
    "           'gan_generator_gridsearch_2022-07-05 15:19:25.6379852.h5',\n",
    "           'gan_generator_gridsearch_2022-07-05 17:02:22.7251743.h5',\n",
    "           'gan_generator_gridsearch_2022-07-06 18:07:53.9710519.h5']\n",
    "    \n",
    "date = [pd.to_datetime(x.split('_')[-1][:-3]).replace(microsecond=0, nanosecond=0) for x in weights]\n",
    "date"
   ]
  },
  {
   "cell_type": "code",
   "execution_count": null,
   "id": "d1ab62b4",
   "metadata": {
    "ExecuteTime": {
     "end_time": "2022-07-18T08:41:08.271817Z",
     "start_time": "2022-07-18T08:41:08.233766Z"
    },
    "hidden": true,
    "scrolled": true
   },
   "outputs": [],
   "source": [
    "study_df.loc[study_df['datetime_start'].isin(date)]"
   ]
  },
  {
   "cell_type": "code",
   "execution_count": null,
   "id": "46bf9134",
   "metadata": {
    "ExecuteTime": {
     "end_time": "2022-07-07T09:16:17.051311Z",
     "start_time": "2022-07-07T09:16:17.046137Z"
    },
    "hidden": true,
    "scrolled": false
   },
   "outputs": [],
   "source": [
    "nums = np.array(study_df.loc[study_df['datetime_start'].isin(date)].number)\n",
    "nums"
   ]
  },
  {
   "cell_type": "code",
   "execution_count": null,
   "id": "415ec0b2",
   "metadata": {
    "ExecuteTime": {
     "end_time": "2022-07-07T09:16:18.154471Z",
     "start_time": "2022-07-07T09:16:17.840912Z"
    },
    "hidden": true
   },
   "outputs": [],
   "source": [
    "study_best = optuna.create_study()\n",
    "\n",
    "for i in nums:\n",
    "    study_best.add_trial(study_all.get_trials()[i])"
   ]
  },
  {
   "cell_type": "code",
   "execution_count": null,
   "id": "64cc9740",
   "metadata": {
    "ExecuteTime": {
     "end_time": "2022-07-07T09:16:19.076950Z",
     "start_time": "2022-07-07T09:16:19.041193Z"
    },
    "hidden": true,
    "scrolled": true
   },
   "outputs": [],
   "source": [
    "study_best.trials_dataframe()"
   ]
  },
  {
   "cell_type": "code",
   "execution_count": null,
   "id": "33ae8231",
   "metadata": {
    "ExecuteTime": {
     "end_time": "2022-07-07T09:18:10.464591Z",
     "start_time": "2022-07-07T09:18:10.458742Z"
    },
    "hidden": true
   },
   "outputs": [],
   "source": [
    "study_best.trials_dataframe()['system_attrs_search_space'].values"
   ]
  },
  {
   "cell_type": "code",
   "execution_count": null,
   "id": "c332662a",
   "metadata": {
    "ExecuteTime": {
     "end_time": "2022-07-07T09:16:25.865208Z",
     "start_time": "2022-07-07T09:16:25.848641Z"
    },
    "hidden": true
   },
   "outputs": [],
   "source": [
    "joblib.dump(study_best, \"grid_search/study_srgan_small_best.pkl\")"
   ]
  },
  {
   "cell_type": "code",
   "execution_count": null,
   "id": "532f26ac",
   "metadata": {
    "hidden": true
   },
   "outputs": [],
   "source": []
  }
 ],
 "metadata": {
  "kernelspec": {
   "display_name": "SR",
   "language": "python",
   "name": "sr"
  },
  "language_info": {
   "codemirror_mode": {
    "name": "ipython",
    "version": 3
   },
   "file_extension": ".py",
   "mimetype": "text/x-python",
   "name": "python",
   "nbconvert_exporter": "python",
   "pygments_lexer": "ipython3",
   "version": "3.10.5"
  },
  "toc": {
   "base_numbering": 1,
   "nav_menu": {},
   "number_sections": true,
   "sideBar": true,
   "skip_h1_title": false,
   "title_cell": "Table of Contents",
   "title_sidebar": "Contents",
   "toc_cell": false,
   "toc_position": {},
   "toc_section_display": true,
   "toc_window_display": false
  },
  "varInspector": {
   "cols": {
    "lenName": 16,
    "lenType": 16,
    "lenVar": 40
   },
   "kernels_config": {
    "python": {
     "delete_cmd_postfix": "",
     "delete_cmd_prefix": "del ",
     "library": "var_list.py",
     "varRefreshCmd": "print(var_dic_list())"
    },
    "r": {
     "delete_cmd_postfix": ") ",
     "delete_cmd_prefix": "rm(",
     "library": "var_list.r",
     "varRefreshCmd": "cat(var_dic_list()) "
    }
   },
   "types_to_exclude": [
    "module",
    "function",
    "builtin_function_or_method",
    "instance",
    "_Feature"
   ],
   "window_display": false
  }
 },
 "nbformat": 4,
 "nbformat_minor": 5
}
