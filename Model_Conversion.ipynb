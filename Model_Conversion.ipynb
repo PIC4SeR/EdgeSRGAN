{
 "cells": [
  {
   "cell_type": "markdown",
   "id": "fdb7a618",
   "metadata": {},
   "source": [
    "# Model Conversion (TF 2.6.2)"
   ]
  },
  {
   "cell_type": "code",
   "execution_count": null,
   "id": "522ad9ae",
   "metadata": {
    "ExecuteTime": {
     "end_time": "2023-05-15T13:35:09.848509Z",
     "start_time": "2023-05-15T13:35:08.167571Z"
    }
   },
   "outputs": [],
   "source": [
    "import numpy as np\n",
    "import tensorflow as tf\n",
    "from pathlib import Path\n",
    "from PIL import Image\n",
    "\n",
    "from utils.data import DIV2K\n",
    "\n",
    "from utils.srgan_tools import resolve_single\n",
    "from utils.srgan import generator\n",
    "#from utils.model.srgan_old import generator as generator_old\n",
    "\n",
    "from utils.tools import load_image, plot_sample\n",
    "\n",
    "import numpy as np\n",
    "import tensorflow as tf\n",
    "from PIL import Image\n",
    "\n",
    "import matplotlib.pyplot as plt \n",
    "\n",
    "%matplotlib inline\n",
    "%load_ext autoreload\n",
    "%autoreload 2"
   ]
  },
  {
   "cell_type": "code",
   "execution_count": null,
   "id": "dc8a5e96",
   "metadata": {
    "ExecuteTime": {
     "end_time": "2023-01-12T10:06:49.151950Z",
     "start_time": "2023-01-12T10:06:49.137961Z"
    }
   },
   "outputs": [],
   "source": [
    "# gpus = tf.config.experimental.list_physical_devices('GPU')\n",
    "# tf.config.experimental.set_visible_devices(gpus[1], 'GPU')\n",
    "# tf.config.experimental.set_memory_growth(gpus[1], True)"
   ]
  },
  {
   "cell_type": "code",
   "execution_count": null,
   "id": "6aa400f9",
   "metadata": {
    "ExecuteTime": {
     "end_time": "2023-05-15T13:35:18.964180Z",
     "start_time": "2023-05-15T13:35:18.935479Z"
    }
   },
   "outputs": [],
   "source": [
    "model_dir = Path('weights/bin')"
   ]
  },
  {
   "cell_type": "code",
   "execution_count": null,
   "id": "82a0b465",
   "metadata": {
    "ExecuteTime": {
     "end_time": "2023-05-15T13:35:19.812999Z",
     "start_time": "2023-05-15T13:35:19.781535Z"
    }
   },
   "outputs": [],
   "source": [
    "IMAGE_SIZE=(80,60,3)"
   ]
  },
  {
   "cell_type": "markdown",
   "id": "de3e1922",
   "metadata": {},
   "source": [
    "## Build Model"
   ]
  },
  {
   "cell_type": "code",
   "execution_count": null,
   "id": "570e2ddc",
   "metadata": {
    "ExecuteTime": {
     "end_time": "2023-05-15T13:35:31.208965Z",
     "start_time": "2023-05-15T13:35:30.589316Z"
    },
    "scrolled": true
   },
   "outputs": [],
   "source": [
    "model = generator(scale=4,\n",
    "                  num_filters=64, \n",
    "                  num_res_blocks=8, \n",
    "                  shape=(IMAGE_SIZE), \n",
    "                  batch_size=1, \n",
    "                  batch_norm=True, \n",
    "                  activation='prelu',\n",
    "                  upsampling='PixelShuffle',\n",
    "                  return_features=False)\n",
    "#model.summary()\n",
    "model.compile() \n",
    "#model.load_weights('weights/srgan/pre_generator_small.h5')\n",
    "#model.load_weights('weights/srgan/pre_generator_small.h5')\n",
    "\n",
    "#model = generator_old(num_filters=64, num_res_blocks=16, shape=IMAGE_SIZE)\n",
    "model.load_weights('weights/srgan/edgesrgan.h5', by_name=True, skip_mismatch=True)"
   ]
  },
  {
   "cell_type": "code",
   "execution_count": null,
   "id": "bf4a7a79",
   "metadata": {
    "ExecuteTime": {
     "end_time": "2023-05-15T13:35:34.336874Z",
     "start_time": "2023-05-15T13:35:34.304656Z"
    }
   },
   "outputs": [],
   "source": [
    "model.input_shape"
   ]
  },
  {
   "cell_type": "code",
   "execution_count": null,
   "id": "22456692",
   "metadata": {
    "ExecuteTime": {
     "end_time": "2023-05-15T13:35:36.513617Z",
     "start_time": "2023-05-15T13:35:36.456208Z"
    },
    "scrolled": true
   },
   "outputs": [],
   "source": [
    "model.summary()"
   ]
  },
  {
   "cell_type": "markdown",
   "id": "7e3f41e5",
   "metadata": {},
   "source": [
    "## Convert to TFLite"
   ]
  },
  {
   "cell_type": "code",
   "execution_count": null,
   "id": "7c8cb386",
   "metadata": {
    "ExecuteTime": {
     "end_time": "2023-05-15T13:35:49.435581Z",
     "start_time": "2023-05-15T13:35:45.279821Z"
    }
   },
   "outputs": [],
   "source": [
    "converter = tf.lite.TFLiteConverter.from_keras_model(model)\n",
    "converter.experimental_new_converter = True\n",
    "tflite_model = converter.convert()\n",
    "\n",
    "name_model_tflite = 'edgesrgan.tflite'\n",
    "tflite_model_file = model_dir.joinpath(name_model_tflite)                          \n",
    "tflite_model_file.write_bytes(tflite_model)"
   ]
  },
  {
   "cell_type": "markdown",
   "id": "8014e59c",
   "metadata": {},
   "source": [
    "## Test TFLite Model"
   ]
  },
  {
   "cell_type": "code",
   "execution_count": null,
   "id": "d431c541",
   "metadata": {
    "ExecuteTime": {
     "end_time": "2023-05-15T13:38:38.084465Z",
     "start_time": "2023-05-15T13:38:37.555220Z"
    }
   },
   "outputs": [],
   "source": [
    "interpreter = tf.lite.Interpreter(model_path=\"weights/bin/edgesrgan.tflite\")\n",
    "interpreter.allocate_tensors()\n",
    "\n",
    "# Get input and output tensors.\n",
    "input_details = interpreter.get_input_details()\n",
    "output_details = interpreter.get_output_details()\n",
    "\n",
    "# Test the model on input data.\n",
    "input_shape = input_details[0]['shape']\n",
    "print(input_shape)\n",
    "image = Image.open('./figures/kd.png').convert('RGB')\n",
    "image = image.resize(input_shape[1:3])\n",
    "arr = np.swapaxes(np.asarray(image, dtype='float32'), 0, 1)[None,...]\n",
    "im_bicubic = image.resize(input_shape[1:3]*4, resample=Image.Resampling.BICUBIC)\n",
    "arr_bicubic = np.swapaxes(np.asarray(im_bicubic, dtype='uint8'), 0, 1)\n",
    "print(arr.shape)\n",
    "interpreter.set_tensor(input_details[0]['index'], arr)\n",
    "interpreter.invoke()\n",
    "output_data = interpreter.get_tensor(output_details[0]['index'])\n",
    "\n",
    "print(output_data.shape)\n",
    "plot_sample(arr[0].astype('uint8'), output_data.astype('uint8')[0])\n",
    "plot_sample(arr_bicubic, output_data.astype('uint8')[0])\n",
    "\n",
    "im = Image.fromarray(output_data.astype('uint8')[0])\n",
    "#im.save('./demo/img_sr.png')\n",
    "\n",
    "im = Image.fromarray(arr.astype('uint8')[0])\n",
    "#im.save('./demo/img_lr.png')\n",
    "\n",
    "#im = Image.open('./demo/0829x4-crop.png')\n",
    "#im.save('./demo/img_hr.png')"
   ]
  },
  {
   "cell_type": "markdown",
   "id": "124d3219",
   "metadata": {},
   "source": [
    "## Quantize to int8"
   ]
  },
  {
   "cell_type": "code",
   "execution_count": null,
   "id": "d75de9e6",
   "metadata": {
    "ExecuteTime": {
     "end_time": "2022-06-29T14:31:57.347343Z",
     "start_time": "2022-06-29T14:31:57.333491Z"
    }
   },
   "outputs": [],
   "source": [
    "def representative_dataset():\n",
    "    div2k_valid = DIV2K(scale=4, resolution=IMAGE_SIZE[1::-1], subset='valid', downgrade='bicubic', \n",
    "                        data_dir='/home/simone/SR/sr-edge/dataset/div2k/')\n",
    "    valid_ds = div2k_valid.dataset(batch_size=1, random_transform=False, repeat_count=1)\n",
    "    for i in valid_ds:\n",
    "        yield [tf.cast(i[1],tf.float32)]"
   ]
  },
  {
   "cell_type": "code",
   "execution_count": null,
   "id": "3584b6e3",
   "metadata": {
    "ExecuteTime": {
     "end_time": "2022-06-29T14:31:57.833195Z",
     "start_time": "2022-06-29T14:31:57.795478Z"
    }
   },
   "outputs": [],
   "source": [
    "# def representative_dataset():\n",
    "#     for _ in range(100):\n",
    "#         data = np.random.rand(IMAGE_SIZE[0], IMAGE_SIZE[1], IMAGE_SIZE[2])[None,...]*255\n",
    "#         yield [data.astype(np.float32)]"
   ]
  },
  {
   "cell_type": "code",
   "execution_count": null,
   "id": "984a81fd",
   "metadata": {
    "ExecuteTime": {
     "end_time": "2022-06-29T14:32:10.703180Z",
     "start_time": "2022-06-29T14:31:58.232712Z"
    }
   },
   "outputs": [],
   "source": [
    "converter = tf.lite.TFLiteConverter.from_keras_model(model)\n",
    "converter.optimizations = [tf.lite.Optimize.DEFAULT]\n",
    "converter.representative_dataset = representative_dataset\n",
    "converter.target_spec.supported_ops = [tf.lite.OpsSet.TFLITE_BUILTINS_INT8]\n",
    "converter.inference_input_type = tf.uint8\n",
    "converter.inference_output_type = tf.uint8  \n",
    "converter.allow_custom_ops = True\n",
    "converter.experimental_new_converter = True\n",
    "converter.experimental_new_quantizer = True\n",
    "\n",
    "tflite_quant_model = converter.convert()\n",
    "\n",
    "name_model_tflite = 'srgan_converted_int8.tflite'\n",
    "tflite_model_file = model_dir.joinpath(name_model_tflite)\n",
    "tflite_model_file.write_bytes(tflite_quant_model)"
   ]
  },
  {
   "cell_type": "markdown",
   "id": "5d7f87fe",
   "metadata": {},
   "source": [
    "## Test Quantized Model"
   ]
  },
  {
   "cell_type": "code",
   "execution_count": null,
   "id": "6ced7032",
   "metadata": {
    "ExecuteTime": {
     "end_time": "2022-06-29T14:32:16.742939Z",
     "start_time": "2022-06-29T14:32:10.969014Z"
    },
    "code_folding": [
     0
    ],
    "scrolled": false
   },
   "outputs": [],
   "source": [
    "#\n",
    "interpreter = tf.lite.Interpreter(model_path=\"bin/srgan_converted_int8.tflite\")\n",
    "interpreter.allocate_tensors()\n",
    "\n",
    "# Get input and output tensors.\n",
    "input_details = interpreter.get_input_details()\n",
    "output_details = interpreter.get_output_details()\n",
    "\n",
    "# Test the model on input data.\n",
    "input_shape = input_details[0]['shape']\n",
    "print(input_shape)\n",
    "image = Image.open('./demo/0823x4-crop.jpeg')\n",
    "image = image.resize(input_shape[1:3])\n",
    "\n",
    "#arr = tf.convert_to_tensor(np.asarray(image, dtype='uint8'))\n",
    "input_data = np.swapaxes(np.array(image), 0, 1)[None,...]\n",
    "\n",
    "input_scale, input_zero_point = input_details[0]['quantization']\n",
    "test_image_int = input_data / input_scale + input_zero_point\n",
    "test_image_int=test_image_int.astype(input_details[0]['dtype'])\n",
    "\n",
    "interpreter.set_tensor(input_details[0]['index'], test_image_int)\n",
    "interpreter.invoke()\n",
    "output_data = interpreter.get_tensor(output_details[0]['index'])\n",
    "\n",
    "scale, zero_point = output_details[0]['quantization']\n",
    "output_data = output_data.astype(np.float32)\n",
    "output_data = (output_data- zero_point)* scale\n",
    "\n",
    "print(input_scale)\n",
    "#print(output_data)\n",
    "print(input_details[0][\"quantization\"])\n",
    "\n",
    "print(output_data.shape)\n",
    "plot_sample(input_data[0].astype('uint8'), output_data.astype('uint8')[0])\n",
    "\n",
    "im = Image.fromarray(output_data.astype('uint8')[0])\n",
    "im.save('./demo/img_sr_quant.png')"
   ]
  },
  {
   "cell_type": "code",
   "execution_count": null,
   "id": "eace8d4d",
   "metadata": {
    "ExecuteTime": {
     "end_time": "2022-06-29T14:29:51.418821Z",
     "start_time": "2022-06-29T14:29:45.643808Z"
    },
    "code_folding": [
     0
    ],
    "scrolled": false
   },
   "outputs": [],
   "source": [
    "#\n",
    "interpreter = tf.lite.Interpreter(model_path=\"bin/srgan_converted_int8.tflite\")\n",
    "interpreter.allocate_tensors()\n",
    "\n",
    "# Get input and output tensors.\n",
    "input_details = interpreter.get_input_details()\n",
    "output_details = interpreter.get_output_details()\n",
    "\n",
    "# Test the model on input data.\n",
    "input_shape = input_details[0]['shape']\n",
    "print(input_shape)\n",
    "image = Image.open('./demo/0823x4-crop.jpeg')\n",
    "image = image.resize(input_shape[1:3])\n",
    "\n",
    "#arr = tf.convert_to_tensor(np.asarray(image, dtype='uint8'))\n",
    "input_data = np.swapaxes(np.array(image), 0, 1)[None,...]\n",
    "\n",
    "input_scale, input_zero_point = input_details[0]['quantization']\n",
    "test_image_int = input_data / input_scale + input_zero_point\n",
    "test_image_int=test_image_int.astype(input_details[0]['dtype'])\n",
    "\n",
    "interpreter.set_tensor(input_details[0]['index'], test_image_int)\n",
    "interpreter.invoke()\n",
    "output_data = interpreter.get_tensor(output_details[0]['index'])\n",
    "\n",
    "scale, zero_point = output_details[0]['quantization']\n",
    "output_data = output_data.astype(np.float32)\n",
    "output_data = (output_data- zero_point)* scale\n",
    "\n",
    "print(input_scale)\n",
    "#print(output_data)\n",
    "print(input_details[0][\"quantization\"])\n",
    "\n",
    "print(output_data.shape)\n",
    "plot_sample(input_data[0].astype('uint8'), output_data.astype('uint8')[0])\n",
    "\n",
    "im = Image.fromarray(output_data.astype('uint8')[0])\n",
    "im.save('./demo/img_sr_quant.png')"
   ]
  },
  {
   "cell_type": "code",
   "execution_count": null,
   "id": "447b8899",
   "metadata": {
    "ExecuteTime": {
     "end_time": "2022-06-29T14:32:23.906392Z",
     "start_time": "2022-06-29T14:32:23.881920Z"
    }
   },
   "outputs": [],
   "source": [
    "input_details"
   ]
  },
  {
   "cell_type": "markdown",
   "id": "34ab3e02",
   "metadata": {},
   "source": [
    "## Compile for EdgeTPU"
   ]
  },
  {
   "cell_type": "code",
   "execution_count": null,
   "id": "41617164",
   "metadata": {
    "ExecuteTime": {
     "end_time": "2022-06-29T14:32:25.487811Z",
     "start_time": "2022-06-29T14:32:25.069521Z"
    },
    "scrolled": true
   },
   "outputs": [],
   "source": [
    "!edgetpu_compiler bin/srgan_converted_int8.tflite -o ./bin/ -sad"
   ]
  },
  {
   "cell_type": "markdown",
   "id": "120ad39c",
   "metadata": {},
   "source": [
    "# Test TFLite float32"
   ]
  },
  {
   "cell_type": "code",
   "execution_count": null,
   "id": "d6aba7c9",
   "metadata": {
    "ExecuteTime": {
     "start_time": "2022-07-29T10:47:07.219Z"
    },
    "scrolled": true
   },
   "outputs": [],
   "source": [
    "import numpy as np\n",
    "import tensorflow as tf\n",
    "import time\n",
    "\n",
    "# Load the TFLite model and allocate tensors.\n",
    "interpreter = tf.lite.Interpreter(model_path='bin/srgan.tflite')\n",
    "interpreter.allocate_tensors()\n",
    "\n",
    "# Get input and output tensors.\n",
    "input_details = interpreter.get_input_details()\n",
    "output_details = interpreter.get_output_details()\n",
    "\n",
    "# Test the model on random input data.\n",
    "input_shape = input_details[0]['shape']\n",
    "image = Image.open('./demo/0823x4-crop.jpeg')\n",
    "image = image.resize(input_shape[1:3])\n",
    "input_data = np.swapaxes(np.array(image, dtype=np.float32), 0, 1)[None,...]\n",
    "interpreter.set_tensor(input_details[0]['index'], input_data)\n",
    "\n",
    "# Run inference\n",
    "print('----INFERENCE TIME----')\n",
    "lat = []\n",
    "for _ in range(100):\n",
    "    start = time.perf_counter()\n",
    "    interpreter.invoke()\n",
    "    inference_time = time.perf_counter() - start\n",
    "    lat.append(inference_time)\n",
    "    print('%.1fms' % (inference_time * 1000))\n",
    "_ = lat.pop()\n",
    "print(f'Average Speed: {1/np.mean(np.array(lat))} fps')\n",
    "\n",
    "# The function `get_tensor()` returns a copy of the tensor data.\n",
    "# Use `tensor()` in order to get a pointer to the tensor.\n",
    "output_data = interpreter.get_tensor(output_details[0]['index'])\n",
    "#print(output_data)\n"
   ]
  },
  {
   "cell_type": "markdown",
   "id": "a37e362e",
   "metadata": {
    "ExecuteTime": {
     "end_time": "2022-05-06T10:31:34.327993Z",
     "start_time": "2022-05-06T10:31:34.308198Z"
    },
    "heading_collapsed": true
   },
   "source": [
    "# LR Scheduler"
   ]
  },
  {
   "cell_type": "code",
   "execution_count": null,
   "id": "0d6a1526",
   "metadata": {
    "ExecuteTime": {
     "end_time": "2022-06-24T15:29:30.788568Z",
     "start_time": "2022-06-24T15:29:29.829112Z"
    },
    "hidden": true
   },
   "outputs": [],
   "source": [
    "import tensorflow as tf\n",
    "from tensorflow.keras.optimizers import schedules\n",
    "import matplotlib.pyplot as plt"
   ]
  },
  {
   "cell_type": "code",
   "execution_count": null,
   "id": "e54e8f32",
   "metadata": {
    "ExecuteTime": {
     "end_time": "2022-06-24T15:35:28.863024Z",
     "start_time": "2022-06-24T15:35:27.346053Z"
    },
    "hidden": true,
    "scrolled": true
   },
   "outputs": [],
   "source": [
    "N = 1000\n",
    "\n",
    "scheds = [schedules.ExponentialDecay(3e-4, N, 0.01),\n",
    "          schedules.InverseTimeDecay(1e-3, N, 0.1),\n",
    "          schedules.PolynomialDecay(1e-3, N, 1e-5, power=2),\n",
    "          schedules.PiecewiseConstantDecay([0],[1e-3,1e-3])\n",
    "         ]\n",
    "\n",
    "for sched in scheds:\n",
    "    lr = []\n",
    "    for i in range (N):\n",
    "        lr.append(sched(i))\n",
    "    plt.plot(lr)\n",
    "    plt.show()\n",
    "    print(lr[-1])"
   ]
  },
  {
   "cell_type": "markdown",
   "id": "7bf8e0a4",
   "metadata": {
    "heading_collapsed": true
   },
   "source": [
    "# Random Crop"
   ]
  },
  {
   "cell_type": "code",
   "execution_count": null,
   "id": "9e529e2f",
   "metadata": {
    "ExecuteTime": {
     "end_time": "2022-06-28T13:13:21.696596Z",
     "start_time": "2022-06-28T13:13:21.634923Z"
    },
    "hidden": true
   },
   "outputs": [],
   "source": [
    "import numpy as np\n",
    "import tensorflow as tf\n",
    "from pathlib import Path\n",
    "from PIL import Image\n",
    "    \n",
    "from utils.srgan_tools import resolve_single\n",
    "from utils.srgan import generator\n",
    "from utils.tools import load_image, plot_sample\n",
    "\n",
    "import numpy as np\n",
    "import tensorflow as tf\n",
    "from PIL import Image\n",
    "\n",
    "import matplotlib.pyplot as plt \n",
    "\n",
    "%matplotlib inline\n",
    "%load_ext autoreload\n",
    "%autoreload 2"
   ]
  },
  {
   "cell_type": "code",
   "execution_count": null,
   "id": "63139cde",
   "metadata": {
    "ExecuteTime": {
     "end_time": "2022-06-28T13:13:24.598987Z",
     "start_time": "2022-06-28T13:13:24.579145Z"
    },
    "hidden": true
   },
   "outputs": [],
   "source": [
    "from utils.data import *"
   ]
  },
  {
   "cell_type": "code",
   "execution_count": null,
   "id": "83f3a357",
   "metadata": {
    "ExecuteTime": {
     "end_time": "2022-06-28T13:13:26.949641Z",
     "start_time": "2022-06-28T13:13:26.931009Z"
    },
    "hidden": true
   },
   "outputs": [],
   "source": [
    "def random_crop(lr_img, hr_img, hr_crop_size=(96,128), scale=4):\n",
    "    lr_crop_size = tuple(s // scale for s in hr_crop_size)\n",
    "    lr_img_shape = tf.shape(lr_img)[:2]\n",
    "    \n",
    "    print(lr_crop_size)\n",
    "    print(lr_img_shape)\n",
    "    \n",
    "    lr_w = tf.random.uniform(shape=(), maxval=lr_img_shape[1] - lr_crop_size[1] + 1, dtype=tf.int32)\n",
    "    lr_h = tf.random.uniform(shape=(), maxval=lr_img_shape[0] - lr_crop_size[0] + 1, dtype=tf.int32)\n",
    "\n",
    "    print(lr_w.numpy(), lr_h.numpy())\n",
    "    \n",
    "    hr_w = lr_w * scale\n",
    "    hr_h = lr_h * scale\n",
    "\n",
    "    lr_img_cropped = lr_img[lr_h:lr_h + lr_crop_size[0], lr_w:lr_w + lr_crop_size[1]]\n",
    "    hr_img_cropped = hr_img[hr_h:hr_h + hr_crop_size[0], hr_w:hr_w + hr_crop_size[1]]\n",
    "\n",
    "    return lr_img_cropped, hr_img_cropped"
   ]
  },
  {
   "cell_type": "code",
   "execution_count": null,
   "id": "5ed245b0",
   "metadata": {
    "ExecuteTime": {
     "end_time": "2022-05-19T14:43:37.683846Z",
     "start_time": "2022-05-19T14:43:37.192736Z"
    },
    "hidden": true
   },
   "outputs": [],
   "source": [
    "hr = Image.open('../../super_resolution/div2k/images/DIV2K_valid_LR_bicubic/X4/0898x4.png')\n",
    "lr = hr.resize(tuple(dim // 4 for dim in hr.size))\n",
    "display(hr, lr)\n",
    "print(hr.size, lr.size)\n",
    "\n",
    "plt.imshow(tf.io.decode_jpeg(tf.io.encode_jpeg(hr)))\n",
    "plt.show()\n",
    "plt.imshow(hr)\n",
    "plt.show()\n",
    "plt.imshow(hr - tf.io.decode_jpeg(tf.io.encode_jpeg(hr)))\n",
    "plt.show()"
   ]
  },
  {
   "cell_type": "code",
   "execution_count": null,
   "id": "620d381e",
   "metadata": {
    "ExecuteTime": {
     "end_time": "2022-05-19T14:12:04.659353Z",
     "start_time": "2022-05-19T14:12:02.504351Z"
    },
    "hidden": true
   },
   "outputs": [],
   "source": [
    "hr_t = tf.keras.preprocessing.image.img_to_array(hr)\n",
    "lr_t = tf.keras.preprocessing.image.img_to_array(lr)\n",
    "\n",
    "# [24 32  3] [ 96 128   3]\n",
    "\n",
    "for i in range(100):\n",
    "    crop_lr, crop_hr = random_crop(lr_t, hr_t)\n",
    "    if (tf.shape(crop_lr).numpy()[0] != 24 or \n",
    "        tf.shape(crop_lr).numpy()[1] != 32 or \n",
    "        tf.shape(crop_hr).numpy()[0] != 96 or\n",
    "        tf.shape(crop_hr).numpy()[1] != 128):\n",
    "        print(tf.shape(crop_lr).numpy(), tf.shape(crop_hr).numpy())\n",
    "        raise"
   ]
  },
  {
   "cell_type": "code",
   "execution_count": null,
   "id": "cbe87e28",
   "metadata": {
    "ExecuteTime": {
     "end_time": "2022-05-19T14:12:04.925857Z",
     "start_time": "2022-05-19T14:12:04.686911Z"
    },
    "hidden": true
   },
   "outputs": [],
   "source": [
    "plt.imshow(crop_hr.astype('uint8'))\n",
    "plt.show()\n",
    "plt.imshow(crop_lr.astype('uint8')) \n",
    "plt.show()"
   ]
  },
  {
   "cell_type": "code",
   "execution_count": null,
   "id": "12bc7f25",
   "metadata": {
    "ExecuteTime": {
     "end_time": "2022-06-28T13:13:29.407868Z",
     "start_time": "2022-06-28T13:13:29.387262Z"
    },
    "hidden": true
   },
   "outputs": [],
   "source": [
    "a = DIV2K(scale=4, resolution=(160*4,120*4), downgrade='bicubic', subset='valid',\n",
    "          images_dir='/home/simone/SR/sr-edge/dataset/div2k/images',\n",
    "          caches_dir='/home/simone/SR/sr-edge/dataset/div2k/caches')"
   ]
  },
  {
   "cell_type": "code",
   "execution_count": null,
   "id": "13b7936f",
   "metadata": {
    "ExecuteTime": {
     "end_time": "2022-06-28T13:14:11.622250Z",
     "start_time": "2022-06-28T13:14:11.482994Z"
    },
    "hidden": true
   },
   "outputs": [],
   "source": [
    "ds = a.dataset(random_transform=True, batch_size=16, repeat_count=1)"
   ]
  },
  {
   "cell_type": "code",
   "execution_count": null,
   "id": "88811925",
   "metadata": {
    "ExecuteTime": {
     "end_time": "2022-06-28T13:14:12.962277Z",
     "start_time": "2022-06-28T13:14:12.941204Z"
    },
    "hidden": true
   },
   "outputs": [],
   "source": [
    "len(ds)"
   ]
  },
  {
   "cell_type": "code",
   "execution_count": null,
   "id": "3328668d",
   "metadata": {
    "ExecuteTime": {
     "end_time": "2022-06-28T13:14:35.710886Z",
     "start_time": "2022-06-28T13:14:35.291406Z"
    },
    "hidden": true
   },
   "outputs": [],
   "source": [
    "for i in ds.take(20):\n",
    "    print(i[0].shape, i[1].shape)"
   ]
  },
  {
   "cell_type": "code",
   "execution_count": null,
   "id": "02c187da",
   "metadata": {
    "ExecuteTime": {
     "end_time": "2022-06-03T09:19:15.311939Z",
     "start_time": "2022-06-03T09:19:15.010833Z"
    },
    "hidden": true
   },
   "outputs": [],
   "source": [
    "for i in ds:\n",
    "    print(i[0][0].shape)\n",
    "    plt.imshow(i[0][0])\n",
    "    break"
   ]
  },
  {
   "cell_type": "markdown",
   "id": "ea5e748b",
   "metadata": {
    "heading_collapsed": true
   },
   "source": [
    "# Shit"
   ]
  },
  {
   "cell_type": "code",
   "execution_count": null,
   "id": "cf48d2ec",
   "metadata": {
    "ExecuteTime": {
     "end_time": "2022-07-04T09:30:18.842078Z",
     "start_time": "2022-07-04T09:30:18.653778Z"
    },
    "hidden": true
   },
   "outputs": [],
   "source": [
    "from utils.tools import read_yaml\n",
    "import pprint"
   ]
  },
  {
   "cell_type": "code",
   "execution_count": null,
   "id": "3bd86557",
   "metadata": {
    "ExecuteTime": {
     "end_time": "2022-07-04T09:30:19.066284Z",
     "start_time": "2022-07-04T09:30:19.059119Z"
    },
    "hidden": true
   },
   "outputs": [],
   "source": [
    "config = read_yaml('utils/config.yaml')"
   ]
  },
  {
   "cell_type": "code",
   "execution_count": null,
   "id": "fe8cc4df",
   "metadata": {
    "ExecuteTime": {
     "end_time": "2022-07-04T09:30:19.707879Z",
     "start_time": "2022-07-04T09:30:19.705514Z"
    },
    "hidden": true
   },
   "outputs": [],
   "source": [
    "def pretty(d, indent=0):\n",
    "    for key, value in d.items():\n",
    "        print('\\t' * indent + str(key))\n",
    "        if isinstance(value, dict):\n",
    "            pretty(value, indent+1)\n",
    "        else:\n",
    "            print('\\t' * (indent+1) + str(value))"
   ]
  },
  {
   "cell_type": "code",
   "execution_count": null,
   "id": "ed377551",
   "metadata": {
    "ExecuteTime": {
     "end_time": "2022-07-04T09:30:20.060218Z",
     "start_time": "2022-07-04T09:30:20.058244Z"
    },
    "hidden": true
   },
   "outputs": [],
   "source": [
    "pp = pprint.PrettyPrinter(depth=1)"
   ]
  },
  {
   "cell_type": "code",
   "execution_count": null,
   "id": "69767582",
   "metadata": {
    "ExecuteTime": {
     "end_time": "2022-07-04T09:30:20.366724Z",
     "start_time": "2022-07-04T09:30:20.364097Z"
    },
    "hidden": true
   },
   "outputs": [],
   "source": [
    "k = [config['MODE']]"
   ]
  },
  {
   "cell_type": "code",
   "execution_count": null,
   "id": "a9715426",
   "metadata": {
    "ExecuteTime": {
     "end_time": "2022-07-04T09:30:21.241325Z",
     "start_time": "2022-07-04T09:30:21.237135Z"
    },
    "hidden": true,
    "scrolled": true
   },
   "outputs": [],
   "source": [
    "pp.pprint(config[config['MODE']])"
   ]
  },
  {
   "cell_type": "code",
   "execution_count": null,
   "id": "cd28367a",
   "metadata": {
    "ExecuteTime": {
     "end_time": "2022-07-04T09:30:22.138064Z",
     "start_time": "2022-07-04T09:30:22.134932Z"
    },
    "hidden": true
   },
   "outputs": [],
   "source": [
    "pp.pformat(config[config['MODE']])"
   ]
  },
  {
   "cell_type": "code",
   "execution_count": null,
   "id": "ae338ece",
   "metadata": {
    "ExecuteTime": {
     "end_time": "2022-07-04T09:30:23.070826Z",
     "start_time": "2022-07-04T09:30:23.068545Z"
    },
    "hidden": true
   },
   "outputs": [],
   "source": [
    "type(config[config['MODE']]['BATCH_SIZE'])"
   ]
  },
  {
   "cell_type": "code",
   "execution_count": null,
   "id": "7695e528",
   "metadata": {
    "ExecuteTime": {
     "end_time": "2022-07-04T09:30:23.912230Z",
     "start_time": "2022-07-04T09:30:23.908765Z"
    },
    "hidden": true
   },
   "outputs": [],
   "source": [
    "tuple(config['PATCH_SIZE'])"
   ]
  },
  {
   "cell_type": "code",
   "execution_count": null,
   "id": "a2406764",
   "metadata": {
    "ExecuteTime": {
     "end_time": "2022-07-04T09:30:24.349722Z",
     "start_time": "2022-07-04T09:30:24.347312Z"
    },
    "hidden": true
   },
   "outputs": [],
   "source": [
    "float(config[config['MODE']]['LR'])"
   ]
  },
  {
   "cell_type": "code",
   "execution_count": null,
   "id": "7887f38d",
   "metadata": {
    "ExecuteTime": {
     "end_time": "2022-07-07T20:54:48.451914Z",
     "start_time": "2022-07-07T20:54:48.274146Z"
    },
    "hidden": true
   },
   "outputs": [],
   "source": [
    "from utils.srgan import generator\n",
    "import tensorflow as tf\n",
    "d = generator(num_filters=32, num_res_blocks=4, shape=(96,96,3))"
   ]
  },
  {
   "cell_type": "code",
   "execution_count": null,
   "id": "ae655856",
   "metadata": {
    "ExecuteTime": {
     "end_time": "2022-07-07T20:54:49.596081Z",
     "start_time": "2022-07-07T20:54:49.587055Z"
    },
    "hidden": true,
    "scrolled": true
   },
   "outputs": [],
   "source": [
    "d.summary()"
   ]
  },
  {
   "cell_type": "code",
   "execution_count": null,
   "id": "metropolitan-pledge",
   "metadata": {
    "ExecuteTime": {
     "end_time": "2022-07-07T20:54:50.271961Z",
     "start_time": "2022-07-07T20:54:50.259699Z"
    },
    "hidden": true
   },
   "outputs": [],
   "source": [
    "o, f = d(np.random.rand(16,96,96,3))"
   ]
  },
  {
   "cell_type": "code",
   "execution_count": null,
   "id": "solved-connection",
   "metadata": {
    "ExecuteTime": {
     "end_time": "2022-07-07T20:54:51.058079Z",
     "start_time": "2022-07-07T20:54:51.049462Z"
    },
    "hidden": true
   },
   "outputs": [],
   "source": [
    "f.shape"
   ]
  },
  {
   "cell_type": "code",
   "execution_count": null,
   "id": "contemporary-bible",
   "metadata": {
    "ExecuteTime": {
     "end_time": "2022-07-07T20:54:52.083053Z",
     "start_time": "2022-07-07T20:54:52.071202Z"
    },
    "hidden": true
   },
   "outputs": [],
   "source": [
    "ff = tf.gather(f,[1,2,4])"
   ]
  },
  {
   "cell_type": "code",
   "execution_count": null,
   "id": "latest-variance",
   "metadata": {
    "ExecuteTime": {
     "end_time": "2022-07-07T20:54:53.856073Z",
     "start_time": "2022-07-07T20:54:53.847386Z"
    },
    "hidden": true
   },
   "outputs": [],
   "source": [
    "ff.shape"
   ]
  },
  {
   "cell_type": "code",
   "execution_count": null,
   "id": "1c35f9bc",
   "metadata": {
    "ExecuteTime": {
     "end_time": "2022-06-30T13:46:43.990338Z",
     "start_time": "2022-06-30T13:46:43.985796Z"
    },
    "hidden": true
   },
   "outputs": [],
   "source": [
    "def should_save(m):\n",
    "    if not 'best_metr' in globals():\n",
    "        return True\n",
    "    elif m > best_metr:\n",
    "        return 'PSNR' == 'PSNR'\n",
    "    else:\n",
    "        return 'PSNR' == 'NIQE'"
   ]
  },
  {
   "cell_type": "code",
   "execution_count": null,
   "id": "8647ab4d",
   "metadata": {
    "ExecuteTime": {
     "end_time": "2022-06-30T13:47:02.459030Z",
     "start_time": "2022-06-30T13:47:02.451592Z"
    },
    "hidden": true
   },
   "outputs": [],
   "source": [
    "should_save(11)"
   ]
  },
  {
   "cell_type": "code",
   "execution_count": null,
   "id": "b58e99f7",
   "metadata": {
    "ExecuteTime": {
     "end_time": "2022-06-30T13:46:53.541667Z",
     "start_time": "2022-06-30T13:46:53.536956Z"
    },
    "hidden": true
   },
   "outputs": [],
   "source": [
    "best_metr = 10"
   ]
  }
 ],
 "metadata": {
  "kernelspec": {
   "display_name": "SR",
   "language": "python",
   "name": "sr"
  },
  "language_info": {
   "codemirror_mode": {
    "name": "ipython",
    "version": 3
   },
   "file_extension": ".py",
   "mimetype": "text/x-python",
   "name": "python",
   "nbconvert_exporter": "python",
   "pygments_lexer": "ipython3",
   "version": "3.10.5"
  },
  "toc": {
   "base_numbering": 1,
   "nav_menu": {},
   "number_sections": true,
   "sideBar": true,
   "skip_h1_title": false,
   "title_cell": "Table of Contents",
   "title_sidebar": "Contents",
   "toc_cell": false,
   "toc_position": {},
   "toc_section_display": true,
   "toc_window_display": false
  },
  "varInspector": {
   "cols": {
    "lenName": 16,
    "lenType": 16,
    "lenVar": 40
   },
   "kernels_config": {
    "python": {
     "delete_cmd_postfix": "",
     "delete_cmd_prefix": "del ",
     "library": "var_list.py",
     "varRefreshCmd": "print(var_dic_list())"
    },
    "r": {
     "delete_cmd_postfix": ") ",
     "delete_cmd_prefix": "rm(",
     "library": "var_list.r",
     "varRefreshCmd": "cat(var_dic_list()) "
    }
   },
   "types_to_exclude": [
    "module",
    "function",
    "builtin_function_or_method",
    "instance",
    "_Feature"
   ],
   "window_display": false
  }
 },
 "nbformat": 4,
 "nbformat_minor": 5
}
